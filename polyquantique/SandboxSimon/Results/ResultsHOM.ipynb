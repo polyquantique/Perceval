{
 "cells": [
  {
   "cell_type": "code",
   "execution_count": 1,
   "metadata": {},
   "outputs": [],
   "source": [
    "import perceval as pcvl\n",
    "import numpy as np\n",
    "import itertools\n",
    "from Simulation import create_inputs, calculate_proba\n",
    "from Functions import Gaussian, Schmidt, Exponential, Lowdin, Lrz, modified_Schmidt\n",
    "import matplotlib.pyplot as plt\n",
    "import scipy as sc\n"
   ]
  },
  {
   "cell_type": "code",
   "execution_count": 2,
   "metadata": {},
   "outputs": [
    {
     "data": {
      "image/svg+xml": "<?xml version=\"1.0\" encoding=\"UTF-8\"?>\n<svg xmlns=\"http://www.w3.org/2000/svg\" xmlns:xlink=\"http://www.w3.org/1999/xlink\"\n     width=\"312.5\" height=\"312.5\" viewBox=\"-28.0 0 250 250\">\n<defs>\n</defs>\n<path d=\"M10,25 L25,25\" stroke-width=\"3\" stroke=\"darkred\" stroke-linejoin=\"miter\" fill=\"none\" />\n<path d=\"M10,75 L25,75\" stroke-width=\"3\" stroke=\"darkred\" stroke-linejoin=\"miter\" fill=\"none\" />\n<path d=\"M10,125 L25,125\" stroke-width=\"3\" stroke=\"darkred\" stroke-linejoin=\"miter\" fill=\"none\" />\n<path d=\"M10,175 L25,175\" stroke-width=\"3\" stroke=\"darkred\" stroke-linejoin=\"miter\" fill=\"none\" />\n<path d=\"M25,25 L53,25 L72,44\" stroke=\"darkred\" stroke-width=\"3\" fill=\"none\" />\n<path d=\"M78,44 L97,25 L125,25\" stroke=\"darkred\" stroke-width=\"3\" fill=\"none\" />\n<path d=\"M25,75 L53,75 L72,56\" stroke=\"darkred\" stroke-width=\"3\" fill=\"none\" />\n<path d=\"M78,56 L97,75 L125,75\" stroke=\"darkred\" stroke-width=\"3\" fill=\"none\" />\n<path d=\"M50,43 L100,43 L100,57 L50,57 Z\" stroke=\"black\" fill=\"black\" stroke-linejoin=\"miter\" />\n<text x=\"75\" y=\"85\" font-size=\"7\" text-anchor=\"middle\" dy=\"0em\"></text>\n<text x=\"75\" y=\"26\" font-size=\"7\" text-anchor=\"middle\" dy=\"0em\"></text>\n<path d=\"M50,43 L100,43 L100,47 L50,47 Z\" stroke=\"black\" fill=\"lightgray\" stroke-linejoin=\"miter\" />\n<path d=\"M93,50 L103,50 L103,60 L93,60 Z\" stroke=\"black\" fill=\"thistle\" stroke-linejoin=\"miter\" />\n<text x=\"98\" y=\"57\" font-size=\"6\" text-anchor=\"middle\" dy=\"0em\">Rx</text>\n<path d=\"M25,125 L53,125 L72,144\" stroke=\"darkred\" stroke-width=\"3\" fill=\"none\" />\n<path d=\"M78,144 L97,125 L125,125\" stroke=\"darkred\" stroke-width=\"3\" fill=\"none\" />\n<path d=\"M25,175 L53,175 L72,156\" stroke=\"darkred\" stroke-width=\"3\" fill=\"none\" />\n<path d=\"M78,156 L97,175 L125,175\" stroke=\"darkred\" stroke-width=\"3\" fill=\"none\" />\n<path d=\"M50,143 L100,143 L100,157 L50,157 Z\" stroke=\"black\" fill=\"black\" stroke-linejoin=\"miter\" />\n<text x=\"75\" y=\"185\" font-size=\"7\" text-anchor=\"middle\" dy=\"0em\"></text>\n<text x=\"75\" y=\"126\" font-size=\"7\" text-anchor=\"middle\" dy=\"0em\"></text>\n<path d=\"M50,143 L100,143 L100,147 L50,147 Z\" stroke=\"black\" fill=\"lightgray\" stroke-linejoin=\"miter\" />\n<path d=\"M93,150 L103,150 L103,160 L93,160 Z\" stroke=\"black\" fill=\"thistle\" stroke-linejoin=\"miter\" />\n<text x=\"98\" y=\"157\" font-size=\"6\" text-anchor=\"middle\" dy=\"0em\">Rx</text>\n<path d=\"M125,25 L140,25\" stroke-width=\"3\" stroke=\"darkred\" stroke-linejoin=\"miter\" fill=\"none\" />\n<path d=\"M125,75 L140,75\" stroke-width=\"3\" stroke=\"darkred\" stroke-linejoin=\"miter\" fill=\"none\" />\n<path d=\"M125,125 L140,125\" stroke-width=\"3\" stroke=\"darkred\" stroke-linejoin=\"miter\" fill=\"none\" />\n<path d=\"M125,175 L140,175\" stroke-width=\"3\" stroke=\"darkred\" stroke-linejoin=\"miter\" fill=\"none\" />\n<text x=\"150\" y=\"28\" font-size=\"6\" text-anchor=\"end\" dy=\"0em\">0</text>\n<text x=\"150\" y=\"78\" font-size=\"6\" text-anchor=\"end\" dy=\"0em\">1</text>\n<text x=\"150\" y=\"128\" font-size=\"6\" text-anchor=\"end\" dy=\"0em\">2</text>\n<text x=\"150\" y=\"178\" font-size=\"6\" text-anchor=\"end\" dy=\"0em\">3</text>\n<text x=\"0\" y=\"28\" font-size=\"6\" text-anchor=\"start\" dy=\"0em\">0</text>\n<text x=\"0\" y=\"78\" font-size=\"6\" text-anchor=\"start\" dy=\"0em\">1</text>\n<text x=\"0\" y=\"128\" font-size=\"6\" text-anchor=\"start\" dy=\"0em\">2</text>\n<text x=\"0\" y=\"178\" font-size=\"6\" text-anchor=\"start\" dy=\"0em\">3</text>\n</svg>",
      "text/plain": [
       "<drawSvg.drawing.Drawing at 0x7fc33635c0d0>"
      ]
     },
     "execution_count": 2,
     "metadata": {},
     "output_type": "execute_result"
    }
   ],
   "source": [
    "## Create the circuit\n",
    "\n",
    "n = 2 #Nombre de modes spatiaux\n",
    "m = 2 #Nombre de modes internes\n",
    "k = 2 #Nombre de photon\n",
    "circuit = pcvl.Circuit(n*m)\n",
    "circuit.add((0,1), pcvl.BS())\n",
    "circuit.add((2,3),pcvl.BS())\n",
    "\n",
    "pcvl.pdisplay(circuit)"
   ]
  },
  {
   "cell_type": "code",
   "execution_count": 5,
   "metadata": {},
   "outputs": [],
   "source": [
    "## Getting the c vector \n",
    "env_type = 1  # 1=Gaussian, 2=exponential\n",
    "N = 100  # number of x points to plot the wave functions\n",
    "N_shift = 2  # total number of shifted wave functions\n",
    "waves = np.zeros((N_shift, N))  # values for each wave function\n",
    "\n",
    "sigma_wave = 0.5  # standard deviation of wave function\n",
    "x = np.linspace(-16 * sigma_wave, 16 * sigma_wave, N)  # position values\n",
    "\n",
    "shift_list=np.linspace(-8*sigma_wave,8*sigma_wave,100)\n",
    "C2S=np.zeros(len(shift_list))\n",
    "C2MGS = np.zeros_like(C2S)\n",
    "CL11 = np.zeros_like(C2S)\n",
    "CL12 = np.zeros_like(C2S)\n",
    "CL21 = np.zeros_like(C2S)\n",
    "CL22 = np.zeros_like(C2S)\n",
    "for k in range(len(shift_list)):\n",
    "    shift=shift_list[k]\n",
    "    x_shift=np.array([0,shift])\n",
    "    for i in range(N_shift):\n",
    "        waves[i] = Gaussian(x-x_shift[i], sigma_wave)\n",
    "\n",
    "    new_base,coeffsS=Schmidt(waves,x)\n",
    "    new_base,coeffsL = Lowdin(waves,x)\n",
    "    new_base,coeffsMGS = modified_Schmidt(waves,x)\n",
    "    C2MGS[k] = coeffsMGS[1,1]\n",
    "    C2S[k]=coeffsS[1,1]\n",
    "    CL11[k] = coeffsL[0,0]\n",
    "    CL12[k] = coeffsL[0,1]\n",
    "    CL21[k] = coeffsL[1,0]\n",
    "    CL22[k] = coeffsL[1,1]\n"
   ]
  },
  {
   "cell_type": "code",
   "execution_count": 7,
   "metadata": {},
   "outputs": [
    {
     "name": "stdout",
     "output_type": "stream",
     "text": [
      "[0.99999994 0.99999989 0.9999998  0.99999963 0.99999933 0.99999879\n",
      " 0.99999785 0.99999623 0.99999347 0.99998885 0.9999812  0.99996871\n",
      " 0.9999486  0.99991666 0.99986664 0.99978935 0.99967158 0.99949459\n",
      " 0.99923229 0.99884892 0.99829635 0.99751094 0.99641007 0.9948884\n",
      " 0.99281418 0.99002574 0.98632862 0.98149355 0.97525583 0.96731634\n",
      " 0.95734457 0.9449838  0.92985864 0.91158471 0.88978035 0.86407999\n",
      " 0.83414859 0.79969662 0.76049483 0.71638815 0.66730793 0.61328183\n",
      " 0.55444091 0.49102318 0.42337358 0.35194001 0.27726543 0.1999764\n",
      " 0.12076826 0.04038756 0.04038756 0.12076826 0.1999764  0.27726543\n",
      " 0.35194001 0.42337358 0.49102318 0.55444091 0.61328183 0.66730793\n",
      " 0.71638815 0.76049483 0.79969662 0.83414859 0.86407999 0.88978035\n",
      " 0.91158471 0.92985864 0.9449838  0.95734457 0.96731634 0.97525583\n",
      " 0.98149355 0.98632862 0.99002574 0.99281418 0.9948884  0.99641007\n",
      " 0.99751094 0.99829635 0.99884892 0.99923229 0.99949459 0.99967158\n",
      " 0.99978935 0.99986664 0.99991666 0.9999486  0.99996871 0.9999812\n",
      " 0.99998885 0.99999347 0.99999623 0.99999785 0.99999879 0.99999933\n",
      " 0.99999963 0.9999998  0.99999989 0.99999994]\n"
     ]
    }
   ],
   "source": [
    "print(C2MGS)"
   ]
  },
  {
   "cell_type": "code",
   "execution_count": 8,
   "metadata": {},
   "outputs": [],
   "source": [
    "## Create the inputs and simulation for Schmidt\n",
    "ProbS = []\n",
    "for coef in C2S:\n",
    "    InputsBS = create_inputs(2,2,2,[1,0],[np.sqrt(1-coef ** 2),coef])\n",
    "\n",
    "    \n",
    "    #Get backend and simulation\n",
    "    backend = pcvl.BackendFactory.get_backend(\"Naive\")\n",
    "\n",
    "    simulator = backend(circuit)\n",
    "    Sol = simulator.allstateprob_iterator(InputsBS)\n",
    "\n",
    "    ProbS.append(calculate_proba(n,m,[1,1],Sol))\n",
    "    "
   ]
  },
  {
   "cell_type": "code",
   "execution_count": 9,
   "metadata": {},
   "outputs": [
    {
     "data": {
      "image/png": "[encoded data removed]",
      "text/plain": [
       "<Figure size 640x480 with 1 Axes>"
      ]
     },
     "metadata": {},
     "output_type": "display_data"
    }
   ],
   "source": [
    "## Plot the results for schmidt\n",
    "plt.figure()\n",
    "plt.scatter(shift_list,C2S**2/2,20,label = 'Analytic')\n",
    "plt.scatter(shift_list,ProbS,2,label = 'Simulation')\n",
    "plt.xlabel(r'$\\Delta_z$')\n",
    "plt.ylabel(r'$P(11)$')\n",
    "plt.show()\n"
   ]
  },
  {
   "cell_type": "code",
   "execution_count": null,
   "metadata": {},
   "outputs": [],
   "source": [
    "## Create the inputs and simulation for Lowdin\n",
    "ProbL = []\n",
    "for i in range(len(CL11)):\n",
    "    InputsBS = create_inputs(2,2,2,[CL11[i],CL12[i]],[CL21[i],CL22[i]])\n",
    "\n",
    "    \n",
    "    #Get backend and simulation\n",
    "    backend = pcvl.BackendFactory.get_backend(\"Naive\")\n",
    "\n",
    "    simulator = backend(circuit)\n",
    "    Sol = simulator.allstateprob_iterator(InputsBS)\n",
    "\n",
    "    ProbL.append(calculate_proba(n,m,[1,1],Sol))\n",
    "    "
   ]
  },
  {
   "cell_type": "code",
   "execution_count": null,
   "metadata": {},
   "outputs": [],
   "source": [
    "## Plot the results for Lowdin\n",
    "plt.figure()\n",
    "plt.scatter(shift_list,(CL11*CL22-CL12*CL21)**2/2,20,label = 'Analytic')\n",
    "plt.scatter(shift_list,ProbL,2,label = 'Simulation')\n",
    "plt.xlabel(r'$\\Delta_z$')\n",
    "plt.ylabel(r'$P(11)$')\n",
    "plt.show()\n"
   ]
  },
  {
   "cell_type": "code",
   "execution_count": null,
   "metadata": {},
   "outputs": [],
   "source": [
    "import scipy as sc\n",
    "\n",
    "#Lorentzian amplitude function :\n",
    "## Analytique dip\n",
    "\n",
    "N=2000\n",
    "env_type = 2 # 1 = Gaussian, 2 = exponential (envelope in space)\n",
    "\n",
    "\n",
    "if env_type == 1 :\n",
    "    #Gaussian Parameters\n",
    "    dz = 1e-8 #standard deviation in z\n",
    "    lam = 500*1e-9 #wave length\n",
    "    k0 = 2*np.pi/lam #mean k vector\n",
    "    dk=1/(2*dz) #standard deviation in k \n",
    "    z = np.linspace(-13*dz, 13*dz,N)\n",
    "    k = np.linspace(k0-13*dk, k0+13*dk, N)\n",
    "    z0 = np.linspace(-8*dz, 8*dz, 100) # z0 : length of shift between photons\n",
    "if env_type == 2 :\n",
    "    #Lorentizian Parameters\n",
    "    gamma = 0.5 #decaying factor in z\n",
    "    lam = 500*1e-9 #wave length\n",
    "    k0 = 2*np.pi/lam #mean k vector\n",
    "    z = np.linspace(-16/gamma,16/gamma, N)\n",
    "    k = np.linspace(k0-8*gamma,k0+8*gamma,N)\n",
    "    z0 = np.linspace(-8/gamma, 8/gamma, 2000) # z0 : length of shift between photons\n",
    "\n",
    "\n",
    "# Beam splitter transfer matrix\n",
    "BS=1/np.sqrt(2) * np.array([[1,-1],[1,1]])\n",
    "A = BS[0,0]; B = BS[0,1]; C = BS[1,0]; D = BS[1,1]\n",
    "\n",
    "\n",
    "\n",
    "dip = np.zeros(len(z0))\n",
    "for i in range(len(z0)):\n",
    "    if env_type == 1 :\n",
    "        env1 = Gaussian(z,dz)\n",
    "        env2 = Gaussian(z,dz)\n",
    "        env1_k = Gaussian(k,dk)\n",
    "        env2_k = np.exp(1j*k*z0[i])*env1_k\n",
    "    if env_type == 2 :\n",
    "        env1 = Exponential(z,gamma)\n",
    "        env2 = Exponential(z,gamma)\n",
    "        env1_k = Lrz(gamma,k0,k)\n",
    "        env2_k = np.exp(1j*k*z0[i])*env1_k\n",
    "        \n",
    "    overlap = abs(sc.integrate.simps(env1_k*np.conj(env2_k),k))**2\n",
    "    Pr11 = abs(A)**2*abs(D)**2 + abs(B)**2*abs(C)**2 + 2*np.real(np.conj(A)*np.conj(D)*B*C)*overlap \n",
    "    dip[i] = Pr11\n",
    "    \n",
    "plt.figure()\n",
    "plt.plot(z0,dip)\n",
    "plt.xlabel(r\"$z_0$\")\n",
    "plt.ylabel(r\"$P(|11\\rangle)$\")\n",
    "plt.title(\"HOM dip\")\n"
   ]
  },
  {
   "cell_type": "code",
   "execution_count": null,
   "metadata": {},
   "outputs": [],
   "source": [
    "plt.figure()\n",
    "plt.scatter(x,dip,20, label = 'Analytic')\n",
    "plt.scatter(x,ProbS,2,label = 'Simulation')\n",
    "plt.xlabel(r\"$z_0$\")\n",
    "plt.ylabel(r\"$P(|11\\rangle)$\")\n",
    "plt.legend()\n",
    "plt.title(\"HOM dip\")"
   ]
  },
  {
   "attachments": {},
   "cell_type": "markdown",
   "metadata": {},
   "source": [
    "Test exponentielle"
   ]
  },
  {
   "cell_type": "code",
   "execution_count": null,
   "metadata": {},
   "outputs": [],
   "source": [
    "env_type = 2  # 1=Gaussian, 2=exponential\n",
    "N = 501  # number of x points to plot the wave functions\n",
    "N_shift = 2  # total number of shifted wave functions\n",
    "waves = np.zeros((N_shift, N))  # values for each wave function\n",
    "\n",
    "gamma=0.5\n",
    "sigma_wave = 2  # standard deviation of wave function\n",
    "#x = np.linspace(-16 * sigma_wave, 16 * sigma_wave, N)  # position values\n",
    "x = np.linspace(-16 / gamma, 16 /gamma, N)\n",
    "#shift_list=np.linspace(-8*sigma_wave,8*sigma_wave,500)\n",
    "shift_list=np.linspace(-8/gamma,8/gamma,N)\n",
    "\n",
    "C2S = np.zeros(len(shift_list))\n",
    "CL11 = np.zeros_like(C2S)\n",
    "CL12 = np.zeros_like(C2S)\n",
    "CL21 = np.zeros_like(C2S)\n",
    "CL22 = np.zeros_like(C2S)\n",
    "for k in range(len(shift_list)):\n",
    "    shift=shift_list[k]\n",
    "    x_shift=np.array([0,shift])\n",
    "    for i in range(N_shift):\n",
    "        #waves[i] = Gaussian(x-x_shift[i], sigma_wave)\n",
    "        waves[i] = Exponential(x-x_shift[i], gamma)\n",
    "\n",
    "    new_base,coeffsL=Lowdin(waves,x)\n",
    "\n",
    "    CL11[k] = coeffsL[0,0]\n",
    "    CL12[k] = coeffsL[0,1]\n",
    "    CL21[k] = coeffsL[1,0]\n",
    "    CL22[k] = coeffsL[1,1]\n",
    "\n",
    "    "
   ]
  },
  {
   "cell_type": "code",
   "execution_count": null,
   "metadata": {},
   "outputs": [],
   "source": [
    "## Create the inputs and simulation for Lowdin\n",
    "ProbL = []\n",
    "for i in range(len(CL11)):\n",
    "    InputsBS = create_inputs(2,2,2,[CL11[i],CL12[i]],[CL21[i],CL22[i]])\n",
    "\n",
    "    \n",
    "    #Get backend and simulation\n",
    "    backend = pcvl.BackendFactory.get_backend(\"Naive\")\n",
    "\n",
    "    simulator = backend(circuit)\n",
    "    Sol = simulator.allstateprob_iterator(InputsBS)\n",
    "\n",
    "    ProbL.append(calculate_proba(n,m,[1,1],Sol))"
   ]
  },
  {
   "cell_type": "code",
   "execution_count": null,
   "metadata": {},
   "outputs": [],
   "source": [
    "#Comparison with analytical HOM dip\n",
    "\n",
    "#lam = 0.5*sigma_wave #wave length\n",
    "lam = 0.5/gamma\n",
    "k0 = 2*np.pi/lam\n",
    "#dk=1/(2*sigma_wave) #standard deviation in k \n",
    "#k = np.linspace(k0-13*dk, k0+13*dk, N)\n",
    "k = np.linspace(k0-25*gamma,k0+25*gamma,N)\n",
    "dip = np.zeros(len(shift_list))\n",
    "\n",
    "# Beam splitter transfer matrix\n",
    "BS=1/np.sqrt(2) * np.array([[1,-1],[1,1]])\n",
    "A = BS[0,0]; B = BS[0,1]; C = BS[1,0]; D = BS[1,1]\n",
    "\n",
    "for i in range(len(shift_list)):  \n",
    "    if env_type==1:\n",
    "        env1 = Gaussian(x,sigma_wave)\n",
    "        env2 = Gaussian(x-shift_list[i],sigma_wave)\n",
    "        env1_k = Gaussian(k-k0,dk)\n",
    "        env2_k = np.exp(1j*k*shift_list[i])*env1_k\n",
    "    if env_type==2:\n",
    "        env1 = Exponential(x,gamma)\n",
    "        env2 = Exponential(x-shift_list[i],gamma)\n",
    "        env1_k = Lrz(k-k0,gamma)\n",
    "        env2_k = np.exp(1j*k*shift_list[i])*env1_k\n",
    "    overlap = abs(sc.integrate.simps(env1_k*np.conj(env2_k),k))**2\n",
    "    Pr11 = abs(A)**2*abs(D)**2 + abs(B)**2*abs(C)**2 + 2*np.real(np.conj(A)*np.conj(D)*B*C)*overlap \n",
    "    dip[i] = Pr11\n",
    "    "
   ]
  },
  {
   "cell_type": "code",
   "execution_count": null,
   "metadata": {},
   "outputs": [],
   "source": [
    "plt.figure()\n",
    "plt.scatter(x/1e9,dip,20, label = 'Analytic')\n",
    "plt.scatter(x/1e9,ProbL,2,label = 'Simulation')\n",
    "plt.xlabel(r\"$\\Delta z$\")\n",
    "plt.ylabel(r\"$P(|11\\rangle)$\")\n",
    "plt.legend()\n"
   ]
  },
  {
   "cell_type": "code",
   "execution_count": null,
   "metadata": {},
   "outputs": [],
   "source": [
    "\n",
    "print(ProbS)"
   ]
  }
 ],
 "metadata": {
  "kernelspec": {
   "display_name": "Python 3.9.13 ('py39')",
   "language": "python",
   "name": "python3"
  },
  "language_info": {
   "codemirror_mode": {
    "name": "ipython",
    "version": 3
   },
   "file_extension": ".py",
   "mimetype": "text/x-python",
   "name": "python",
   "nbconvert_exporter": "python",
   "pygments_lexer": "ipython3",
   "version": "3.9.13"
  },
  "orig_nbformat": 4,
  "vscode": {
   "interpreter": {
    "hash": "898f94b21feb777183c15fbce248ca55001b8c93961fcc05da4697c2e2f314d7"
   }
  }
 },
 "nbformat": 4,
 "nbformat_minor": 2
}
