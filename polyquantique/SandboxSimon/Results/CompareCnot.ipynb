{
 "cells": [
  {
   "cell_type": "code",
   "execution_count": 19,
   "metadata": {},
   "outputs": [
    {
     "ename": "ImportError",
     "evalue": "cannot import name 'realLrz' from 'Functions' (/Users/simsim/Documents/HIVER2023/Perceval/polyquantique/SandboxSimon/Results/Functions.py)",
     "output_type": "error",
     "traceback": [
      "\u001b[0;31m---------------------------------------------------------------------------\u001b[0m",
      "\u001b[0;31mImportError\u001b[0m                               Traceback (most recent call last)",
      "\u001b[1;32m/Users/simsim/Documents/HIVER2023/Perceval/polyquantique/SandboxSimon/Results/CompareCnot.ipynb Cell 1\u001b[0m in \u001b[0;36m<cell line: 5>\u001b[0;34m()\u001b[0m\n\u001b[1;32m      <a href='vscode-notebook-cell:/Users/simsim/Documents/HIVER2023/Perceval/polyquantique/SandboxSimon/Results/CompareCnot.ipynb#W0sZmlsZQ%3D%3D?line=2'>3</a>\u001b[0m \u001b[39mimport\u001b[39;00m \u001b[39mmatplotlib\u001b[39;00m\u001b[39m.\u001b[39;00m\u001b[39mpyplot\u001b[39;00m \u001b[39mas\u001b[39;00m \u001b[39mplt\u001b[39;00m\n\u001b[1;32m      <a href='vscode-notebook-cell:/Users/simsim/Documents/HIVER2023/Perceval/polyquantique/SandboxSimon/Results/CompareCnot.ipynb#W0sZmlsZQ%3D%3D?line=3'>4</a>\u001b[0m \u001b[39mimport\u001b[39;00m \u001b[39mitertools\u001b[39;00m\n\u001b[0;32m----> <a href='vscode-notebook-cell:/Users/simsim/Documents/HIVER2023/Perceval/polyquantique/SandboxSimon/Results/CompareCnot.ipynb#W0sZmlsZQ%3D%3D?line=4'>5</a>\u001b[0m \u001b[39mfrom\u001b[39;00m \u001b[39mFunctions\u001b[39;00m \u001b[39mimport\u001b[39;00m realLrz\n\u001b[1;32m      <a href='vscode-notebook-cell:/Users/simsim/Documents/HIVER2023/Perceval/polyquantique/SandboxSimon/Results/CompareCnot.ipynb#W0sZmlsZQ%3D%3D?line=5'>6</a>\u001b[0m \u001b[39mimport\u001b[39;00m \u001b[39mmatplotlib\u001b[39;00m\u001b[39m.\u001b[39;00m\u001b[39mpyplot\u001b[39;00m \u001b[39mas\u001b[39;00m \u001b[39mplt\u001b[39;00m\n\u001b[1;32m      <a href='vscode-notebook-cell:/Users/simsim/Documents/HIVER2023/Perceval/polyquantique/SandboxSimon/Results/CompareCnot.ipynb#W0sZmlsZQ%3D%3D?line=6'>7</a>\u001b[0m \u001b[39mimport\u001b[39;00m \u001b[39mscipy\u001b[39;00m \u001b[39mas\u001b[39;00m \u001b[39msc\u001b[39;00m\n",
      "\u001b[0;31mImportError\u001b[0m: cannot import name 'realLrz' from 'Functions' (/Users/simsim/Documents/HIVER2023/Perceval/polyquantique/SandboxSimon/Results/Functions.py)"
     ]
    }
   ],
   "source": [
    "import perceval as pcvl\n",
    "import numpy as np\n",
    "import matplotlib.pyplot as plt\n",
    "import itertools\n",
    "from Functions import realLrz\n",
    "import matplotlib.pyplot as plt\n",
    "import scipy as sc\n",
    "from scipy import signal\n",
    "from tabulate import tabulate\n",
    "from dataRead import xpRead"
   ]
  },
  {
   "cell_type": "code",
   "execution_count": 15,
   "metadata": {},
   "outputs": [],
   "source": [
    "time, env1, env2,delay, table = xpRead('./acquired_data/xp_03/data.json')\n",
    "\n",
    "extime = np.linspace(time[0],time[-1],10000)\n",
    "\n",
    "env1Interp = np.interp(extime,time,env1)\n",
    "env2Interp = np.interp(extime,time,env2)"
   ]
  },
  {
   "cell_type": "code",
   "execution_count": 16,
   "metadata": {},
   "outputs": [
    {
     "ename": "NameError",
     "evalue": "name 'realLrz' is not defined",
     "output_type": "error",
     "traceback": [
      "\u001b[0;31m---------------------------------------------------------------------------\u001b[0m",
      "\u001b[0;31mNameError\u001b[0m                                 Traceback (most recent call last)",
      "\u001b[1;32m/Users/simsim/Documents/HIVER2023/Perceval/polyquantique/SandboxSimon/Results/CompareCnot.ipynb Cell 3\u001b[0m in \u001b[0;36m<cell line: 1>\u001b[0;34m()\u001b[0m\n\u001b[0;32m----> <a href='vscode-notebook-cell:/Users/simsim/Documents/HIVER2023/Perceval/polyquantique/SandboxSimon/Results/CompareCnot.ipynb#W3sZmlsZQ%3D%3D?line=0'>1</a>\u001b[0m laserPulse \u001b[39m=\u001b[39m realLrz(extime,\u001b[39m10\u001b[39m)\n",
      "\u001b[0;31mNameError\u001b[0m: name 'realLrz' is not defined"
     ]
    }
   ],
   "source": [
    "laserPulse = realLrz(extime,10)"
   ]
  },
  {
   "cell_type": "code",
   "execution_count": null,
   "metadata": {},
   "outputs": [],
   "source": [
    "\n",
    "\n",
    "new_base,coeffsMGS = modified_Schmidt(waves,x)\n",
    "C2MGS = coeffsMGS[1,1]"
   ]
  }
 ],
 "metadata": {
  "kernelspec": {
   "display_name": "py39",
   "language": "python",
   "name": "python3"
  },
  "language_info": {
   "codemirror_mode": {
    "name": "ipython",
    "version": 3
   },
   "file_extension": ".py",
   "mimetype": "text/x-python",
   "name": "python",
   "nbconvert_exporter": "python",
   "pygments_lexer": "ipython3",
   "version": "3.9.13"
  },
  "orig_nbformat": 4
 },
 "nbformat": 4,
 "nbformat_minor": 2
}
