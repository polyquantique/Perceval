{
 "cells": [
  {
   "cell_type": "code",
   "execution_count": 1,
   "metadata": {},
   "outputs": [],
   "source": [
    "import perceval as pcvl\n",
    "import numpy as np\n",
    "from perceval.algorithm import Sampler\n"
   ]
  },
  {
   "cell_type": "code",
   "execution_count": 2,
   "metadata": {},
   "outputs": [
    {
     "data": {
      "image/svg+xml": "<?xml version=\"1.0\" encoding=\"UTF-8\"?>\n<svg xmlns=\"http://www.w3.org/2000/svg\" xmlns:xlink=\"http://www.w3.org/1999/xlink\"\n     width=\"562.5\" height=\"437.5\" viewBox=\"-37.0 0 450 350\">\n<defs>\n</defs>\n<path d=\"M10,25 L25,25\" stroke-width=\"3\" stroke=\"darkred\" stroke-linejoin=\"miter\" fill=\"none\" />\n<path d=\"M10,75 L25,75\" stroke-width=\"3\" stroke=\"darkred\" stroke-linejoin=\"miter\" fill=\"none\" />\n<path d=\"M10,125 L25,125\" stroke-width=\"3\" stroke=\"darkred\" stroke-linejoin=\"miter\" fill=\"none\" />\n<path d=\"M10,175 L25,175\" stroke-width=\"3\" stroke=\"darkred\" stroke-linejoin=\"miter\" fill=\"none\" />\n<path d=\"M10,225 L25,225\" stroke-width=\"3\" stroke=\"darkred\" stroke-linejoin=\"miter\" fill=\"none\" />\n<path d=\"M10,275 L25,275\" stroke-width=\"3\" stroke=\"darkred\" stroke-linejoin=\"miter\" fill=\"none\" />\n<path d=\"M25,25 L53,25 L72,44\" stroke=\"darkred\" stroke-width=\"3\" fill=\"none\" />\n<path d=\"M78,44 L97,25 L125,25\" stroke=\"darkred\" stroke-width=\"3\" fill=\"none\" />\n<path d=\"M25,75 L53,75 L72,56\" stroke=\"darkred\" stroke-width=\"3\" fill=\"none\" />\n<path d=\"M78,56 L97,75 L125,75\" stroke=\"darkred\" stroke-width=\"3\" fill=\"none\" />\n<path d=\"M50,43 L100,43 L100,57 L50,57 Z\" stroke=\"black\" fill=\"black\" stroke-linejoin=\"miter\" />\n<text x=\"75\" y=\"95\" font-size=\"6\" text-anchor=\"middle\"><tspan x=\"75\" dy=\"0em\">Φ_tl=3*pi/2</tspan><tspan x=\"75\" dy=\"1em\">Φ_bl=pi</tspan><tspan x=\"75\" dy=\"1em\">Φ_tr=pi/2</tspan></text>\n<text x=\"75\" y=\"26\" font-size=\"7\" text-anchor=\"middle\" dy=\"0em\">Θ=1.910633</text>\n<path d=\"M50,43 L100,43 L100,47 L50,47 Z\" stroke=\"black\" fill=\"lightgray\" stroke-linejoin=\"miter\" />\n<path d=\"M93,50 L103,50 L103,60 L93,60 Z\" stroke=\"black\" fill=\"aquamarine\" stroke-linejoin=\"miter\" />\n<text x=\"98\" y=\"57\" font-size=\"6\" text-anchor=\"middle\" dy=\"0em\">H</text>\n<path d=\"M25,175 L53,175 L72,194\" stroke=\"darkred\" stroke-width=\"3\" fill=\"none\" />\n<path d=\"M78,194 L97,175 L125,175\" stroke=\"darkred\" stroke-width=\"3\" fill=\"none\" />\n<path d=\"M25,225 L53,225 L72,206\" stroke=\"darkred\" stroke-width=\"3\" fill=\"none\" />\n<path d=\"M78,206 L97,225 L125,225\" stroke=\"darkred\" stroke-width=\"3\" fill=\"none\" />\n<path d=\"M50,193 L100,193 L100,207 L50,207 Z\" stroke=\"black\" fill=\"black\" stroke-linejoin=\"miter\" />\n<text x=\"75\" y=\"235\" font-size=\"7\" text-anchor=\"middle\" dy=\"0em\"></text>\n<text x=\"75\" y=\"176\" font-size=\"7\" text-anchor=\"middle\" dy=\"0em\"></text>\n<path d=\"M50,193 L100,193 L100,197 L50,197 Z\" stroke=\"black\" fill=\"lightgray\" stroke-linejoin=\"miter\" />\n<path d=\"M93,200 L103,200 L103,210 L93,210 Z\" stroke=\"black\" fill=\"aquamarine\" stroke-linejoin=\"miter\" />\n<text x=\"98\" y=\"207\" font-size=\"6\" text-anchor=\"middle\" dy=\"0em\">H</text>\n<path d=\"M25,125 L125,125\" stroke=\"darkred\" stroke-width=\"3\" fill=\"none\" />\n<path d=\"M125,125 L153,125 L172,144\" stroke=\"darkred\" stroke-width=\"3\" fill=\"none\" />\n<path d=\"M178,144 L197,125 L225,125\" stroke=\"darkred\" stroke-width=\"3\" fill=\"none\" />\n<path d=\"M125,175 L153,175 L172,156\" stroke=\"darkred\" stroke-width=\"3\" fill=\"none\" />\n<path d=\"M178,156 L197,175 L225,175\" stroke=\"darkred\" stroke-width=\"3\" fill=\"none\" />\n<path d=\"M150,143 L200,143 L200,157 L150,157 Z\" stroke=\"black\" fill=\"black\" stroke-linejoin=\"miter\" />\n<text x=\"175\" y=\"195\" font-size=\"6\" text-anchor=\"middle\"><tspan x=\"175\" dy=\"0em\">Φ_tl=3*pi/2</tspan><tspan x=\"175\" dy=\"1em\">Φ_bl=pi</tspan><tspan x=\"175\" dy=\"1em\">Φ_tr=pi/2</tspan></text>\n<text x=\"175\" y=\"126\" font-size=\"7\" text-anchor=\"middle\" dy=\"0em\">Θ=1.910633</text>\n<path d=\"M150,143 L200,143 L200,147 L150,147 Z\" stroke=\"black\" fill=\"lightgray\" stroke-linejoin=\"miter\" />\n<path d=\"M193,150 L203,150 L203,160 L193,160 Z\" stroke=\"black\" fill=\"aquamarine\" stroke-linejoin=\"miter\" />\n<text x=\"198\" y=\"157\" font-size=\"6\" text-anchor=\"middle\" dy=\"0em\">H</text>\n<path d=\"M25,275 L125,275\" stroke=\"darkred\" stroke-width=\"3\" fill=\"none\" />\n<path d=\"M125,225 L153,225 L172,244\" stroke=\"darkred\" stroke-width=\"3\" fill=\"none\" />\n<path d=\"M178,244 L197,225 L225,225\" stroke=\"darkred\" stroke-width=\"3\" fill=\"none\" />\n<path d=\"M125,275 L153,275 L172,256\" stroke=\"darkred\" stroke-width=\"3\" fill=\"none\" />\n<path d=\"M178,256 L197,275 L225,275\" stroke=\"darkred\" stroke-width=\"3\" fill=\"none\" />\n<path d=\"M150,243 L200,243 L200,257 L150,257 Z\" stroke=\"black\" fill=\"black\" stroke-linejoin=\"miter\" />\n<text x=\"175\" y=\"280\" font-size=\"7\" text-anchor=\"middle\" dy=\"0em\"></text>\n<text x=\"175\" y=\"226\" font-size=\"7\" text-anchor=\"middle\" dy=\"0em\">Θ=1.910633</text>\n<path d=\"M150,243 L200,243 L200,247 L150,247 Z\" stroke=\"black\" fill=\"lightgray\" stroke-linejoin=\"miter\" />\n<path d=\"M193,250 L203,250 L203,260 L193,260 Z\" stroke=\"black\" fill=\"aquamarine\" stroke-linejoin=\"miter\" />\n<text x=\"198\" y=\"257\" font-size=\"6\" text-anchor=\"middle\" dy=\"0em\">H</text>\n<path d=\"M225,175 L253,175 L272,194\" stroke=\"darkred\" stroke-width=\"3\" fill=\"none\" />\n<path d=\"M278,194 L297,175 L325,175\" stroke=\"darkred\" stroke-width=\"3\" fill=\"none\" />\n<path d=\"M225,225 L253,225 L272,206\" stroke=\"darkred\" stroke-width=\"3\" fill=\"none\" />\n<path d=\"M278,206 L297,225 L325,225\" stroke=\"darkred\" stroke-width=\"3\" fill=\"none\" />\n<path d=\"M250,193 L300,193 L300,207 L250,207 Z\" stroke=\"black\" fill=\"black\" stroke-linejoin=\"miter\" />\n<text x=\"275\" y=\"235\" font-size=\"7\" text-anchor=\"middle\" dy=\"0em\"></text>\n<text x=\"275\" y=\"176\" font-size=\"7\" text-anchor=\"middle\" dy=\"0em\"></text>\n<path d=\"M250,193 L300,193 L300,197 L250,197 Z\" stroke=\"black\" fill=\"lightgray\" stroke-linejoin=\"miter\" />\n<path d=\"M293,200 L303,200 L303,210 L293,210 Z\" stroke=\"black\" fill=\"aquamarine\" stroke-linejoin=\"miter\" />\n<text x=\"298\" y=\"207\" font-size=\"6\" text-anchor=\"middle\" dy=\"0em\">H</text>\n<path d=\"M125,25 L325,25\" stroke=\"darkred\" stroke-width=\"3\" fill=\"none\" />\n<path d=\"M125,75 L325,75\" stroke=\"darkred\" stroke-width=\"3\" fill=\"none\" />\n<path d=\"M225,125 L325,125\" stroke=\"darkred\" stroke-width=\"3\" fill=\"none\" />\n<path d=\"M225,275 L325,275\" stroke=\"darkred\" stroke-width=\"3\" fill=\"none\" />\n<path d=\"M325,25 L340,25\" stroke-width=\"3\" stroke=\"darkred\" stroke-linejoin=\"miter\" fill=\"none\" />\n<path d=\"M325,75 L340,75\" stroke-width=\"3\" stroke=\"darkred\" stroke-linejoin=\"miter\" fill=\"none\" />\n<path d=\"M325,125 L340,125\" stroke-width=\"3\" stroke=\"darkred\" stroke-linejoin=\"miter\" fill=\"none\" />\n<path d=\"M325,175 L340,175\" stroke-width=\"3\" stroke=\"darkred\" stroke-linejoin=\"miter\" fill=\"none\" />\n<path d=\"M325,225 L340,225\" stroke-width=\"3\" stroke=\"darkred\" stroke-linejoin=\"miter\" fill=\"none\" />\n<path d=\"M325,275 L340,275\" stroke-width=\"3\" stroke=\"darkred\" stroke-linejoin=\"miter\" fill=\"none\" />\n<text x=\"350\" y=\"28\" font-size=\"7\" text-anchor=\"end\" dy=\"0em\">0</text>\n<text x=\"350\" y=\"78\" font-size=\"7\" text-anchor=\"end\" dy=\"0em\">1</text>\n<text x=\"350\" y=\"128\" font-size=\"7\" text-anchor=\"end\" dy=\"0em\">2</text>\n<text x=\"350\" y=\"178\" font-size=\"7\" text-anchor=\"end\" dy=\"0em\">3</text>\n<text x=\"350\" y=\"228\" font-size=\"7\" text-anchor=\"end\" dy=\"0em\">4</text>\n<text x=\"350\" y=\"278\" font-size=\"7\" text-anchor=\"end\" dy=\"0em\">5</text>\n<text x=\"0\" y=\"28\" font-size=\"7\" text-anchor=\"start\" dy=\"0em\">0</text>\n<text x=\"0\" y=\"78\" font-size=\"7\" text-anchor=\"start\" dy=\"0em\">1</text>\n<text x=\"0\" y=\"128\" font-size=\"7\" text-anchor=\"start\" dy=\"0em\">2</text>\n<text x=\"0\" y=\"178\" font-size=\"7\" text-anchor=\"start\" dy=\"0em\">3</text>\n<text x=\"0\" y=\"228\" font-size=\"7\" text-anchor=\"start\" dy=\"0em\">4</text>\n<text x=\"0\" y=\"278\" font-size=\"7\" text-anchor=\"start\" dy=\"0em\">5</text>\n</svg>",
      "text/plain": [
       "<drawSvg.drawing.Drawing at 0x7fe205faac40>"
      ]
     },
     "execution_count": 2,
     "metadata": {},
     "output_type": "execute_result"
    }
   ],
   "source": [
    "cnot = pcvl.Circuit(6, name=\"Ralph CNOT\")\n",
    "cnot.add((0, 1), pcvl.BS.H(pcvl.BS.r_to_theta(1/3), phi_tl = -np.pi/2, phi_bl = np.pi, phi_tr = np.pi / 2))\n",
    "cnot.add((3, 4), pcvl.BS.H())\n",
    "cnot.add((2, 3), pcvl.BS.H(pcvl.BS.r_to_theta(1/3), phi_tl = -np.pi/2, phi_bl = np.pi, phi_tr = np.pi / 2))\n",
    "cnot.add((4, 5), pcvl.BS.H(pcvl.BS.r_to_theta(1/3)))\n",
    "cnot.add((3, 4), pcvl.BS.H())\n",
    "pcvl.pdisplay(cnot)"
   ]
  },
  {
   "cell_type": "code",
   "execution_count": 3,
   "metadata": {},
   "outputs": [],
   "source": [
    "U = cnot.compute_unitary()\n",
    "\n",
    "#Create 6 random vector, we suppose we can write each entry with a linear combination of 3 fock state\n",
    "A = []\n",
    "for i in range(4):\n",
    "    vec = np.random.rand(3,1)\n",
    "    normCst = np.sum(vec)\n",
    "    A.append(vec/normCst)\n"
   ]
  },
  {
   "cell_type": "markdown",
   "metadata": {},
   "source": [
    "Pour solutionner on veut écrire chaque vecteur d'entré en fonction des autres. \\\\\n",
    "Ensuite, on veut faire intéragir chaque time bin ensemble."
   ]
  },
  {
   "cell_type": "code",
   "execution_count": 4,
   "metadata": {},
   "outputs": [
    {
     "data": {
      "image/svg+xml": "<?xml version=\"1.0\" encoding=\"UTF-8\"?>\n<svg xmlns=\"http://www.w3.org/2000/svg\" xmlns:xlink=\"http://www.w3.org/1999/xlink\"\n     width=\"562.5\" height=\"437.5\" viewBox=\"-39.0 0 450 350\">\n<defs>\n</defs>\n<path d=\"M10,75 L25,75\" stroke-width=\"3\" stroke=\"darkred\" stroke-linejoin=\"miter\" fill=\"none\" />\n<path d=\"M10,125 L25,125\" stroke-width=\"3\" stroke=\"darkred\" stroke-linejoin=\"miter\" fill=\"none\" />\n<path d=\"M10,175 L25,175\" stroke-width=\"3\" stroke=\"darkred\" stroke-linejoin=\"miter\" fill=\"none\" />\n<path d=\"M10,225 L25,225\" stroke-width=\"3\" stroke=\"darkred\" stroke-linejoin=\"miter\" fill=\"none\" />\n<path d=\"M27,2 L323,2 L323,298 L27,298 Z\" stroke=\"black\" fill=\"lightblue\" stroke-dasharray=\"1,2\" stroke-linejoin=\"miter\" />\n<text x=\"29\" y=\"305\" font-size=\"8\" text-anchor=\"start\" dy=\"0em\">RALPH CNOT</text>\n<path d=\"M25,25 L53,25 L72,44\" stroke=\"darkred\" stroke-width=\"3\" fill=\"none\" />\n<path d=\"M78,44 L97,25 L125,25\" stroke=\"darkred\" stroke-width=\"3\" fill=\"none\" />\n<path d=\"M25,75 L53,75 L72,56\" stroke=\"darkred\" stroke-width=\"3\" fill=\"none\" />\n<path d=\"M78,56 L97,75 L125,75\" stroke=\"darkred\" stroke-width=\"3\" fill=\"none\" />\n<path d=\"M50,43 L100,43 L100,57 L50,57 Z\" stroke=\"black\" fill=\"black\" stroke-linejoin=\"miter\" />\n<text x=\"75\" y=\"95\" font-size=\"6\" text-anchor=\"middle\"><tspan x=\"75\" dy=\"0em\">Φ_tl=3*pi/2</tspan><tspan x=\"75\" dy=\"1em\">Φ_bl=pi</tspan><tspan x=\"75\" dy=\"1em\">Φ_tr=pi/2</tspan></text>\n<text x=\"75\" y=\"26\" font-size=\"7\" text-anchor=\"middle\" dy=\"0em\">Θ=1.910633</text>\n<path d=\"M50,43 L100,43 L100,47 L50,47 Z\" stroke=\"black\" fill=\"lightgray\" stroke-linejoin=\"miter\" />\n<path d=\"M93,50 L103,50 L103,60 L93,60 Z\" stroke=\"black\" fill=\"aquamarine\" stroke-linejoin=\"miter\" />\n<text x=\"98\" y=\"57\" font-size=\"6\" text-anchor=\"middle\" dy=\"0em\">H</text>\n<path d=\"M25,175 L53,175 L72,194\" stroke=\"darkred\" stroke-width=\"3\" fill=\"none\" />\n<path d=\"M78,194 L97,175 L125,175\" stroke=\"darkred\" stroke-width=\"3\" fill=\"none\" />\n<path d=\"M25,225 L53,225 L72,206\" stroke=\"darkred\" stroke-width=\"3\" fill=\"none\" />\n<path d=\"M78,206 L97,225 L125,225\" stroke=\"darkred\" stroke-width=\"3\" fill=\"none\" />\n<path d=\"M50,193 L100,193 L100,207 L50,207 Z\" stroke=\"black\" fill=\"black\" stroke-linejoin=\"miter\" />\n<text x=\"75\" y=\"235\" font-size=\"7\" text-anchor=\"middle\" dy=\"0em\"></text>\n<text x=\"75\" y=\"176\" font-size=\"7\" text-anchor=\"middle\" dy=\"0em\"></text>\n<path d=\"M50,193 L100,193 L100,197 L50,197 Z\" stroke=\"black\" fill=\"lightgray\" stroke-linejoin=\"miter\" />\n<path d=\"M93,200 L103,200 L103,210 L93,210 Z\" stroke=\"black\" fill=\"aquamarine\" stroke-linejoin=\"miter\" />\n<text x=\"98\" y=\"207\" font-size=\"6\" text-anchor=\"middle\" dy=\"0em\">H</text>\n<path d=\"M25,125 L125,125\" stroke=\"darkred\" stroke-width=\"3\" fill=\"none\" />\n<path d=\"M125,125 L153,125 L172,144\" stroke=\"darkred\" stroke-width=\"3\" fill=\"none\" />\n<path d=\"M178,144 L197,125 L225,125\" stroke=\"darkred\" stroke-width=\"3\" fill=\"none\" />\n<path d=\"M125,175 L153,175 L172,156\" stroke=\"darkred\" stroke-width=\"3\" fill=\"none\" />\n<path d=\"M178,156 L197,175 L225,175\" stroke=\"darkred\" stroke-width=\"3\" fill=\"none\" />\n<path d=\"M150,143 L200,143 L200,157 L150,157 Z\" stroke=\"black\" fill=\"black\" stroke-linejoin=\"miter\" />\n<text x=\"175\" y=\"195\" font-size=\"6\" text-anchor=\"middle\"><tspan x=\"175\" dy=\"0em\">Φ_tl=3*pi/2</tspan><tspan x=\"175\" dy=\"1em\">Φ_bl=pi</tspan><tspan x=\"175\" dy=\"1em\">Φ_tr=pi/2</tspan></text>\n<text x=\"175\" y=\"126\" font-size=\"7\" text-anchor=\"middle\" dy=\"0em\">Θ=1.910633</text>\n<path d=\"M150,143 L200,143 L200,147 L150,147 Z\" stroke=\"black\" fill=\"lightgray\" stroke-linejoin=\"miter\" />\n<path d=\"M193,150 L203,150 L203,160 L193,160 Z\" stroke=\"black\" fill=\"aquamarine\" stroke-linejoin=\"miter\" />\n<text x=\"198\" y=\"157\" font-size=\"6\" text-anchor=\"middle\" dy=\"0em\">H</text>\n<path d=\"M125,225 L153,225 L172,244\" stroke=\"darkred\" stroke-width=\"3\" fill=\"none\" />\n<path d=\"M178,244 L197,225 L225,225\" stroke=\"darkred\" stroke-width=\"3\" fill=\"none\" />\n<path d=\"M125,275 L153,275 L172,256\" stroke=\"darkred\" stroke-width=\"3\" fill=\"none\" />\n<path d=\"M178,256 L197,275 L225,275\" stroke=\"darkred\" stroke-width=\"3\" fill=\"none\" />\n<path d=\"M150,243 L200,243 L200,257 L150,257 Z\" stroke=\"black\" fill=\"black\" stroke-linejoin=\"miter\" />\n<text x=\"175\" y=\"280\" font-size=\"7\" text-anchor=\"middle\" dy=\"0em\"></text>\n<text x=\"175\" y=\"226\" font-size=\"7\" text-anchor=\"middle\" dy=\"0em\">Θ=1.910633</text>\n<path d=\"M150,243 L200,243 L200,247 L150,247 Z\" stroke=\"black\" fill=\"lightgray\" stroke-linejoin=\"miter\" />\n<path d=\"M193,250 L203,250 L203,260 L193,260 Z\" stroke=\"black\" fill=\"aquamarine\" stroke-linejoin=\"miter\" />\n<text x=\"198\" y=\"257\" font-size=\"6\" text-anchor=\"middle\" dy=\"0em\">H</text>\n<path d=\"M225,175 L253,175 L272,194\" stroke=\"darkred\" stroke-width=\"3\" fill=\"none\" />\n<path d=\"M278,194 L297,175 L325,175\" stroke=\"darkred\" stroke-width=\"3\" fill=\"none\" />\n<path d=\"M225,225 L253,225 L272,206\" stroke=\"darkred\" stroke-width=\"3\" fill=\"none\" />\n<path d=\"M278,206 L297,225 L325,225\" stroke=\"darkred\" stroke-width=\"3\" fill=\"none\" />\n<path d=\"M250,193 L300,193 L300,207 L250,207 Z\" stroke=\"black\" fill=\"black\" stroke-linejoin=\"miter\" />\n<text x=\"275\" y=\"235\" font-size=\"7\" text-anchor=\"middle\" dy=\"0em\"></text>\n<text x=\"275\" y=\"176\" font-size=\"7\" text-anchor=\"middle\" dy=\"0em\"></text>\n<path d=\"M250,193 L300,193 L300,197 L250,197 Z\" stroke=\"black\" fill=\"lightgray\" stroke-linejoin=\"miter\" />\n<path d=\"M293,200 L303,200 L303,210 L293,210 Z\" stroke=\"black\" fill=\"aquamarine\" stroke-linejoin=\"miter\" />\n<text x=\"298\" y=\"207\" font-size=\"6\" text-anchor=\"middle\" dy=\"0em\">H</text>\n<path d=\"M125,75 L325,75\" stroke=\"darkred\" stroke-width=\"3\" fill=\"none\" />\n<path d=\"M225,125 L325,125\" stroke=\"darkred\" stroke-width=\"3\" fill=\"none\" />\n<path d=\"M325,75 L340,75\" stroke-width=\"3\" stroke=\"darkred\" stroke-linejoin=\"miter\" fill=\"none\" />\n<path d=\"M325,125 L340,125\" stroke-width=\"3\" stroke=\"darkred\" stroke-linejoin=\"miter\" fill=\"none\" />\n<path d=\"M325,175 L340,175\" stroke-width=\"3\" stroke=\"darkred\" stroke-linejoin=\"miter\" fill=\"none\" />\n<path d=\"M325,225 L340,225\" stroke-width=\"3\" stroke=\"darkred\" stroke-linejoin=\"miter\" fill=\"none\" />\n<path d=\"M7,25 C7,25,7,15,17,15 L25,15 L25,35 L17,35 C7,35,7,25,7,25 L7,25\" stroke-width=\"1\" stroke=\"black\" stroke-linejoin=\"miter\" fill=\"white\" />\n<text x=\"13\" y=\"41\" font-size=\"6\" text-anchor=\"middle\" font-style=\"italic\" dy=\"0em\">[herald0]</text>\n<text x=\"17\" y=\"28\" font-size=\"7\" text-anchor=\"middle\" dy=\"0em\">0</text>\n<path d=\"M107,275 C107,275,107,265,117,265 L125,265 L125,285 L117,285 C107,285,107,275,107,275 L107,275\" stroke-width=\"1\" stroke=\"black\" stroke-linejoin=\"miter\" fill=\"white\" />\n<text x=\"113\" y=\"291\" font-size=\"6\" text-anchor=\"middle\" font-style=\"italic\" dy=\"0em\">[herald1]</text>\n<text x=\"117\" y=\"278\" font-size=\"7\" text-anchor=\"middle\" dy=\"0em\">0</text>\n<path d=\"M133,35 L125,35 L125,15 L133,15 C133,15,143,15,143,25 C143,35,133,35,133,35 L133,35\" stroke-width=\"1\" stroke=\"black\" stroke-linejoin=\"miter\" fill=\"white\" />\n<text x=\"138\" y=\"41\" font-size=\"6\" text-anchor=\"middle\" font-style=\"italic\" dy=\"0em\">[herald0]</text>\n<text x=\"133\" y=\"28\" font-size=\"7\" text-anchor=\"middle\" dy=\"0em\">0</text>\n<path d=\"M233,285 L225,285 L225,265 L233,265 C233,265,243,265,243,275 C243,285,233,285,233,285 L233,285\" stroke-width=\"1\" stroke=\"black\" stroke-linejoin=\"miter\" fill=\"white\" />\n<text x=\"238\" y=\"291\" font-size=\"6\" text-anchor=\"middle\" font-style=\"italic\" dy=\"0em\">[herald1]</text>\n<text x=\"233\" y=\"278\" font-size=\"7\" text-anchor=\"middle\" dy=\"0em\">0</text>\n</svg>",
      "text/plain": [
       "<drawSvg.drawing.Drawing at 0x7fe205f154c0>"
      ]
     },
     "execution_count": 4,
     "metadata": {},
     "output_type": "execute_result"
    }
   ],
   "source": [
    "p = pcvl.Processor(\"Naive\", cnot)\n",
    "p.set_postprocess(lambda s: (s[1] or s[2]) and (s[3] or s[4]))\n",
    "p.add_herald(0, 0)\n",
    "p.add_herald(5, 0)\n",
    "\n",
    "pcvl.pdisplay(p, recursive = True)"
   ]
  },
  {
   "cell_type": "code",
   "execution_count": 5,
   "metadata": {},
   "outputs": [
    {
     "data": {
      "text/html": [
       "<table>\n",
       "<thead>\n",
       "<tr><th style=\"text-align: right;\">  </th><th style=\"text-align: right;\">  00</th><th style=\"text-align: right;\">  01</th><th style=\"text-align: right;\">  10</th><th style=\"text-align: right;\">  11</th></tr>\n",
       "</thead>\n",
       "<tbody>\n",
       "<tr><td style=\"text-align: right;\">00</td><td style=\"text-align: right;\">   1</td><td style=\"text-align: right;\">   0</td><td style=\"text-align: right;\">   0</td><td style=\"text-align: right;\">   0</td></tr>\n",
       "<tr><td style=\"text-align: right;\">01</td><td style=\"text-align: right;\">   0</td><td style=\"text-align: right;\">   1</td><td style=\"text-align: right;\">   0</td><td style=\"text-align: right;\">   0</td></tr>\n",
       "<tr><td style=\"text-align: right;\">10</td><td style=\"text-align: right;\">   0</td><td style=\"text-align: right;\">   0</td><td style=\"text-align: right;\">   0</td><td style=\"text-align: right;\">   1</td></tr>\n",
       "<tr><td style=\"text-align: right;\">11</td><td style=\"text-align: right;\">   0</td><td style=\"text-align: right;\">   0</td><td style=\"text-align: right;\">   1</td><td style=\"text-align: right;\">   0</td></tr>\n",
       "</tbody>\n",
       "</table>"
      ],
      "text/plain": [
       "<IPython.core.display.HTML object>"
      ]
     },
     "metadata": {},
     "output_type": "display_data"
    },
    {
     "name": "stdout",
     "output_type": "stream",
     "text": [
      "performance=1/9, fidelity=100.000%\n"
     ]
    }
   ],
   "source": [
    "states = {\n",
    "    pcvl.BasicState([1, 0, 1, 0]): \"00\",\n",
    "    pcvl.BasicState([1, 0, 0, 1]): \"01\",\n",
    "    pcvl.BasicState([0, 1, 1, 0]): \"10\",\n",
    "    pcvl.BasicState([0, 1, 0, 1]): \"11\"\n",
    "}\n",
    "\n",
    "ca = pcvl.algorithm.Analyzer(p, states)\n",
    "ca.compute(expected={\"00\": \"00\", \"01\": \"01\", \"10\": \"11\", \"11\": \"10\"})\n",
    "pcvl.pdisplay(ca)\n",
    "print(\"performance=%s, fidelity=%.3f%%\" % (pcvl.simple_float(ca.performance)[1], ca.fidelity * 100))"
   ]
  },
  {
   "cell_type": "markdown",
   "metadata": {},
   "source": [
    "$|\\psi_{in}> = A |10,10> + B |01,01>\\\\\n",
    "|\\psi_{in}> = A |10> |\\theta_0> + A |01> |\\theta_1> + B(|10> |\\theta_0> +  |01> |\\theta_1>)\\\\\n",
    "|\\psi_{in}> = A |10>\\\\\n",
    "$\n"
   ]
  },
  {
   "cell_type": "code",
   "execution_count": 6,
   "metadata": {},
   "outputs": [
    {
     "data": {
      "text/html": [
       "<table>\n",
       "<thead>\n",
       "<tr><th>     </th><th style=\"text-align: right;\">  |1,1&gt;</th><th>|2,0&gt;  </th><th>|0,2&gt;  </th></tr>\n",
       "</thead>\n",
       "<tbody>\n",
       "<tr><td>|1,1&gt;</td><td style=\"text-align: right;\">      0</td><td>1/2    </td><td>1/2    </td></tr>\n",
       "</tbody>\n",
       "</table>"
      ],
      "text/plain": [
       "<IPython.core.display.HTML object>"
      ]
     },
     "metadata": {},
     "output_type": "display_data"
    },
    {
     "data": {
      "text/html": [
       "<table>\n",
       "<thead>\n",
       "<tr><th>     </th><th>|0,1&gt;  </th><th>|1,0&gt;  </th></tr>\n",
       "</thead>\n",
       "<tbody>\n",
       "<tr><td>|0,1&gt;</td><td>1/2    </td><td>1/2    </td></tr>\n",
       "</tbody>\n",
       "</table>"
      ],
      "text/plain": [
       "<IPython.core.display.HTML object>"
      ]
     },
     "metadata": {},
     "output_type": "display_data"
    },
    {
     "data": {
      "text/html": [
       "<table>\n",
       "<thead>\n",
       "<tr><th>     </th><th style=\"text-align: right;\">  |0,0&gt;</th></tr>\n",
       "</thead>\n",
       "<tbody>\n",
       "<tr><td>|0,0&gt;</td><td style=\"text-align: right;\">      0</td></tr>\n",
       "</tbody>\n",
       "</table>"
      ],
      "text/plain": [
       "<IPython.core.display.HTML object>"
      ]
     },
     "metadata": {},
     "output_type": "display_data"
    }
   ],
   "source": [
    "circuit = pcvl.Circuit(2)\n",
    "circuit.add((0,1), pcvl.BS())\n",
    "pcvl.pdisplay(circuit)\n",
    "\n",
    "Entry1 = pcvl.BasicState([1,1])\n",
    "Entry2 = pcvl.BasicState([0,1])\n",
    "Entry3 = pcvl.BasicState([1,0])\n",
    "Entry4 = pcvl.BasicState([0,0])\n",
    "\n",
    "\n",
    "# Syntax to compute the amplitudes\n",
    "backend = pcvl.BackendFactory.get_backend(\"Naive\")\n",
    "\n",
    "simulator = backend(circuit)\n",
    "\n",
    "## We can also use the Analyser module to compute a table of probabilities\n",
    "## The Analyser uses a Processor to work with. A Processor aims at simulating a photonic source plugged into a circuit\n",
    "## with a given backend.\n",
    "## The main syntax is :\n",
    "## >>> p = pcvl.Processor(backend_name, circuit, source)\n",
    "p = pcvl.Processor(\"Naive\",circuit)\n",
    "analyzer1 = pcvl.algorithm.Analyzer(p, [Entry1], '*')\n",
    "analyzer2 = pcvl.algorithm.Analyzer(p, [Entry2], '*')\n",
    "analyzer3 = pcvl.algorithm.Analyzer(p, [Entry3], '*')\n",
    "analyzer4 = pcvl.algorithm.Analyzer(p, [Entry4], '*')\n",
    "pcvl.pdisplay(analyzer1)\n",
    "pcvl.pdisplay(analyzer2)\n",
    "\n",
    "D = analyzer4.output_states_list\n",
    "pcvl.pdisplay(analyzer4)\n"
   ]
  },
  {
   "cell_type": "code",
   "execution_count": 7,
   "metadata": {},
   "outputs": [
    {
     "name": "stdout",
     "output_type": "stream",
     "text": [
      "1/2*|2,0,0,1>+1/2*|0,2,0,1>+1/2*|2,0,1,0>+1/2*|0,2,1,0>\n"
     ]
    }
   ],
   "source": [
    "\n",
    "A = analyzer1.output_states_list\n",
    "B = analyzer2.output_states_list\n",
    "C = analyzer3.output_states_list\n",
    "D = analyzer4.output_states_list\n",
    "theta = np.pi/3\n",
    "State1 =  A[1] + A[2] \n",
    "State3 = C[0] + C[1]\n",
    "Statein = State1 * np.sin(theta) + State3 * np.cos(theta)\n",
    "State2 = (B[0] + B[1])  * np.cos(theta)\n",
    "TP = State1 * State2\n",
    "print(TP)"
   ]
  },
  {
   "cell_type": "code",
   "execution_count": 8,
   "metadata": {},
   "outputs": [
    {
     "name": "stdout",
     "output_type": "stream",
     "text": [
      "[1, 2, 3]\n"
     ]
    }
   ],
   "source": [
    "import matplotlib.pyplot as plt\n",
    "\n",
    "A = analyzer1.output_states_list\n",
    "B = analyzer2.output_states_list\n",
    "C = analyzer3.output_states_list\n",
    "D = analyzer4.output_states_list\n",
    "statear = [A,B,C,D]\n",
    "StateVec = []\n",
    "for state in statear:\n",
    "    for i in range(len(state)):\n",
    "        if i == 0 :\n",
    "            StateTemp = state[i]\n",
    "        else :\n",
    "            StateTemp = StateTemp + state[i]\n",
    "    StateVec.append(StateTemp)\n",
    "\n",
    "OutState = (StateVec[0] + StateVec[1]) * (StateVec[2] + StateVec[3])\n",
    "print(OutState.n)"
   ]
  },
  {
   "cell_type": "code",
   "execution_count": 9,
   "metadata": {},
   "outputs": [
    {
     "name": "stdout",
     "output_type": "stream",
     "text": [
      "[StateVector(<class 'float'>, {<perceval.utils.statevector.BasicState object at 0x7fe206130f40>: 1, <perceval.utils.statevector.BasicState object at 0x7fe206130ef0>: 1, <perceval.utils.statevector.BasicState object at 0x7fe206130f90>: 1}), StateVector(<class 'float'>, {<perceval.utils.statevector.BasicState object at 0x7fe206132090>: 1, <perceval.utils.statevector.BasicState object at 0x7fe206132040>: 1}), StateVector(<class 'float'>, {<perceval.utils.statevector.BasicState object at 0x7fe206132180>: 1, <perceval.utils.statevector.BasicState object at 0x7fe206132130>: 1}), <perceval.utils.statevector.BasicState object at 0x7fe206132220>]\n",
      "|1,1,0,1>\n",
      "|2,0,0,1>\n",
      "|0,2,0,1>\n",
      "|1,1,1,0>\n",
      "|2,0,1,0>\n",
      "|0,2,1,0>\n"
     ]
    },
    {
     "data": {
      "text/plain": [
       "[<matplotlib.lines.Line2D at 0x7fe2061d34c0>]"
      ]
     },
     "execution_count": 9,
     "metadata": {},
     "output_type": "execute_result"
    },
    {
     "data": {
      "image/png": "[encoded data removed]",
      "text/plain": [
       "<Figure size 640x480 with 1 Axes>"
      ]
     },
     "metadata": {},
     "output_type": "display_data"
    }
   ],
   "source": [
    "import matplotlib.pyplot as plt\n",
    "\n",
    "A = analyzer1.output_states_list\n",
    "B = analyzer2.output_states_list\n",
    "C = analyzer3.output_states_list\n",
    "D = analyzer4.output_states_list\n",
    "statear = [A,B,C,D]\n",
    "StateVec = []\n",
    "for state in statear:\n",
    "    for i in range(len(state)):\n",
    "        if i == 0 :\n",
    "            StateTemp = state[i]\n",
    "        else :\n",
    "            StateTemp = StateTemp + state[i]\n",
    "    StateVec.append(StateTemp)\n",
    "\n",
    "print(StateVec)\n",
    "\n",
    "ls = []\n",
    "for ii in B:\n",
    "    for i in A:\n",
    "        TP = pcvl.utils.statevector.tensorproduct([i,ii])\n",
    "        ls.append(TP)\n",
    "        print(TP)\n",
    "\n",
    "graph = []\n",
    "prob1 = [*analyzer1.distribution,*analyzer3.distribution]\n",
    "prob2 = [*analyzer2.distribution,*analyzer4.distribution]\n",
    "\n",
    "thetaar = np.linspace(0,np.pi,1000)\n",
    "for theta in thetaar:\n",
    "    for i in range(len(prob1)):\n",
    "        if i == 0 :\n",
    "            probls1 = np.sqrt(prob1[i]) * np.sin(theta)\n",
    "        else :\n",
    "            probls1 = np.append(probls1,np.sqrt(prob1[i]) * np.cos(theta))\n",
    "\n",
    "    for i in range(len(prob2)):\n",
    "        if i == 0 :\n",
    "            probls2 = np.sqrt(prob2[i]) * np.cos(theta)\n",
    "        else :\n",
    "            probls2 = np.append(probls2,np.sqrt(prob2[i]) * np.sin(theta))\n",
    "\n",
    "\n",
    "\n",
    "    Proba = np.multiply.outer(probls1,probls2)\n",
    "\n",
    "    graph.append(Proba[1,0] ** 2 + Proba[4,0] ** 2 + Proba[2,1] ** 2 + Proba[3,1] ** 2)\n",
    "plt.plot(thetaar/np.pi,graph)\n"
   ]
  },
  {
   "cell_type": "code",
   "execution_count": 12,
   "metadata": {},
   "outputs": [
    {
     "data": {
      "image/png": "[encoded data removed]",
      "text/plain": [
       "<Figure size 640x480 with 1 Axes>"
      ]
     },
     "metadata": {},
     "output_type": "display_data"
    },
    {
     "data": {
      "text/plain": [
       "-1.0"
      ]
     },
     "execution_count": 12,
     "metadata": {},
     "output_type": "execute_result"
    }
   ],
   "source": [
    "import matplotlib.pyplot as plt\n",
    "\n",
    "x = np.linspace(-1,1,1000)\n",
    "\n",
    "f = x**2/2\n",
    "\n",
    "plt.scatter(x,f)\n",
    "\n",
    "plt.show()\n",
    "np.cos(np.pi)"
   ]
  },
  {
   "cell_type": "code",
   "execution_count": null,
   "metadata": {},
   "outputs": [],
   "source": []
  },
  {
   "cell_type": "code",
   "execution_count": null,
   "metadata": {},
   "outputs": [],
   "source": []
  }
 ],
 "metadata": {
  "kernelspec": {
   "display_name": "Python 3.9.13 ('py39')",
   "language": "python",
   "name": "python3"
  },
  "language_info": {
   "codemirror_mode": {
    "name": "ipython",
    "version": 3
   },
   "file_extension": ".py",
   "mimetype": "text/x-python",
   "name": "python",
   "nbconvert_exporter": "python",
   "pygments_lexer": "ipython3",
   "version": "3.9.13 (main, Aug 25 2022, 18:29:29) \n[Clang 12.0.0 ]"
  },
  "orig_nbformat": 4,
  "vscode": {
   "interpreter": {
    "hash": "898f94b21feb777183c15fbce248ca55001b8c93961fcc05da4697c2e2f314d7"
   }
  }
 },
 "nbformat": 4,
 "nbformat_minor": 2
}
