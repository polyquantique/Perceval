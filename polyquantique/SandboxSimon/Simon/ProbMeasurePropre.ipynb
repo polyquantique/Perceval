{
 "cells": [
  {
   "cell_type": "code",
   "execution_count": 1,
   "metadata": {},
   "outputs": [],
   "source": [
    "import perceval as pcvl\n",
    "import numpy as np\n",
    "import matplotlib.pyplot as plt\n",
    "import itertools"
   ]
  },
  {
   "cell_type": "code",
   "execution_count": 2,
   "metadata": {},
   "outputs": [],
   "source": [
    "# Calculate the probability of an outcome for detector\n",
    "def calculate_proba(n,m,measure,allstateprobs_iterator):\n",
    "    r\"\"\"\n",
    "    gives the probability of an output measurement\n",
    "    :param n: number of spatial states\n",
    "    :param m: number of internal states\n",
    "    :param measure: array of how much photon we expect for each captor (array 1,n)\n",
    "    :param allstateprobs_iterator: An iterator containing states and probabilities of the simulation\n",
    "    :return: float probability\n",
    "    \"\"\"\n",
    "    Proba = 0\n",
    "    k = 0\n",
    "    theta = np.pi/4\n",
    "    c = [np.cos(theta),np.sin(theta)]\n",
    "    for state, probabilitie in allstateprobs_iterator:\n",
    "        ls = list(state)\n",
    "        #print(state,probabilitie)\n",
    "        capt = []\n",
    "        for i in range(n):\n",
    "            capt.append(np.sum(ls[i::n]))\n",
    "        #print(capt)\n",
    "        if np.all(capt==measure):\n",
    "            #print(state)\n",
    "            #print(probabilitie)\n",
    "            Proba += probabilitie\n",
    "        k+=1\n",
    "    return Proba\n",
    "\n",
    "def create_inputs(enterFunc,Coefs,Dictionnary = None): \n",
    "    #enterFunc is the distribution in space of the entry in the system ex: [1,1]\n",
    "    if any(np.array(enterFunc)>1):\n",
    "        raise Exception('Cannot be more than 1 photon per spatial mode')\n",
    "        \n",
    "    internMode = np.sum(enterFunc)\n",
    "    spatialMode = len(enterFunc)\n",
    "    nbPhoton = np.sum(enterFunc)\n",
    "    L = spatialMode*internMode \n",
    "\n",
    "    Inputs = []\n",
    "    for x in itertools.combinations(range(L), nbPhoton) :\n",
    "        inputsTemps = [1 if i in x else 0 for i in range(L)]\n",
    "        Inputs.append(np.array(inputsTemps))\n",
    "    \n",
    "    realInputs = []\n",
    "\n",
    "    for i in range(len(Inputs)):\n",
    "        compare = np.zeros(spatialMode)\n",
    "        for ii in range(0,L,spatialMode):\n",
    "            compare += Inputs[i][ii:ii+spatialMode]\n",
    "\n",
    "        if np.all(compare == enterFunc):\n",
    "            realInputs.append(Inputs[i])\n",
    "    #print(realInputs)\n",
    "    c = []\n",
    "    Arr = np.squeeze(Coefs)\n",
    "    \n",
    "    for i in range(len(realInputs)):\n",
    "        ArrCond = np.array(realInputs[i]).reshape(internMode,spatialMode).T\n",
    "        y = np.ma.masked_array(Arr, abs(ArrCond-1))\n",
    "        c.append(np.prod(y))\n",
    "\n",
    "    k = 0\n",
    "\n",
    "    if isinstance(Dictionnary,dict) and len(Dictionnary)!=0:\n",
    "        testdict = {}\n",
    "\n",
    "        iterkeys = itertools.permutations(Dictionnary.keys(),2)\n",
    "        iterval = itertools.permutations(Dictionnary.values(),2)\n",
    "        for i,j in zip(iterkeys,iterval) :\n",
    "            dictkey = '|' + i[0] + ',' + i[1] + '>'\n",
    "            dictval = j[0] + j[1]\n",
    "            testdict[dictkey] = pcvl.BasicState(dictval)\n",
    "        for i in realInputs:\n",
    "            nameOfState = str(pcvl.BasicState(i))\n",
    "            if k == 0:\n",
    "                InputsBS = testdict[nameOfState]\n",
    "                \n",
    "            else:\n",
    "                InputsBS = InputsBS + testdict[nameOfState]\n",
    "\n",
    "            k += 1\n",
    "        #Add the coefficient in the state vector\n",
    "        k = 0\n",
    "        for state,amplitude in InputsBS.items():\n",
    "\n",
    "            InputsBS[state] = amplitude*c[k]\n",
    "            k+=1\n",
    "        \n",
    "        return InputsBS,testdict\n",
    "    else:     \n",
    "        for i in realInputs:\n",
    "            if k == 0 :\n",
    "                InputsBS = pcvl.BasicState(i)\n",
    "            else :\n",
    "                InputsBS = InputsBS + pcvl.BasicState(i)\n",
    "            k += 1\n",
    "        #Add the coefficient in the state vector\n",
    "        k = 0\n",
    "        for state,amplitude in InputsBS.items():\n",
    "\n",
    "            InputsBS[state] = amplitude*c[k]\n",
    "            k+=1\n",
    "        \n",
    "        return InputsBS"
   ]
  },
  {
   "cell_type": "code",
   "execution_count": 7,
   "metadata": {},
   "outputs": [
    {
     "data": {
      "image/svg+xml": "<?xml version=\"1.0\" encoding=\"UTF-8\"?>\n<svg xmlns=\"http://www.w3.org/2000/svg\" xmlns:xlink=\"http://www.w3.org/1999/xlink\"\n     width=\"312.5\" height=\"312.5\" viewBox=\"-28.0 0 250 250\">\n<defs>\n</defs>\n<path d=\"M10,25 L25,25\" stroke-width=\"3\" stroke=\"darkred\" stroke-linejoin=\"miter\" fill=\"none\" />\n<path d=\"M10,75 L25,75\" stroke-width=\"3\" stroke=\"darkred\" stroke-linejoin=\"miter\" fill=\"none\" />\n<path d=\"M10,125 L25,125\" stroke-width=\"3\" stroke=\"darkred\" stroke-linejoin=\"miter\" fill=\"none\" />\n<path d=\"M10,175 L25,175\" stroke-width=\"3\" stroke=\"darkred\" stroke-linejoin=\"miter\" fill=\"none\" />\n<path d=\"M25,25 L53,25 L72,44\" stroke=\"darkred\" stroke-width=\"3\" fill=\"none\" />\n<path d=\"M78,44 L97,25 L125,25\" stroke=\"darkred\" stroke-width=\"3\" fill=\"none\" />\n<path d=\"M25,75 L53,75 L72,56\" stroke=\"darkred\" stroke-width=\"3\" fill=\"none\" />\n<path d=\"M78,56 L97,75 L125,75\" stroke=\"darkred\" stroke-width=\"3\" fill=\"none\" />\n<path d=\"M50,43 L100,43 L100,57 L50,57 Z\" stroke=\"black\" fill=\"black\" stroke-linejoin=\"miter\" />\n<text x=\"75\" y=\"85\" font-size=\"7\" text-anchor=\"middle\" dy=\"0em\"></text>\n<text x=\"75\" y=\"26\" font-size=\"7\" text-anchor=\"middle\" dy=\"0em\"></text>\n<path d=\"M50,43 L100,43 L100,47 L50,47 Z\" stroke=\"black\" fill=\"lightgray\" stroke-linejoin=\"miter\" />\n<path d=\"M93,50 L103,50 L103,60 L93,60 Z\" stroke=\"black\" fill=\"thistle\" stroke-linejoin=\"miter\" />\n<text x=\"98\" y=\"57\" font-size=\"6\" text-anchor=\"middle\" dy=\"0em\">Rx</text>\n<path d=\"M25,125 L53,125 L72,144\" stroke=\"darkred\" stroke-width=\"3\" fill=\"none\" />\n<path d=\"M78,144 L97,125 L125,125\" stroke=\"darkred\" stroke-width=\"3\" fill=\"none\" />\n<path d=\"M25,175 L53,175 L72,156\" stroke=\"darkred\" stroke-width=\"3\" fill=\"none\" />\n<path d=\"M78,156 L97,175 L125,175\" stroke=\"darkred\" stroke-width=\"3\" fill=\"none\" />\n<path d=\"M50,143 L100,143 L100,157 L50,157 Z\" stroke=\"black\" fill=\"black\" stroke-linejoin=\"miter\" />\n<text x=\"75\" y=\"185\" font-size=\"7\" text-anchor=\"middle\" dy=\"0em\"></text>\n<text x=\"75\" y=\"126\" font-size=\"7\" text-anchor=\"middle\" dy=\"0em\"></text>\n<path d=\"M50,143 L100,143 L100,147 L50,147 Z\" stroke=\"black\" fill=\"lightgray\" stroke-linejoin=\"miter\" />\n<path d=\"M93,150 L103,150 L103,160 L93,160 Z\" stroke=\"black\" fill=\"thistle\" stroke-linejoin=\"miter\" />\n<text x=\"98\" y=\"157\" font-size=\"6\" text-anchor=\"middle\" dy=\"0em\">Rx</text>\n<path d=\"M125,25 L140,25\" stroke-width=\"3\" stroke=\"darkred\" stroke-linejoin=\"miter\" fill=\"none\" />\n<path d=\"M125,75 L140,75\" stroke-width=\"3\" stroke=\"darkred\" stroke-linejoin=\"miter\" fill=\"none\" />\n<path d=\"M125,125 L140,125\" stroke-width=\"3\" stroke=\"darkred\" stroke-linejoin=\"miter\" fill=\"none\" />\n<path d=\"M125,175 L140,175\" stroke-width=\"3\" stroke=\"darkred\" stroke-linejoin=\"miter\" fill=\"none\" />\n<text x=\"150\" y=\"28\" font-size=\"6\" text-anchor=\"end\" dy=\"0em\">0</text>\n<text x=\"150\" y=\"78\" font-size=\"6\" text-anchor=\"end\" dy=\"0em\">1</text>\n<text x=\"150\" y=\"128\" font-size=\"6\" text-anchor=\"end\" dy=\"0em\">2</text>\n<text x=\"150\" y=\"178\" font-size=\"6\" text-anchor=\"end\" dy=\"0em\">3</text>\n<text x=\"0\" y=\"28\" font-size=\"6\" text-anchor=\"start\" dy=\"0em\">0</text>\n<text x=\"0\" y=\"78\" font-size=\"6\" text-anchor=\"start\" dy=\"0em\">1</text>\n<text x=\"0\" y=\"128\" font-size=\"6\" text-anchor=\"start\" dy=\"0em\">2</text>\n<text x=\"0\" y=\"178\" font-size=\"6\" text-anchor=\"start\" dy=\"0em\">3</text>\n</svg>",
      "text/plain": [
       "<drawSvg.drawing.Drawing at 0x7fc3025819a0>"
      ]
     },
     "execution_count": 7,
     "metadata": {},
     "output_type": "execute_result"
    }
   ],
   "source": [
    "## Create the circuit\n",
    "\n",
    "n = 2 #Nombre de modes spatiaux\n",
    "m = 2 #Nombre de modes internes\n",
    "nbPhoton = 2 #Nombre de photon\n",
    "circuit = pcvl.Circuit(n*m)\n",
    "circuit.add((0,1), pcvl.BS())\n",
    "circuit.add((2,3),pcvl.BS())\n",
    "\n",
    "pcvl.pdisplay(circuit)"
   ]
  },
  {
   "cell_type": "code",
   "execution_count": 8,
   "metadata": {},
   "outputs": [
    {
     "name": "stdout",
     "output_type": "stream",
     "text": [
      "[array([1, 0, 1, 0, 0, 0, 0, 0]), array([1, 0, 0, 0, 0, 0, 1, 0]), array([0, 0, 1, 0, 1, 0, 0, 0]), array([0, 0, 0, 0, 1, 0, 1, 0])]\n"
     ]
    },
    {
     "ename": "MaskError",
     "evalue": "Mask and data not compatible: data size is 16, mask size is 8.",
     "output_type": "error",
     "traceback": [
      "\u001b[0;31m---------------------------------------------------------------------------\u001b[0m",
      "\u001b[0;31mMaskError\u001b[0m                                 Traceback (most recent call last)",
      "\u001b[1;32m/Users/simsim/Documents/loops_with_perceval/Simon/ProbMeasurePropre.ipynb Cellule 4\u001b[0m in \u001b[0;36m<cell line: 9>\u001b[0;34m()\u001b[0m\n\u001b[1;32m      <a href='vscode-notebook-cell:/Users/simsim/Documents/loops_with_perceval/Simon/ProbMeasurePropre.ipynb#W3sZmlsZQ%3D%3D?line=1'>2</a>\u001b[0m statesdict \u001b[39m=\u001b[39m {\n\u001b[1;32m      <a href='vscode-notebook-cell:/Users/simsim/Documents/loops_with_perceval/Simon/ProbMeasurePropre.ipynb#W3sZmlsZQ%3D%3D?line=2'>3</a>\u001b[0m     \u001b[39m\"\u001b[39m\u001b[39m0,0\u001b[39m\u001b[39m\"\u001b[39m: [\u001b[39m1\u001b[39m, \u001b[39m0\u001b[39m, \u001b[39m1\u001b[39m, \u001b[39m0\u001b[39m],\n\u001b[1;32m      <a href='vscode-notebook-cell:/Users/simsim/Documents/loops_with_perceval/Simon/ProbMeasurePropre.ipynb#W3sZmlsZQ%3D%3D?line=3'>4</a>\u001b[0m     \u001b[39m\"\u001b[39m\u001b[39m0,1\u001b[39m\u001b[39m\"\u001b[39m: [\u001b[39m1\u001b[39m, \u001b[39m0\u001b[39m, \u001b[39m0\u001b[39m, \u001b[39m1\u001b[39m],\n\u001b[1;32m      <a href='vscode-notebook-cell:/Users/simsim/Documents/loops_with_perceval/Simon/ProbMeasurePropre.ipynb#W3sZmlsZQ%3D%3D?line=4'>5</a>\u001b[0m     \u001b[39m\"\u001b[39m\u001b[39m1,0\u001b[39m\u001b[39m\"\u001b[39m: [\u001b[39m0\u001b[39m, \u001b[39m1\u001b[39m, \u001b[39m1\u001b[39m, \u001b[39m0\u001b[39m],\n\u001b[1;32m      <a href='vscode-notebook-cell:/Users/simsim/Documents/loops_with_perceval/Simon/ProbMeasurePropre.ipynb#W3sZmlsZQ%3D%3D?line=5'>6</a>\u001b[0m     \u001b[39m\"\u001b[39m\u001b[39m1,1\u001b[39m\u001b[39m\"\u001b[39m: [\u001b[39m0\u001b[39m, \u001b[39m1\u001b[39m, \u001b[39m0\u001b[39m, \u001b[39m1\u001b[39m]\n\u001b[1;32m      <a href='vscode-notebook-cell:/Users/simsim/Documents/loops_with_perceval/Simon/ProbMeasurePropre.ipynb#W3sZmlsZQ%3D%3D?line=6'>7</a>\u001b[0m }\n\u001b[1;32m      <a href='vscode-notebook-cell:/Users/simsim/Documents/loops_with_perceval/Simon/ProbMeasurePropre.ipynb#W3sZmlsZQ%3D%3D?line=7'>8</a>\u001b[0m C \u001b[39m=\u001b[39m np\u001b[39m.\u001b[39marray([[\u001b[39m1\u001b[39m,\u001b[39m0\u001b[39m,\u001b[39m0\u001b[39m,\u001b[39m0\u001b[39m],[np\u001b[39m.\u001b[39mcos(theta),np\u001b[39m.\u001b[39msin(theta),\u001b[39m0\u001b[39m,\u001b[39m0\u001b[39m],[\u001b[39m1\u001b[39m\u001b[39m/\u001b[39mnp\u001b[39m.\u001b[39msqrt(\u001b[39m3\u001b[39m),\u001b[39m1\u001b[39m\u001b[39m/\u001b[39mnp\u001b[39m.\u001b[39msqrt(\u001b[39m3\u001b[39m),\u001b[39m1\u001b[39m\u001b[39m/\u001b[39mnp\u001b[39m.\u001b[39msqrt(\u001b[39m3\u001b[39m),\u001b[39m0\u001b[39m],[\u001b[39m1\u001b[39m\u001b[39m/\u001b[39mnp\u001b[39m.\u001b[39msqrt(\u001b[39m4\u001b[39m),\u001b[39m1\u001b[39m\u001b[39m/\u001b[39mnp\u001b[39m.\u001b[39msqrt(\u001b[39m4\u001b[39m),\u001b[39m1\u001b[39m\u001b[39m/\u001b[39mnp\u001b[39m.\u001b[39msqrt(\u001b[39m4\u001b[39m),\u001b[39m1\u001b[39m\u001b[39m/\u001b[39mnp\u001b[39m.\u001b[39msqrt(\u001b[39m4\u001b[39m)]])\n\u001b[0;32m----> <a href='vscode-notebook-cell:/Users/simsim/Documents/loops_with_perceval/Simon/ProbMeasurePropre.ipynb#W3sZmlsZQ%3D%3D?line=8'>9</a>\u001b[0m InputsBS \u001b[39m=\u001b[39m create_inputs([\u001b[39m1\u001b[39;49m,\u001b[39m0\u001b[39;49m,\u001b[39m1\u001b[39;49m,\u001b[39m0\u001b[39;49m],C,statesdict)\n\u001b[1;32m     <a href='vscode-notebook-cell:/Users/simsim/Documents/loops_with_perceval/Simon/ProbMeasurePropre.ipynb#W3sZmlsZQ%3D%3D?line=11'>12</a>\u001b[0m \u001b[39m#Get backend and simulation\u001b[39;00m\n\u001b[1;32m     <a href='vscode-notebook-cell:/Users/simsim/Documents/loops_with_perceval/Simon/ProbMeasurePropre.ipynb#W3sZmlsZQ%3D%3D?line=12'>13</a>\u001b[0m backend \u001b[39m=\u001b[39m pcvl\u001b[39m.\u001b[39mBackendFactory\u001b[39m.\u001b[39mget_backend(\u001b[39m\"\u001b[39m\u001b[39mNaive\u001b[39m\u001b[39m\"\u001b[39m)\n",
      "\u001b[1;32m/Users/simsim/Documents/loops_with_perceval/Simon/ProbMeasurePropre.ipynb Cellule 4\u001b[0m in \u001b[0;36mcreate_inputs\u001b[0;34m(enterFunc, Coefs, Dictionnary)\u001b[0m\n\u001b[1;32m     <a href='vscode-notebook-cell:/Users/simsim/Documents/loops_with_perceval/Simon/ProbMeasurePropre.ipynb#W3sZmlsZQ%3D%3D?line=56'>57</a>\u001b[0m \u001b[39mfor\u001b[39;00m i \u001b[39min\u001b[39;00m \u001b[39mrange\u001b[39m(\u001b[39mlen\u001b[39m(realInputs)):\n\u001b[1;32m     <a href='vscode-notebook-cell:/Users/simsim/Documents/loops_with_perceval/Simon/ProbMeasurePropre.ipynb#W3sZmlsZQ%3D%3D?line=57'>58</a>\u001b[0m     ArrCond \u001b[39m=\u001b[39m np\u001b[39m.\u001b[39marray(realInputs[i])\u001b[39m.\u001b[39mreshape(internMode,spatialMode)\u001b[39m.\u001b[39mT\n\u001b[0;32m---> <a href='vscode-notebook-cell:/Users/simsim/Documents/loops_with_perceval/Simon/ProbMeasurePropre.ipynb#W3sZmlsZQ%3D%3D?line=58'>59</a>\u001b[0m     y \u001b[39m=\u001b[39m np\u001b[39m.\u001b[39;49mma\u001b[39m.\u001b[39;49mmasked_array(Arr, \u001b[39mabs\u001b[39;49m(ArrCond\u001b[39m-\u001b[39;49m\u001b[39m1\u001b[39;49m))\n\u001b[1;32m     <a href='vscode-notebook-cell:/Users/simsim/Documents/loops_with_perceval/Simon/ProbMeasurePropre.ipynb#W3sZmlsZQ%3D%3D?line=59'>60</a>\u001b[0m     c\u001b[39m.\u001b[39mappend(np\u001b[39m.\u001b[39mprod(y))\n\u001b[1;32m     <a href='vscode-notebook-cell:/Users/simsim/Documents/loops_with_perceval/Simon/ProbMeasurePropre.ipynb#W3sZmlsZQ%3D%3D?line=61'>62</a>\u001b[0m k \u001b[39m=\u001b[39m \u001b[39m0\u001b[39m\n",
      "File \u001b[0;32m~/opt/anaconda3/envs/py39/lib/python3.9/site-packages/numpy/ma/core.py:2906\u001b[0m, in \u001b[0;36mMaskedArray.__new__\u001b[0;34m(cls, data, mask, dtype, copy, subok, ndmin, fill_value, keep_mask, hard_mask, shrink, order)\u001b[0m\n\u001b[1;32m   2903\u001b[0m     \u001b[39melse\u001b[39;00m:\n\u001b[1;32m   2904\u001b[0m         msg \u001b[39m=\u001b[39m \u001b[39m\"\u001b[39m\u001b[39mMask and data not compatible: data size is \u001b[39m\u001b[39m%i\u001b[39;00m\u001b[39m, \u001b[39m\u001b[39m\"\u001b[39m \u001b[39m+\u001b[39m \\\n\u001b[1;32m   2905\u001b[0m               \u001b[39m\"\u001b[39m\u001b[39mmask size is \u001b[39m\u001b[39m%i\u001b[39;00m\u001b[39m.\u001b[39m\u001b[39m\"\u001b[39m\n\u001b[0;32m-> 2906\u001b[0m         \u001b[39mraise\u001b[39;00m MaskError(msg \u001b[39m%\u001b[39m (nd, nm))\n\u001b[1;32m   2907\u001b[0m     copy \u001b[39m=\u001b[39m \u001b[39mTrue\u001b[39;00m\n\u001b[1;32m   2908\u001b[0m \u001b[39m# Set the mask to the new value\u001b[39;00m\n",
      "\u001b[0;31mMaskError\u001b[0m: Mask and data not compatible: data size is 16, mask size is 8."
     ]
    }
   ],
   "source": [
    "theta = np.pi/3\n",
    "statesdict = {\n",
    "    \"0,0\": [1, 0, 1, 0],\n",
    "    \"0,1\": [1, 0, 0, 1],\n",
    "    \"1,0\": [0, 1, 1, 0],\n",
    "    \"1,1\": [0, 1, 0, 1]\n",
    "}\n",
    "C = np.array([[1,0,0,0],[np.cos(theta),np.sin(theta),0,0],[1/np.sqrt(3),1/np.sqrt(3),1/np.sqrt(3),0],[1/np.sqrt(4),1/np.sqrt(4),1/np.sqrt(4),1/np.sqrt(4)]])\n",
    "InputsBS = create_inputs([1,0,1,0],C,statesdict)\n",
    "\n",
    "\n",
    "#Get backend and simulation\n",
    "backend = pcvl.BackendFactory.get_backend(\"Naive\")\n",
    "\n",
    "simulator = backend(circuit)\n",
    "Sol = simulator.allstateprob_iterator(InputsBS)\n",
    "\n",
    "#Prob = calculate_proba(n,m,[1,1],Sol)"
   ]
  },
  {
   "attachments": {},
   "cell_type": "markdown",
   "metadata": {},
   "source": [
    "Test CNOT"
   ]
  },
  {
   "cell_type": "code",
   "execution_count": 3,
   "metadata": {},
   "outputs": [
    {
     "data": {
      "image/svg+xml": "<?xml version=\"1.0\" encoding=\"UTF-8\"?>\n<svg xmlns=\"http://www.w3.org/2000/svg\" xmlns:xlink=\"http://www.w3.org/1999/xlink\"\n     width=\"562.5\" height=\"812.5\" viewBox=\"-39.0 0 450 650\">\n<defs>\n</defs>\n<path d=\"M10,75 L25,75\" stroke-width=\"3\" stroke=\"darkred\" stroke-linejoin=\"miter\" fill=\"none\" />\n<path d=\"M10,125 L25,125\" stroke-width=\"3\" stroke=\"darkred\" stroke-linejoin=\"miter\" fill=\"none\" />\n<path d=\"M10,175 L25,175\" stroke-width=\"3\" stroke=\"darkred\" stroke-linejoin=\"miter\" fill=\"none\" />\n<path d=\"M10,225 L25,225\" stroke-width=\"3\" stroke=\"darkred\" stroke-linejoin=\"miter\" fill=\"none\" />\n<path d=\"M10,375 L25,375\" stroke-width=\"3\" stroke=\"darkred\" stroke-linejoin=\"miter\" fill=\"none\" />\n<path d=\"M10,425 L25,425\" stroke-width=\"3\" stroke=\"darkred\" stroke-linejoin=\"miter\" fill=\"none\" />\n<path d=\"M10,475 L25,475\" stroke-width=\"3\" stroke=\"darkred\" stroke-linejoin=\"miter\" fill=\"none\" />\n<path d=\"M10,525 L25,525\" stroke-width=\"3\" stroke=\"darkred\" stroke-linejoin=\"miter\" fill=\"none\" />\n<path d=\"M27,2 L323,2 L323,598 L27,598 Z\" stroke=\"black\" fill=\"lightblue\" stroke-dasharray=\"1,2\" stroke-linejoin=\"miter\" />\n<text x=\"29\" y=\"605\" font-size=\"8\" text-anchor=\"start\" dy=\"0em\">RALPH CNOT</text>\n<path d=\"M25,25 L53,25 L72,44\" stroke=\"darkred\" stroke-width=\"3\" fill=\"none\" />\n<path d=\"M78,44 L97,25 L125,25\" stroke=\"darkred\" stroke-width=\"3\" fill=\"none\" />\n<path d=\"M25,75 L53,75 L72,56\" stroke=\"darkred\" stroke-width=\"3\" fill=\"none\" />\n<path d=\"M78,56 L97,75 L125,75\" stroke=\"darkred\" stroke-width=\"3\" fill=\"none\" />\n<path d=\"M50,43 L100,43 L100,57 L50,57 Z\" stroke=\"black\" fill=\"black\" stroke-linejoin=\"miter\" />\n<text x=\"75\" y=\"95\" font-size=\"6\" text-anchor=\"middle\"><tspan x=\"75\" dy=\"0em\">Φ_tl=3*pi/2</tspan><tspan x=\"75\" dy=\"1em\">Φ_bl=pi</tspan><tspan x=\"75\" dy=\"1em\">Φ_tr=pi/2</tspan></text>\n<text x=\"75\" y=\"26\" font-size=\"7\" text-anchor=\"middle\" dy=\"0em\">Θ=1.910633</text>\n<path d=\"M50,43 L100,43 L100,47 L50,47 Z\" stroke=\"black\" fill=\"lightgray\" stroke-linejoin=\"miter\" />\n<path d=\"M93,50 L103,50 L103,60 L93,60 Z\" stroke=\"black\" fill=\"aquamarine\" stroke-linejoin=\"miter\" />\n<text x=\"98\" y=\"57\" font-size=\"6\" text-anchor=\"middle\" dy=\"0em\">H</text>\n<path d=\"M25,175 L53,175 L72,194\" stroke=\"darkred\" stroke-width=\"3\" fill=\"none\" />\n<path d=\"M78,194 L97,175 L125,175\" stroke=\"darkred\" stroke-width=\"3\" fill=\"none\" />\n<path d=\"M25,225 L53,225 L72,206\" stroke=\"darkred\" stroke-width=\"3\" fill=\"none\" />\n<path d=\"M78,206 L97,225 L125,225\" stroke=\"darkred\" stroke-width=\"3\" fill=\"none\" />\n<path d=\"M50,193 L100,193 L100,207 L50,207 Z\" stroke=\"black\" fill=\"black\" stroke-linejoin=\"miter\" />\n<text x=\"75\" y=\"235\" font-size=\"7\" text-anchor=\"middle\" dy=\"0em\"></text>\n<text x=\"75\" y=\"176\" font-size=\"7\" text-anchor=\"middle\" dy=\"0em\"></text>\n<path d=\"M50,193 L100,193 L100,197 L50,197 Z\" stroke=\"black\" fill=\"lightgray\" stroke-linejoin=\"miter\" />\n<path d=\"M93,200 L103,200 L103,210 L93,210 Z\" stroke=\"black\" fill=\"aquamarine\" stroke-linejoin=\"miter\" />\n<text x=\"98\" y=\"207\" font-size=\"6\" text-anchor=\"middle\" dy=\"0em\">H</text>\n<path d=\"M25,125 L125,125\" stroke=\"darkred\" stroke-width=\"3\" fill=\"none\" />\n<path d=\"M125,125 L153,125 L172,144\" stroke=\"darkred\" stroke-width=\"3\" fill=\"none\" />\n<path d=\"M178,144 L197,125 L225,125\" stroke=\"darkred\" stroke-width=\"3\" fill=\"none\" />\n<path d=\"M125,175 L153,175 L172,156\" stroke=\"darkred\" stroke-width=\"3\" fill=\"none\" />\n<path d=\"M178,156 L197,175 L225,175\" stroke=\"darkred\" stroke-width=\"3\" fill=\"none\" />\n<path d=\"M150,143 L200,143 L200,157 L150,157 Z\" stroke=\"black\" fill=\"black\" stroke-linejoin=\"miter\" />\n<text x=\"175\" y=\"195\" font-size=\"6\" text-anchor=\"middle\"><tspan x=\"175\" dy=\"0em\">Φ_tl=3*pi/2</tspan><tspan x=\"175\" dy=\"1em\">Φ_bl=pi</tspan><tspan x=\"175\" dy=\"1em\">Φ_tr=pi/2</tspan></text>\n<text x=\"175\" y=\"126\" font-size=\"7\" text-anchor=\"middle\" dy=\"0em\">Θ=1.910633</text>\n<path d=\"M150,143 L200,143 L200,147 L150,147 Z\" stroke=\"black\" fill=\"lightgray\" stroke-linejoin=\"miter\" />\n<path d=\"M193,150 L203,150 L203,160 L193,160 Z\" stroke=\"black\" fill=\"aquamarine\" stroke-linejoin=\"miter\" />\n<text x=\"198\" y=\"157\" font-size=\"6\" text-anchor=\"middle\" dy=\"0em\">H</text>\n<path d=\"M125,225 L153,225 L172,244\" stroke=\"darkred\" stroke-width=\"3\" fill=\"none\" />\n<path d=\"M178,244 L197,225 L225,225\" stroke=\"darkred\" stroke-width=\"3\" fill=\"none\" />\n<path d=\"M125,275 L153,275 L172,256\" stroke=\"darkred\" stroke-width=\"3\" fill=\"none\" />\n<path d=\"M178,256 L197,275 L225,275\" stroke=\"darkred\" stroke-width=\"3\" fill=\"none\" />\n<path d=\"M150,243 L200,243 L200,257 L150,257 Z\" stroke=\"black\" fill=\"black\" stroke-linejoin=\"miter\" />\n<text x=\"175\" y=\"280\" font-size=\"7\" text-anchor=\"middle\" dy=\"0em\"></text>\n<text x=\"175\" y=\"226\" font-size=\"7\" text-anchor=\"middle\" dy=\"0em\">Θ=1.910633</text>\n<path d=\"M150,243 L200,243 L200,247 L150,247 Z\" stroke=\"black\" fill=\"lightgray\" stroke-linejoin=\"miter\" />\n<path d=\"M193,250 L203,250 L203,260 L193,260 Z\" stroke=\"black\" fill=\"aquamarine\" stroke-linejoin=\"miter\" />\n<text x=\"198\" y=\"257\" font-size=\"6\" text-anchor=\"middle\" dy=\"0em\">H</text>\n<path d=\"M225,175 L253,175 L272,194\" stroke=\"darkred\" stroke-width=\"3\" fill=\"none\" />\n<path d=\"M278,194 L297,175 L325,175\" stroke=\"darkred\" stroke-width=\"3\" fill=\"none\" />\n<path d=\"M225,225 L253,225 L272,206\" stroke=\"darkred\" stroke-width=\"3\" fill=\"none\" />\n<path d=\"M278,206 L297,225 L325,225\" stroke=\"darkred\" stroke-width=\"3\" fill=\"none\" />\n<path d=\"M250,193 L300,193 L300,207 L250,207 Z\" stroke=\"black\" fill=\"black\" stroke-linejoin=\"miter\" />\n<text x=\"275\" y=\"235\" font-size=\"7\" text-anchor=\"middle\" dy=\"0em\"></text>\n<text x=\"275\" y=\"176\" font-size=\"7\" text-anchor=\"middle\" dy=\"0em\"></text>\n<path d=\"M250,193 L300,193 L300,197 L250,197 Z\" stroke=\"black\" fill=\"lightgray\" stroke-linejoin=\"miter\" />\n<path d=\"M293,200 L303,200 L303,210 L293,210 Z\" stroke=\"black\" fill=\"aquamarine\" stroke-linejoin=\"miter\" />\n<text x=\"298\" y=\"207\" font-size=\"6\" text-anchor=\"middle\" dy=\"0em\">H</text>\n<path d=\"M25,325 L53,325 L72,344\" stroke=\"darkred\" stroke-width=\"3\" fill=\"none\" />\n<path d=\"M78,344 L97,325 L125,325\" stroke=\"darkred\" stroke-width=\"3\" fill=\"none\" />\n<path d=\"M25,375 L53,375 L72,356\" stroke=\"darkred\" stroke-width=\"3\" fill=\"none\" />\n<path d=\"M78,356 L97,375 L125,375\" stroke=\"darkred\" stroke-width=\"3\" fill=\"none\" />\n<path d=\"M50,343 L100,343 L100,357 L50,357 Z\" stroke=\"black\" fill=\"black\" stroke-linejoin=\"miter\" />\n<text x=\"75\" y=\"395\" font-size=\"6\" text-anchor=\"middle\"><tspan x=\"75\" dy=\"0em\">Φ_tl=3*pi/2</tspan><tspan x=\"75\" dy=\"1em\">Φ_bl=pi</tspan><tspan x=\"75\" dy=\"1em\">Φ_tr=pi/2</tspan></text>\n<text x=\"75\" y=\"326\" font-size=\"7\" text-anchor=\"middle\" dy=\"0em\">Θ=1.910633</text>\n<path d=\"M50,343 L100,343 L100,347 L50,347 Z\" stroke=\"black\" fill=\"lightgray\" stroke-linejoin=\"miter\" />\n<path d=\"M93,350 L103,350 L103,360 L93,360 Z\" stroke=\"black\" fill=\"aquamarine\" stroke-linejoin=\"miter\" />\n<text x=\"98\" y=\"357\" font-size=\"6\" text-anchor=\"middle\" dy=\"0em\">H</text>\n<path d=\"M25,475 L53,475 L72,494\" stroke=\"darkred\" stroke-width=\"3\" fill=\"none\" />\n<path d=\"M78,494 L97,475 L125,475\" stroke=\"darkred\" stroke-width=\"3\" fill=\"none\" />\n<path d=\"M25,525 L53,525 L72,506\" stroke=\"darkred\" stroke-width=\"3\" fill=\"none\" />\n<path d=\"M78,506 L97,525 L125,525\" stroke=\"darkred\" stroke-width=\"3\" fill=\"none\" />\n<path d=\"M50,493 L100,493 L100,507 L50,507 Z\" stroke=\"black\" fill=\"black\" stroke-linejoin=\"miter\" />\n<text x=\"75\" y=\"535\" font-size=\"7\" text-anchor=\"middle\" dy=\"0em\"></text>\n<text x=\"75\" y=\"476\" font-size=\"7\" text-anchor=\"middle\" dy=\"0em\"></text>\n<path d=\"M50,493 L100,493 L100,497 L50,497 Z\" stroke=\"black\" fill=\"lightgray\" stroke-linejoin=\"miter\" />\n<path d=\"M93,500 L103,500 L103,510 L93,510 Z\" stroke=\"black\" fill=\"aquamarine\" stroke-linejoin=\"miter\" />\n<text x=\"98\" y=\"507\" font-size=\"6\" text-anchor=\"middle\" dy=\"0em\">H</text>\n<path d=\"M25,425 L125,425\" stroke=\"darkred\" stroke-width=\"3\" fill=\"none\" />\n<path d=\"M125,425 L153,425 L172,444\" stroke=\"darkred\" stroke-width=\"3\" fill=\"none\" />\n<path d=\"M178,444 L197,425 L225,425\" stroke=\"darkred\" stroke-width=\"3\" fill=\"none\" />\n<path d=\"M125,475 L153,475 L172,456\" stroke=\"darkred\" stroke-width=\"3\" fill=\"none\" />\n<path d=\"M178,456 L197,475 L225,475\" stroke=\"darkred\" stroke-width=\"3\" fill=\"none\" />\n<path d=\"M150,443 L200,443 L200,457 L150,457 Z\" stroke=\"black\" fill=\"black\" stroke-linejoin=\"miter\" />\n<text x=\"175\" y=\"495\" font-size=\"6\" text-anchor=\"middle\"><tspan x=\"175\" dy=\"0em\">Φ_tl=3*pi/2</tspan><tspan x=\"175\" dy=\"1em\">Φ_bl=pi</tspan><tspan x=\"175\" dy=\"1em\">Φ_tr=pi/2</tspan></text>\n<text x=\"175\" y=\"426\" font-size=\"7\" text-anchor=\"middle\" dy=\"0em\">Θ=1.910633</text>\n<path d=\"M150,443 L200,443 L200,447 L150,447 Z\" stroke=\"black\" fill=\"lightgray\" stroke-linejoin=\"miter\" />\n<path d=\"M193,450 L203,450 L203,460 L193,460 Z\" stroke=\"black\" fill=\"aquamarine\" stroke-linejoin=\"miter\" />\n<text x=\"198\" y=\"457\" font-size=\"6\" text-anchor=\"middle\" dy=\"0em\">H</text>\n<path d=\"M125,525 L153,525 L172,544\" stroke=\"darkred\" stroke-width=\"3\" fill=\"none\" />\n<path d=\"M178,544 L197,525 L225,525\" stroke=\"darkred\" stroke-width=\"3\" fill=\"none\" />\n<path d=\"M125,575 L153,575 L172,556\" stroke=\"darkred\" stroke-width=\"3\" fill=\"none\" />\n<path d=\"M178,556 L197,575 L225,575\" stroke=\"darkred\" stroke-width=\"3\" fill=\"none\" />\n<path d=\"M150,543 L200,543 L200,557 L150,557 Z\" stroke=\"black\" fill=\"black\" stroke-linejoin=\"miter\" />\n<text x=\"175\" y=\"580\" font-size=\"7\" text-anchor=\"middle\" dy=\"0em\"></text>\n<text x=\"175\" y=\"526\" font-size=\"7\" text-anchor=\"middle\" dy=\"0em\">Θ=1.910633</text>\n<path d=\"M150,543 L200,543 L200,547 L150,547 Z\" stroke=\"black\" fill=\"lightgray\" stroke-linejoin=\"miter\" />\n<path d=\"M193,550 L203,550 L203,560 L193,560 Z\" stroke=\"black\" fill=\"aquamarine\" stroke-linejoin=\"miter\" />\n<text x=\"198\" y=\"557\" font-size=\"6\" text-anchor=\"middle\" dy=\"0em\">H</text>\n<path d=\"M225,475 L253,475 L272,494\" stroke=\"darkred\" stroke-width=\"3\" fill=\"none\" />\n<path d=\"M278,494 L297,475 L325,475\" stroke=\"darkred\" stroke-width=\"3\" fill=\"none\" />\n<path d=\"M225,525 L253,525 L272,506\" stroke=\"darkred\" stroke-width=\"3\" fill=\"none\" />\n<path d=\"M278,506 L297,525 L325,525\" stroke=\"darkred\" stroke-width=\"3\" fill=\"none\" />\n<path d=\"M250,493 L300,493 L300,507 L250,507 Z\" stroke=\"black\" fill=\"black\" stroke-linejoin=\"miter\" />\n<text x=\"275\" y=\"535\" font-size=\"7\" text-anchor=\"middle\" dy=\"0em\"></text>\n<text x=\"275\" y=\"476\" font-size=\"7\" text-anchor=\"middle\" dy=\"0em\"></text>\n<path d=\"M250,493 L300,493 L300,497 L250,497 Z\" stroke=\"black\" fill=\"lightgray\" stroke-linejoin=\"miter\" />\n<path d=\"M293,500 L303,500 L303,510 L293,510 Z\" stroke=\"black\" fill=\"aquamarine\" stroke-linejoin=\"miter\" />\n<text x=\"298\" y=\"507\" font-size=\"6\" text-anchor=\"middle\" dy=\"0em\">H</text>\n<path d=\"M125,75 L325,75\" stroke=\"darkred\" stroke-width=\"3\" fill=\"none\" />\n<path d=\"M225,125 L325,125\" stroke=\"darkred\" stroke-width=\"3\" fill=\"none\" />\n<path d=\"M125,375 L325,375\" stroke=\"darkred\" stroke-width=\"3\" fill=\"none\" />\n<path d=\"M225,425 L325,425\" stroke=\"darkred\" stroke-width=\"3\" fill=\"none\" />\n<path d=\"M325,75 L340,75\" stroke-width=\"3\" stroke=\"darkred\" stroke-linejoin=\"miter\" fill=\"none\" />\n<path d=\"M325,125 L340,125\" stroke-width=\"3\" stroke=\"darkred\" stroke-linejoin=\"miter\" fill=\"none\" />\n<path d=\"M325,175 L340,175\" stroke-width=\"3\" stroke=\"darkred\" stroke-linejoin=\"miter\" fill=\"none\" />\n<path d=\"M325,225 L340,225\" stroke-width=\"3\" stroke=\"darkred\" stroke-linejoin=\"miter\" fill=\"none\" />\n<path d=\"M325,375 L340,375\" stroke-width=\"3\" stroke=\"darkred\" stroke-linejoin=\"miter\" fill=\"none\" />\n<path d=\"M325,425 L340,425\" stroke-width=\"3\" stroke=\"darkred\" stroke-linejoin=\"miter\" fill=\"none\" />\n<path d=\"M325,475 L340,475\" stroke-width=\"3\" stroke=\"darkred\" stroke-linejoin=\"miter\" fill=\"none\" />\n<path d=\"M325,525 L340,525\" stroke-width=\"3\" stroke=\"darkred\" stroke-linejoin=\"miter\" fill=\"none\" />\n<path d=\"M7,25 C7,25,7,15,17,15 L25,15 L25,35 L17,35 C7,35,7,25,7,25 L7,25\" stroke-width=\"1\" stroke=\"black\" stroke-linejoin=\"miter\" fill=\"white\" />\n<text x=\"13\" y=\"41\" font-size=\"6\" text-anchor=\"middle\" font-style=\"italic\" dy=\"0em\">[herald0]</text>\n<text x=\"17\" y=\"28\" font-size=\"7\" text-anchor=\"middle\" dy=\"0em\">0</text>\n<path d=\"M107,275 C107,275,107,265,117,265 L125,265 L125,285 L117,285 C107,285,107,275,107,275 L107,275\" stroke-width=\"1\" stroke=\"black\" stroke-linejoin=\"miter\" fill=\"white\" />\n<text x=\"113\" y=\"291\" font-size=\"6\" text-anchor=\"middle\" font-style=\"italic\" dy=\"0em\">[herald1]</text>\n<text x=\"117\" y=\"278\" font-size=\"7\" text-anchor=\"middle\" dy=\"0em\">0</text>\n<path d=\"M7,325 C7,325,7,315,17,315 L25,315 L25,335 L17,335 C7,335,7,325,7,325 L7,325\" stroke-width=\"1\" stroke=\"black\" stroke-linejoin=\"miter\" fill=\"white\" />\n<text x=\"13\" y=\"341\" font-size=\"6\" text-anchor=\"middle\" font-style=\"italic\" dy=\"0em\">[herald2]</text>\n<text x=\"17\" y=\"328\" font-size=\"7\" text-anchor=\"middle\" dy=\"0em\">0</text>\n<path d=\"M107,575 C107,575,107,565,117,565 L125,565 L125,585 L117,585 C107,585,107,575,107,575 L107,575\" stroke-width=\"1\" stroke=\"black\" stroke-linejoin=\"miter\" fill=\"white\" />\n<text x=\"113\" y=\"591\" font-size=\"6\" text-anchor=\"middle\" font-style=\"italic\" dy=\"0em\">[herald3]</text>\n<text x=\"117\" y=\"578\" font-size=\"7\" text-anchor=\"middle\" dy=\"0em\">0</text>\n<path d=\"M133,35 L125,35 L125,15 L133,15 C133,15,143,15,143,25 C143,35,133,35,133,35 L133,35\" stroke-width=\"1\" stroke=\"black\" stroke-linejoin=\"miter\" fill=\"white\" />\n<text x=\"138\" y=\"41\" font-size=\"6\" text-anchor=\"middle\" font-style=\"italic\" dy=\"0em\">[herald0]</text>\n<text x=\"133\" y=\"28\" font-size=\"7\" text-anchor=\"middle\" dy=\"0em\">0</text>\n<path d=\"M233,285 L225,285 L225,265 L233,265 C233,265,243,265,243,275 C243,285,233,285,233,285 L233,285\" stroke-width=\"1\" stroke=\"black\" stroke-linejoin=\"miter\" fill=\"white\" />\n<text x=\"238\" y=\"291\" font-size=\"6\" text-anchor=\"middle\" font-style=\"italic\" dy=\"0em\">[herald1]</text>\n<text x=\"233\" y=\"278\" font-size=\"7\" text-anchor=\"middle\" dy=\"0em\">0</text>\n<path d=\"M133,335 L125,335 L125,315 L133,315 C133,315,143,315,143,325 C143,335,133,335,133,335 L133,335\" stroke-width=\"1\" stroke=\"black\" stroke-linejoin=\"miter\" fill=\"white\" />\n<text x=\"138\" y=\"341\" font-size=\"6\" text-anchor=\"middle\" font-style=\"italic\" dy=\"0em\">[herald2]</text>\n<text x=\"133\" y=\"328\" font-size=\"7\" text-anchor=\"middle\" dy=\"0em\">0</text>\n<path d=\"M233,585 L225,585 L225,565 L233,565 C233,565,243,565,243,575 C243,585,233,585,233,585 L233,585\" stroke-width=\"1\" stroke=\"black\" stroke-linejoin=\"miter\" fill=\"white\" />\n<text x=\"238\" y=\"591\" font-size=\"6\" text-anchor=\"middle\" font-style=\"italic\" dy=\"0em\">[herald3]</text>\n<text x=\"233\" y=\"578\" font-size=\"7\" text-anchor=\"middle\" dy=\"0em\">0</text>\n</svg>",
      "text/plain": [
       "<drawSvg.drawing.Drawing at 0x7fe7d614dc70>"
      ]
     },
     "execution_count": 3,
     "metadata": {},
     "output_type": "execute_result"
    }
   ],
   "source": [
    "n = 3 #Nombre de modes spatiaux\n",
    "m = 3 #Nombre de modes internes\n",
    "k = 3 #Nombre de photon\n",
    "cnot = pcvl.Circuit(12, name=\"Ralph CNOT\")\n",
    "cnot.add((0, 1), pcvl.BS.H(pcvl.BS.r_to_theta(1/3), phi_tl = -np.pi/2, phi_bl = np.pi, phi_tr = np.pi / 2))\n",
    "cnot.add((3, 4), pcvl.BS.H())\n",
    "cnot.add((2, 3), pcvl.BS.H(pcvl.BS.r_to_theta(1/3), phi_tl = -np.pi/2, phi_bl = np.pi, phi_tr = np.pi / 2))\n",
    "cnot.add((4, 5), pcvl.BS.H(pcvl.BS.r_to_theta(1/3)))\n",
    "cnot.add((3, 4), pcvl.BS.H())\n",
    "#first copy\n",
    "cnot.add((6, 7), pcvl.BS.H(pcvl.BS.r_to_theta(1/3), phi_tl = -np.pi/2, phi_bl = np.pi, phi_tr = np.pi / 2))\n",
    "cnot.add((9, 10), pcvl.BS.H())\n",
    "cnot.add((8, 9), pcvl.BS.H(pcvl.BS.r_to_theta(1/3), phi_tl = -np.pi/2, phi_bl = np.pi, phi_tr = np.pi / 2))\n",
    "cnot.add((10, 11), pcvl.BS.H(pcvl.BS.r_to_theta(1/3)))\n",
    "cnot.add((9, 10), pcvl.BS.H())\n",
    "\"\"\" #second copy\n",
    "cnot.add((12, 13), pcvl.BS.H(pcvl.BS.r_to_theta(1/3), phi_tl = -np.pi/2, phi_bl = np.pi, phi_tr = np.pi / 2))\n",
    "cnot.add((15, 16), pcvl.BS.H())\n",
    "cnot.add((14, 15), pcvl.BS.H(pcvl.BS.r_to_theta(1/3), phi_tl = -np.pi/2, phi_bl = np.pi, phi_tr = np.pi / 2))\n",
    "cnot.add((16, 17), pcvl.BS.H(pcvl.BS.r_to_theta(1/3)))\n",
    "cnot.add((15, 16), pcvl.BS.H())\n",
    "#third copy\n",
    "cnot.add((18, 19), pcvl.BS.H(pcvl.BS.r_to_theta(1/3), phi_tl = -np.pi/2, phi_bl = np.pi, phi_tr = np.pi / 2))\n",
    "cnot.add((21, 22), pcvl.BS.H())\n",
    "cnot.add((20, 21), pcvl.BS.H(pcvl.BS.r_to_theta(1/3), phi_tl = -np.pi/2, phi_bl = np.pi, phi_tr = np.pi / 2))\n",
    "cnot.add((22, 23), pcvl.BS.H(pcvl.BS.r_to_theta(1/3)))\n",
    "cnot.add((21, 22), pcvl.BS.H())\n",
    "pcvl.pdisplay(cnot) \"\"\"\n",
    "\n",
    "p = pcvl.Processor(\"Naive\", cnot)\n",
    "p.set_postprocess(lambda s: (s[1] or s[2] or s[7] or s[8]) and (s[3] or s[4] or s[9] or s[10]))\n",
    "p.add_herald(0, 0)\n",
    "p.add_herald(5, 0)\n",
    "p.add_herald(6, 0)\n",
    "p.add_herald(11, 0)\n",
    "\"\"\" p.add_herald(12, 0)\n",
    "p.add_herald(17, 0)\n",
    "p.add_herald(18, 0)\n",
    "p.add_herald(23, 0) \"\"\"\n",
    "#  and (s[13] or s[14]) and (s[15] or s[16]) and (s[19] or s[20]) and (s[21] or s[22])\n",
    "# and (s[7] or s[8]) and (s[9] or s[10])\n",
    "\n",
    "pcvl.pdisplay(p, recursive = True)\n",
    "\n",
    "\n"
   ]
  },
  {
   "cell_type": "code",
   "execution_count": null,
   "metadata": {},
   "outputs": [],
   "source": [
    "theta1 = np.pi/16\n",
    "theta2 = np.pi/3\n",
    "statesdict = {\n",
    "    \"0,0\": [1, 0, 1, 0],\n",
    "    \"0,1\": [1, 0, 0, 1],\n",
    "    \"1,0\": [0, 1, 1, 0],\n",
    "    \"1,1\": [0, 1, 0, 1]\n",
    "}\n",
    "C = np.array([[np.cos(theta1),np.sin(theta1)],[np.cos(theta2),np.sin(theta2)]])\n",
    "#C = np.array([[1,0],[1,0]])\n",
    "InputsBS,testDict = create_inputs([1,1],C,statesdict)\n",
    "\n",
    "testDictSwap = {v: k for k, v in testDict.items()}\n",
    "realOutput = {}\n",
    "print(InputsBS)\n",
    "for i in range(len(InputsBS)):\n",
    "    miniState = InputsBS[i]\n",
    "    p.with_input(miniState)\n",
    "    output = p.probs()['results']\n",
    "    for ii in output.keys():\n",
    "        realOutput[ii] = output[ii] * InputsBS[miniState]\n",
    "\n",
    "\n",
    "\n",
    "\"\"\" for i,j in zip(realOutput.keys(),realOutput.values()):\n",
    "    \n",
    "\n",
    "    print(testDictSwap[i],j) \"\"\"\n",
    "\n"
   ]
  },
  {
   "cell_type": "code",
   "execution_count": 4,
   "metadata": {},
   "outputs": [
    {
     "name": "stdout",
     "output_type": "stream",
     "text": [
      "0.995185*|0,1,0,1,0,0,0,0>+0.098017*|0,1,0,0,0,0,0,1>\n",
      "|0,1,1,0,0,0,0,0> 0.9903926402016153\n",
      "|0,1,0,0,0,0,0,1> 0.003202453266128258\n",
      "|0,0,1,0,0,1,0,0> 0.003202453266128259\n",
      "|0,0,0,1,0,1,0,0> 0.003202453266128258\n",
      "1.0\n"
     ]
    }
   ],
   "source": [
    "theta = np.pi/32\n",
    "C = np.array([[0,0],[1,0],[0,0],[np.cos(theta),np.sin(theta)]])\n",
    "InputsBS = create_inputs([0,1,0,1],C)\n",
    "\n",
    "print(InputsBS)\n",
    "\n",
    "\n",
    "pcvl.pdisplay(p, recursive = True)\n",
    "realOutput = {}\n",
    "for i in range(len(InputsBS)):\n",
    "    miniState = InputsBS[i]\n",
    "    #print(miniState,':',InputsBS[miniState])\n",
    "    p.with_input(miniState)\n",
    "    output = p.probs()['results']\n",
    "    for ii in output.keys():\n",
    "        if ii in realOutput.keys():\n",
    "            realOutput[ii] = realOutput[ii] + output[ii] * abs(InputsBS[InputsBS[i]]) ** 2\n",
    "        else:\n",
    "            realOutput[ii] = output[ii] * abs(InputsBS[InputsBS[i]]) ** 2\n",
    "K = 0\n",
    "\n",
    "for i,j in zip(realOutput.keys(),realOutput.values()):\n",
    "    print(i,j)\n",
    "    K += j\n",
    "\n",
    "print(K)\n",
    "\n"
   ]
  },
  {
   "cell_type": "code",
   "execution_count": 8,
   "metadata": {},
   "outputs": [
    {
     "name": "stdout",
     "output_type": "stream",
     "text": [
      "<perceval.components.processor.Processor object at 0x7fde30acb040>\n"
     ]
    }
   ],
   "source": [
    "print(p)"
   ]
  },
  {
   "cell_type": "code",
   "execution_count": 5,
   "metadata": {},
   "outputs": [],
   "source": [
    "# Graph\n",
    "thetaArr = np.linspace(0,np.pi/2,100)\n",
    "p = pcvl.Processor(\"Naive\", cnot)\n",
    "p.set_postprocess(lambda s: (s[1] or s[2] or s[7] or s[8]) and (s[3] or s[4] or s[9] or s[10]))\n",
    "p.add_herald(0, 0)\n",
    "p.add_herald(5, 0)\n",
    "p.add_herald(6, 0)\n",
    "p.add_herald(11, 0)\n",
    "\"\"\" p.add_herald(12, 0)\n",
    "p.add_herald(17, 0)\n",
    "p.add_herald(18, 0)\n",
    "p.add_herald(23, 0) \"\"\"\n",
    "#  and (s[13] or s[14]) and (s[15] or s[16]) and (s[19] or s[20]) and (s[21] or s[22])\n",
    "# and (s[7] or s[8]) and (s[9] or s[10])\n",
    "plotArr = []\n",
    "for theta in thetaArr:\n",
    "\n",
    "    C = np.array([[0,0],[1,0],[0,0],[np.cos(theta),np.sin(theta)]])\n",
    "    InputsBS = create_inputs([0,1,0,1],C)\n",
    "\n",
    "\n",
    "    realOutput = {}\n",
    "    for i in range(len(InputsBS)):\n",
    "        miniState = InputsBS[i]\n",
    "        #print(miniState,':',InputsBS[miniState])\n",
    "        p.with_input(miniState)\n",
    "        output = p.probs()['results']\n",
    "        for ii in output.keys():\n",
    "            if ii in realOutput.keys():\n",
    "                realOutput[ii] = realOutput[ii] + output[ii] * InputsBS[InputsBS[i]] ** 2\n",
    "            else:\n",
    "                realOutput[ii] = output[ii] * InputsBS[InputsBS[i]] ** 2\n",
    "    ind = list(realOutput.keys())\n",
    "    \n",
    "    plotArr.append(realOutput[ind[0]])\n",
    "#print(plotArr)"
   ]
  },
  {
   "cell_type": "code",
   "execution_count": 6,
   "metadata": {},
   "outputs": [
    {
     "data": {
      "text/plain": [
       "[<matplotlib.lines.Line2D at 0x7fe7d63350a0>]"
      ]
     },
     "execution_count": 6,
     "metadata": {},
     "output_type": "execute_result"
    },
    {
     "data": {
      "image/png": "[encoded data removed]",
      "text/plain": [
       "<Figure size 640x480 with 1 Axes>"
      ]
     },
     "metadata": {},
     "output_type": "display_data"
    }
   ],
   "source": [
    "import matplotlib.pyplot as plt\n",
    "plt.plot(thetaArr,plotArr)"
   ]
  },
  {
   "cell_type": "code",
   "execution_count": null,
   "metadata": {},
   "outputs": [],
   "source": []
  }
 ],
 "metadata": {
  "kernelspec": {
   "display_name": "Python 3.9.13 ('py39')",
   "language": "python",
   "name": "python3"
  },
  "language_info": {
   "codemirror_mode": {
    "name": "ipython",
    "version": 3
   },
   "file_extension": ".py",
   "mimetype": "text/x-python",
   "name": "python",
   "nbconvert_exporter": "python",
   "pygments_lexer": "ipython3",
   "version": "3.9.13 (main, Aug 25 2022, 18:29:29) \n[Clang 12.0.0 ]"
  },
  "orig_nbformat": 4,
  "vscode": {
   "interpreter": {
    "hash": "898f94b21feb777183c15fbce248ca55001b8c93961fcc05da4697c2e2f314d7"
   }
  }
 },
 "nbformat": 4,
 "nbformat_minor": 2
}
