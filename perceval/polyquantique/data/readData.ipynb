{
 "cells": [
  {
   "cell_type": "code",
   "execution_count": null,
   "metadata": {},
   "outputs": [],
   "source": [
    "import os \n",
    "import numpy as np\n",
    "from matplotlib import pyplot as plt \n",
    "import json \n",
    "import tabulate as tab\n",
    "\n",
    "\n",
    "\n",
    "def txtRead(filename):\n",
    "    time = []\n",
    "    count = []\n",
    "    with open(filename,'r') as file:\n",
    "        file.readline()\n",
    "        for line in file.readlines():\n",
    "            time.append(float(line.split(',')[0]))\n",
    "            count.append(float(str.strip((line.split(',')[1]),'\\n')))\n",
    "    return np.array(time),np.array(count)\n",
    "\n",
    "def xpRead(filename):\n",
    "    with open(filename) as file:\n",
    "        data = json.load(file)\n",
    "        time = data[\"delay data\"]['ch3']['x']\n",
    "        env1 = data[\"delay data\"]['ch3']['y'] \n",
    "        env2 = data[\"delay data\"]['ch4']['y']\n",
    "        delay = data[\"delay data\"][\"delay\"]\n",
    "        c00 = data['cnot'][\"00\"]\n",
    "        c01 = data['cnot'][\"01\"]\n",
    "        c10 = data['cnot'][\"10\"]\n",
    "        c11 = data['cnot'][\"11\"]\n",
    "        tot00 = sum(c00.values())\n",
    "        probsc00 = np.divide([c00[\"00\"], c00[\"01\"],c00[\"10\"],c00[\"11\"]],tot00)\n",
    "        tot01 = sum(c01.values())\n",
    "        probsc01 = np.divide([c01[\"00\"], c01[\"01\"],c01[\"10\"],c01[\"11\"]],tot01)\n",
    "        tot10 = sum(c10.values())\n",
    "        probsc10 = np.divide([c10[\"00\"], c10[\"01\"],c10[\"10\"],c10[\"11\"]],tot10)\n",
    "        tot11 = sum(c11.values())\n",
    "        probsc11 = np.divide([c11[\"00\"], c11[\"01\"],c11[\"10\"],c11[\"11\"]],tot11)\n",
    "        table = np.array([probsc00,probsc01,probsc10,probsc11])\n",
    "\n",
    "\n",
    "        \n",
    "\n",
    "    return time, env1, env2,delay, table\n",
    "\n",
    "    "
   ]
  },
  {
   "cell_type": "code",
   "execution_count": null,
   "metadata": {},
   "outputs": [],
   "source": [
    "time, env1, env2, delay0, table0 = xpRead('./acquired_data/xp_00/data.json')\n",
    "_,_,_,delay1,table1 = xpRead('./acquired_data/xp_01/data.json')\n",
    "_,_,_,delay2,table2 = xpRead('./acquired_data/xp_02/data.json')\n",
    "_,_,_,delay3,table3 = xpRead('./acquired_data/xp_03/data.json')\n",
    "_,_,_,delay4,table4 = xpRead('./acquired_data/xp_04/data.json')\n",
    "_,_,_,delay5,table5 = xpRead('./acquired_data/xp_05/data.json')\n",
    "\n",
    "\n",
    "headers = ['00','01','10','11']\n",
    "table0c = np.c_[headers, table0]\n",
    "table1c = np.c_[headers, table1]\n",
    "table2c = np.c_[headers, table2]\n",
    "table3c = np.c_[headers, table3]\n",
    "table4c = np.c_[headers, table4]\n",
    "table5c = np.c_[headers, table5]\n",
    "\n",
    "print(delay0)\n",
    "print(tab.tabulate(table0c,headers,tablefmt='psql'))\n",
    "\n",
    "print(delay1)\n",
    "print(tab.tabulate(table1c,headers,tablefmt='psql'))\n",
    "\n",
    "print(delay2)\n",
    "print(tab.tabulate(table2c,headers,tablefmt='psql'))\n",
    "\n",
    "print(delay3)\n",
    "print(tab.tabulate(table3c,headers,tablefmt='psql'))\n",
    "\n",
    "print(delay4)\n",
    "print(tab.tabulate(table4c,headers,tablefmt='psql'))\n",
    "\n",
    "print(delay5)\n",
    "print(tab.tabulate(table5c,headers,tablefmt='psql'))"
   ]
  },
  {
   "cell_type": "code",
   "execution_count": null,
   "metadata": {},
   "outputs": [],
   "source": []
  }
 ],
 "metadata": {
  "kernelspec": {
   "display_name": "Python 3.9.6 64-bit",
   "language": "python",
   "name": "python3"
  },
  "language_info": {
   "codemirror_mode": {
    "name": "ipython",
    "version": 3
   },
   "file_extension": ".py",
   "mimetype": "text/x-python",
   "name": "python",
   "nbconvert_exporter": "python",
   "pygments_lexer": "ipython3",
   "version": "3.9.6"
  },
  "orig_nbformat": 4,
  "vscode": {
   "interpreter": {
    "hash": "397704579725e15f5c7cb49fe5f0341eb7531c82d19f2c29d197e8b64ab5776b"
   }
  }
 },
 "nbformat": 4,
 "nbformat_minor": 2
}
