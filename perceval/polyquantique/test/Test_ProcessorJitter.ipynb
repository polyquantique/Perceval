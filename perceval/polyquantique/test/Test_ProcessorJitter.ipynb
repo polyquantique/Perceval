{
 "cells": [
  {
   "cell_type": "code",
   "execution_count": null,
   "metadata": {},
   "outputs": [],
   "source": []
  }
 ],
 "metadata": {
  "kernelspec": {
   "display_name": "base",
   "language": "python",
   "name": "python3"
  },
  "language_info": {
   "codemirror_mode": {
    "name": "ipython",
    "version": 3
   },
   "file_extension": ".py",
   "mimetype": "text/x-python",
   "name": "python",
   "nbconvert_exporter": "python",
   "pygments_lexer": "ipython3",
   "version": "3.10.9"
  },
  "orig_nbformat": 4,
  "vscode": {
   "interpreter": {
    "hash": "b9181b24ef3e53db4bfc4e9af9efbcfb84a57342a9477c66f5d752a451ac5389"
   }
  }
 },
 "nbformat": 4,
 "nbformat_minor": 2
}
