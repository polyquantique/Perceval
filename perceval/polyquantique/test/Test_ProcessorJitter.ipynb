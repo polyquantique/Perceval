{
 "cells": [
  {
   "cell_type": "code",
   "execution_count": null,
   "metadata": {},
   "outputs": [],
   "source": []
  }
 ],
 "metadata": {
  "kernelspec": {
   "display_name": "base",
   "language": "python",
   "name": "python3"
  },
  "language_info": {
   "name": "python",
   "version": "3.9.13"
  },
  "orig_nbformat": 4,
  "vscode": {
   "interpreter": {
    "hash": "b9181b24ef3e53db4bfc4e9af9efbcfb84a57342a9477c66f5d752a451ac5389"
   }
  }
 },
 "nbformat": 4,
 "nbformat_minor": 2
}
