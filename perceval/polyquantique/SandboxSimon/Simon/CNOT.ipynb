{
 "cells": [
  {
   "cell_type": "code",
   "execution_count": 1,
   "metadata": {},
   "outputs": [],
   "source": [
    "import perceval as pcvl\n",
    "import sympy as sp\n",
    "import numpy as np"
   ]
  },
  {
   "cell_type": "code",
   "execution_count": 22,
   "metadata": {},
   "outputs": [
    {
     "data": {
      "image/svg+xml": "<?xml version=\"1.0\" encoding=\"UTF-8\"?>\n<svg xmlns=\"http://www.w3.org/2000/svg\" xmlns:xlink=\"http://www.w3.org/1999/xlink\"\n     width=\"562.5\" height=\"812.5\" viewBox=\"-37.0 0 450 650\">\n<defs>\n</defs>\n<path d=\"M10,25 L25,25\" stroke-width=\"3\" stroke=\"darkred\" stroke-linejoin=\"miter\" fill=\"none\" />\n<path d=\"M10,75 L25,75\" stroke-width=\"3\" stroke=\"darkred\" stroke-linejoin=\"miter\" fill=\"none\" />\n<path d=\"M10,125 L25,125\" stroke-width=\"3\" stroke=\"darkred\" stroke-linejoin=\"miter\" fill=\"none\" />\n<path d=\"M10,175 L25,175\" stroke-width=\"3\" stroke=\"darkred\" stroke-linejoin=\"miter\" fill=\"none\" />\n<path d=\"M10,225 L25,225\" stroke-width=\"3\" stroke=\"darkred\" stroke-linejoin=\"miter\" fill=\"none\" />\n<path d=\"M10,275 L25,275\" stroke-width=\"3\" stroke=\"darkred\" stroke-linejoin=\"miter\" fill=\"none\" />\n<path d=\"M10,325 L25,325\" stroke-width=\"3\" stroke=\"darkred\" stroke-linejoin=\"miter\" fill=\"none\" />\n<path d=\"M10,375 L25,375\" stroke-width=\"3\" stroke=\"darkred\" stroke-linejoin=\"miter\" fill=\"none\" />\n<path d=\"M10,425 L25,425\" stroke-width=\"3\" stroke=\"darkred\" stroke-linejoin=\"miter\" fill=\"none\" />\n<path d=\"M10,475 L25,475\" stroke-width=\"3\" stroke=\"darkred\" stroke-linejoin=\"miter\" fill=\"none\" />\n<path d=\"M10,525 L25,525\" stroke-width=\"3\" stroke=\"darkred\" stroke-linejoin=\"miter\" fill=\"none\" />\n<path d=\"M10,575 L25,575\" stroke-width=\"3\" stroke=\"darkred\" stroke-linejoin=\"miter\" fill=\"none\" />\n<path d=\"M25,25 L53,25 L72,44\" stroke=\"darkred\" stroke-width=\"3\" fill=\"none\" />\n<path d=\"M78,44 L97,25 L125,25\" stroke=\"darkred\" stroke-width=\"3\" fill=\"none\" />\n<path d=\"M25,75 L53,75 L72,56\" stroke=\"darkred\" stroke-width=\"3\" fill=\"none\" />\n<path d=\"M78,56 L97,75 L125,75\" stroke=\"darkred\" stroke-width=\"3\" fill=\"none\" />\n<path d=\"M50,43 L100,43 L100,57 L50,57 Z\" stroke=\"black\" fill=\"black\" stroke-linejoin=\"miter\" />\n<text x=\"75\" y=\"95\" font-size=\"6\" text-anchor=\"middle\"><tspan x=\"75\" dy=\"0em\">Φ_tl=3*pi/2</tspan><tspan x=\"75\" dy=\"1em\">Φ_bl=pi</tspan><tspan x=\"75\" dy=\"1em\">Φ_tr=pi/2</tspan></text>\n<text x=\"75\" y=\"26\" font-size=\"7\" text-anchor=\"middle\" dy=\"0em\">Θ=1.910633</text>\n<path d=\"M50,43 L100,43 L100,47 L50,47 Z\" stroke=\"black\" fill=\"lightgray\" stroke-linejoin=\"miter\" />\n<path d=\"M93,50 L103,50 L103,60 L93,60 Z\" stroke=\"black\" fill=\"aquamarine\" stroke-linejoin=\"miter\" />\n<text x=\"98\" y=\"57\" font-size=\"6\" text-anchor=\"middle\" dy=\"0em\">H</text>\n<path d=\"M25,175 L53,175 L72,194\" stroke=\"darkred\" stroke-width=\"3\" fill=\"none\" />\n<path d=\"M78,194 L97,175 L125,175\" stroke=\"darkred\" stroke-width=\"3\" fill=\"none\" />\n<path d=\"M25,225 L53,225 L72,206\" stroke=\"darkred\" stroke-width=\"3\" fill=\"none\" />\n<path d=\"M78,206 L97,225 L125,225\" stroke=\"darkred\" stroke-width=\"3\" fill=\"none\" />\n<path d=\"M50,193 L100,193 L100,207 L50,207 Z\" stroke=\"black\" fill=\"black\" stroke-linejoin=\"miter\" />\n<text x=\"75\" y=\"235\" font-size=\"7\" text-anchor=\"middle\" dy=\"0em\"></text>\n<text x=\"75\" y=\"176\" font-size=\"7\" text-anchor=\"middle\" dy=\"0em\"></text>\n<path d=\"M50,193 L100,193 L100,197 L50,197 Z\" stroke=\"black\" fill=\"lightgray\" stroke-linejoin=\"miter\" />\n<path d=\"M93,200 L103,200 L103,210 L93,210 Z\" stroke=\"black\" fill=\"aquamarine\" stroke-linejoin=\"miter\" />\n<text x=\"98\" y=\"207\" font-size=\"6\" text-anchor=\"middle\" dy=\"0em\">H</text>\n<path d=\"M25,125 L125,125\" stroke=\"darkred\" stroke-width=\"3\" fill=\"none\" />\n<path d=\"M125,125 L153,125 L172,144\" stroke=\"darkred\" stroke-width=\"3\" fill=\"none\" />\n<path d=\"M178,144 L197,125 L225,125\" stroke=\"darkred\" stroke-width=\"3\" fill=\"none\" />\n<path d=\"M125,175 L153,175 L172,156\" stroke=\"darkred\" stroke-width=\"3\" fill=\"none\" />\n<path d=\"M178,156 L197,175 L225,175\" stroke=\"darkred\" stroke-width=\"3\" fill=\"none\" />\n<path d=\"M150,143 L200,143 L200,157 L150,157 Z\" stroke=\"black\" fill=\"black\" stroke-linejoin=\"miter\" />\n<text x=\"175\" y=\"195\" font-size=\"6\" text-anchor=\"middle\"><tspan x=\"175\" dy=\"0em\">Φ_tl=3*pi/2</tspan><tspan x=\"175\" dy=\"1em\">Φ_bl=pi</tspan><tspan x=\"175\" dy=\"1em\">Φ_tr=pi/2</tspan></text>\n<text x=\"175\" y=\"126\" font-size=\"7\" text-anchor=\"middle\" dy=\"0em\">Θ=1.910633</text>\n<path d=\"M150,143 L200,143 L200,147 L150,147 Z\" stroke=\"black\" fill=\"lightgray\" stroke-linejoin=\"miter\" />\n<path d=\"M193,150 L203,150 L203,160 L193,160 Z\" stroke=\"black\" fill=\"aquamarine\" stroke-linejoin=\"miter\" />\n<text x=\"198\" y=\"157\" font-size=\"6\" text-anchor=\"middle\" dy=\"0em\">H</text>\n<path d=\"M25,275 L125,275\" stroke=\"darkred\" stroke-width=\"3\" fill=\"none\" />\n<path d=\"M125,225 L153,225 L172,244\" stroke=\"darkred\" stroke-width=\"3\" fill=\"none\" />\n<path d=\"M178,244 L197,225 L225,225\" stroke=\"darkred\" stroke-width=\"3\" fill=\"none\" />\n<path d=\"M125,275 L153,275 L172,256\" stroke=\"darkred\" stroke-width=\"3\" fill=\"none\" />\n<path d=\"M178,256 L197,275 L225,275\" stroke=\"darkred\" stroke-width=\"3\" fill=\"none\" />\n<path d=\"M150,243 L200,243 L200,257 L150,257 Z\" stroke=\"black\" fill=\"black\" stroke-linejoin=\"miter\" />\n<text x=\"175\" y=\"280\" font-size=\"7\" text-anchor=\"middle\" dy=\"0em\"></text>\n<text x=\"175\" y=\"226\" font-size=\"7\" text-anchor=\"middle\" dy=\"0em\">Θ=1.910633</text>\n<path d=\"M150,243 L200,243 L200,247 L150,247 Z\" stroke=\"black\" fill=\"lightgray\" stroke-linejoin=\"miter\" />\n<path d=\"M193,250 L203,250 L203,260 L193,260 Z\" stroke=\"black\" fill=\"aquamarine\" stroke-linejoin=\"miter\" />\n<text x=\"198\" y=\"257\" font-size=\"6\" text-anchor=\"middle\" dy=\"0em\">H</text>\n<path d=\"M225,175 L253,175 L272,194\" stroke=\"darkred\" stroke-width=\"3\" fill=\"none\" />\n<path d=\"M278,194 L297,175 L325,175\" stroke=\"darkred\" stroke-width=\"3\" fill=\"none\" />\n<path d=\"M225,225 L253,225 L272,206\" stroke=\"darkred\" stroke-width=\"3\" fill=\"none\" />\n<path d=\"M278,206 L297,225 L325,225\" stroke=\"darkred\" stroke-width=\"3\" fill=\"none\" />\n<path d=\"M250,193 L300,193 L300,207 L250,207 Z\" stroke=\"black\" fill=\"black\" stroke-linejoin=\"miter\" />\n<text x=\"275\" y=\"235\" font-size=\"7\" text-anchor=\"middle\" dy=\"0em\"></text>\n<text x=\"275\" y=\"176\" font-size=\"7\" text-anchor=\"middle\" dy=\"0em\"></text>\n<path d=\"M250,193 L300,193 L300,197 L250,197 Z\" stroke=\"black\" fill=\"lightgray\" stroke-linejoin=\"miter\" />\n<path d=\"M293,200 L303,200 L303,210 L293,210 Z\" stroke=\"black\" fill=\"aquamarine\" stroke-linejoin=\"miter\" />\n<text x=\"298\" y=\"207\" font-size=\"6\" text-anchor=\"middle\" dy=\"0em\">H</text>\n<path d=\"M25,325 L53,325 L72,344\" stroke=\"darkred\" stroke-width=\"3\" fill=\"none\" />\n<path d=\"M78,344 L97,325 L125,325\" stroke=\"darkred\" stroke-width=\"3\" fill=\"none\" />\n<path d=\"M25,375 L53,375 L72,356\" stroke=\"darkred\" stroke-width=\"3\" fill=\"none\" />\n<path d=\"M78,356 L97,375 L125,375\" stroke=\"darkred\" stroke-width=\"3\" fill=\"none\" />\n<path d=\"M50,343 L100,343 L100,357 L50,357 Z\" stroke=\"black\" fill=\"black\" stroke-linejoin=\"miter\" />\n<text x=\"75\" y=\"395\" font-size=\"6\" text-anchor=\"middle\"><tspan x=\"75\" dy=\"0em\">Φ_tl=3*pi/2</tspan><tspan x=\"75\" dy=\"1em\">Φ_bl=pi</tspan><tspan x=\"75\" dy=\"1em\">Φ_tr=pi/2</tspan></text>\n<text x=\"75\" y=\"326\" font-size=\"7\" text-anchor=\"middle\" dy=\"0em\">Θ=1.910633</text>\n<path d=\"M50,343 L100,343 L100,347 L50,347 Z\" stroke=\"black\" fill=\"lightgray\" stroke-linejoin=\"miter\" />\n<path d=\"M93,350 L103,350 L103,360 L93,360 Z\" stroke=\"black\" fill=\"aquamarine\" stroke-linejoin=\"miter\" />\n<text x=\"98\" y=\"357\" font-size=\"6\" text-anchor=\"middle\" dy=\"0em\">H</text>\n<path d=\"M25,475 L53,475 L72,494\" stroke=\"darkred\" stroke-width=\"3\" fill=\"none\" />\n<path d=\"M78,494 L97,475 L125,475\" stroke=\"darkred\" stroke-width=\"3\" fill=\"none\" />\n<path d=\"M25,525 L53,525 L72,506\" stroke=\"darkred\" stroke-width=\"3\" fill=\"none\" />\n<path d=\"M78,506 L97,525 L125,525\" stroke=\"darkred\" stroke-width=\"3\" fill=\"none\" />\n<path d=\"M50,493 L100,493 L100,507 L50,507 Z\" stroke=\"black\" fill=\"black\" stroke-linejoin=\"miter\" />\n<text x=\"75\" y=\"535\" font-size=\"7\" text-anchor=\"middle\" dy=\"0em\"></text>\n<text x=\"75\" y=\"476\" font-size=\"7\" text-anchor=\"middle\" dy=\"0em\"></text>\n<path d=\"M50,493 L100,493 L100,497 L50,497 Z\" stroke=\"black\" fill=\"lightgray\" stroke-linejoin=\"miter\" />\n<path d=\"M93,500 L103,500 L103,510 L93,510 Z\" stroke=\"black\" fill=\"aquamarine\" stroke-linejoin=\"miter\" />\n<text x=\"98\" y=\"507\" font-size=\"6\" text-anchor=\"middle\" dy=\"0em\">H</text>\n<path d=\"M25,425 L125,425\" stroke=\"darkred\" stroke-width=\"3\" fill=\"none\" />\n<path d=\"M125,425 L153,425 L172,444\" stroke=\"darkred\" stroke-width=\"3\" fill=\"none\" />\n<path d=\"M178,444 L197,425 L225,425\" stroke=\"darkred\" stroke-width=\"3\" fill=\"none\" />\n<path d=\"M125,475 L153,475 L172,456\" stroke=\"darkred\" stroke-width=\"3\" fill=\"none\" />\n<path d=\"M178,456 L197,475 L225,475\" stroke=\"darkred\" stroke-width=\"3\" fill=\"none\" />\n<path d=\"M150,443 L200,443 L200,457 L150,457 Z\" stroke=\"black\" fill=\"black\" stroke-linejoin=\"miter\" />\n<text x=\"175\" y=\"495\" font-size=\"6\" text-anchor=\"middle\"><tspan x=\"175\" dy=\"0em\">Φ_tl=3*pi/2</tspan><tspan x=\"175\" dy=\"1em\">Φ_bl=pi</tspan><tspan x=\"175\" dy=\"1em\">Φ_tr=pi/2</tspan></text>\n<text x=\"175\" y=\"426\" font-size=\"7\" text-anchor=\"middle\" dy=\"0em\">Θ=1.910633</text>\n<path d=\"M150,443 L200,443 L200,447 L150,447 Z\" stroke=\"black\" fill=\"lightgray\" stroke-linejoin=\"miter\" />\n<path d=\"M193,450 L203,450 L203,460 L193,460 Z\" stroke=\"black\" fill=\"aquamarine\" stroke-linejoin=\"miter\" />\n<text x=\"198\" y=\"457\" font-size=\"6\" text-anchor=\"middle\" dy=\"0em\">H</text>\n<path d=\"M25,575 L125,575\" stroke=\"darkred\" stroke-width=\"3\" fill=\"none\" />\n<path d=\"M125,525 L153,525 L172,544\" stroke=\"darkred\" stroke-width=\"3\" fill=\"none\" />\n<path d=\"M178,544 L197,525 L225,525\" stroke=\"darkred\" stroke-width=\"3\" fill=\"none\" />\n<path d=\"M125,575 L153,575 L172,556\" stroke=\"darkred\" stroke-width=\"3\" fill=\"none\" />\n<path d=\"M178,556 L197,575 L225,575\" stroke=\"darkred\" stroke-width=\"3\" fill=\"none\" />\n<path d=\"M150,543 L200,543 L200,557 L150,557 Z\" stroke=\"black\" fill=\"black\" stroke-linejoin=\"miter\" />\n<text x=\"175\" y=\"580\" font-size=\"7\" text-anchor=\"middle\" dy=\"0em\"></text>\n<text x=\"175\" y=\"526\" font-size=\"7\" text-anchor=\"middle\" dy=\"0em\">Θ=1.910633</text>\n<path d=\"M150,543 L200,543 L200,547 L150,547 Z\" stroke=\"black\" fill=\"lightgray\" stroke-linejoin=\"miter\" />\n<path d=\"M193,550 L203,550 L203,560 L193,560 Z\" stroke=\"black\" fill=\"aquamarine\" stroke-linejoin=\"miter\" />\n<text x=\"198\" y=\"557\" font-size=\"6\" text-anchor=\"middle\" dy=\"0em\">H</text>\n<path d=\"M225,475 L253,475 L272,494\" stroke=\"darkred\" stroke-width=\"3\" fill=\"none\" />\n<path d=\"M278,494 L297,475 L325,475\" stroke=\"darkred\" stroke-width=\"3\" fill=\"none\" />\n<path d=\"M225,525 L253,525 L272,506\" stroke=\"darkred\" stroke-width=\"3\" fill=\"none\" />\n<path d=\"M278,506 L297,525 L325,525\" stroke=\"darkred\" stroke-width=\"3\" fill=\"none\" />\n<path d=\"M250,493 L300,493 L300,507 L250,507 Z\" stroke=\"black\" fill=\"black\" stroke-linejoin=\"miter\" />\n<text x=\"275\" y=\"535\" font-size=\"7\" text-anchor=\"middle\" dy=\"0em\"></text>\n<text x=\"275\" y=\"476\" font-size=\"7\" text-anchor=\"middle\" dy=\"0em\"></text>\n<path d=\"M250,493 L300,493 L300,497 L250,497 Z\" stroke=\"black\" fill=\"lightgray\" stroke-linejoin=\"miter\" />\n<path d=\"M293,500 L303,500 L303,510 L293,510 Z\" stroke=\"black\" fill=\"aquamarine\" stroke-linejoin=\"miter\" />\n<text x=\"298\" y=\"507\" font-size=\"6\" text-anchor=\"middle\" dy=\"0em\">H</text>\n<path d=\"M125,25 L325,25\" stroke=\"darkred\" stroke-width=\"3\" fill=\"none\" />\n<path d=\"M125,75 L325,75\" stroke=\"darkred\" stroke-width=\"3\" fill=\"none\" />\n<path d=\"M225,125 L325,125\" stroke=\"darkred\" stroke-width=\"3\" fill=\"none\" />\n<path d=\"M225,275 L325,275\" stroke=\"darkred\" stroke-width=\"3\" fill=\"none\" />\n<path d=\"M125,325 L325,325\" stroke=\"darkred\" stroke-width=\"3\" fill=\"none\" />\n<path d=\"M125,375 L325,375\" stroke=\"darkred\" stroke-width=\"3\" fill=\"none\" />\n<path d=\"M225,425 L325,425\" stroke=\"darkred\" stroke-width=\"3\" fill=\"none\" />\n<path d=\"M225,575 L325,575\" stroke=\"darkred\" stroke-width=\"3\" fill=\"none\" />\n<path d=\"M325,25 L340,25\" stroke-width=\"3\" stroke=\"darkred\" stroke-linejoin=\"miter\" fill=\"none\" />\n<path d=\"M325,75 L340,75\" stroke-width=\"3\" stroke=\"darkred\" stroke-linejoin=\"miter\" fill=\"none\" />\n<path d=\"M325,125 L340,125\" stroke-width=\"3\" stroke=\"darkred\" stroke-linejoin=\"miter\" fill=\"none\" />\n<path d=\"M325,175 L340,175\" stroke-width=\"3\" stroke=\"darkred\" stroke-linejoin=\"miter\" fill=\"none\" />\n<path d=\"M325,225 L340,225\" stroke-width=\"3\" stroke=\"darkred\" stroke-linejoin=\"miter\" fill=\"none\" />\n<path d=\"M325,275 L340,275\" stroke-width=\"3\" stroke=\"darkred\" stroke-linejoin=\"miter\" fill=\"none\" />\n<path d=\"M325,325 L340,325\" stroke-width=\"3\" stroke=\"darkred\" stroke-linejoin=\"miter\" fill=\"none\" />\n<path d=\"M325,375 L340,375\" stroke-width=\"3\" stroke=\"darkred\" stroke-linejoin=\"miter\" fill=\"none\" />\n<path d=\"M325,425 L340,425\" stroke-width=\"3\" stroke=\"darkred\" stroke-linejoin=\"miter\" fill=\"none\" />\n<path d=\"M325,475 L340,475\" stroke-width=\"3\" stroke=\"darkred\" stroke-linejoin=\"miter\" fill=\"none\" />\n<path d=\"M325,525 L340,525\" stroke-width=\"3\" stroke=\"darkred\" stroke-linejoin=\"miter\" fill=\"none\" />\n<path d=\"M325,575 L340,575\" stroke-width=\"3\" stroke=\"darkred\" stroke-linejoin=\"miter\" fill=\"none\" />\n<text x=\"350\" y=\"28\" font-size=\"10\" text-anchor=\"end\" dy=\"0em\">0</text>\n<text x=\"350\" y=\"78\" font-size=\"10\" text-anchor=\"end\" dy=\"0em\">1</text>\n<text x=\"350\" y=\"128\" font-size=\"10\" text-anchor=\"end\" dy=\"0em\">2</text>\n<text x=\"350\" y=\"178\" font-size=\"10\" text-anchor=\"end\" dy=\"0em\">3</text>\n<text x=\"350\" y=\"228\" font-size=\"10\" text-anchor=\"end\" dy=\"0em\">4</text>\n<text x=\"350\" y=\"278\" font-size=\"10\" text-anchor=\"end\" dy=\"0em\">5</text>\n<text x=\"350\" y=\"328\" font-size=\"10\" text-anchor=\"end\" dy=\"0em\">6</text>\n<text x=\"350\" y=\"378\" font-size=\"10\" text-anchor=\"end\" dy=\"0em\">7</text>\n<text x=\"350\" y=\"428\" font-size=\"10\" text-anchor=\"end\" dy=\"0em\">8</text>\n<text x=\"350\" y=\"478\" font-size=\"10\" text-anchor=\"end\" dy=\"0em\">9</text>\n<text x=\"350\" y=\"528\" font-size=\"10\" text-anchor=\"end\" dy=\"0em\">10</text>\n<text x=\"350\" y=\"578\" font-size=\"10\" text-anchor=\"end\" dy=\"0em\">11</text>\n<text x=\"0\" y=\"28\" font-size=\"10\" text-anchor=\"start\" dy=\"0em\">0</text>\n<text x=\"0\" y=\"78\" font-size=\"10\" text-anchor=\"start\" dy=\"0em\">1</text>\n<text x=\"0\" y=\"128\" font-size=\"10\" text-anchor=\"start\" dy=\"0em\">2</text>\n<text x=\"0\" y=\"178\" font-size=\"10\" text-anchor=\"start\" dy=\"0em\">3</text>\n<text x=\"0\" y=\"228\" font-size=\"10\" text-anchor=\"start\" dy=\"0em\">4</text>\n<text x=\"0\" y=\"278\" font-size=\"10\" text-anchor=\"start\" dy=\"0em\">5</text>\n<text x=\"0\" y=\"328\" font-size=\"10\" text-anchor=\"start\" dy=\"0em\">6</text>\n<text x=\"0\" y=\"378\" font-size=\"10\" text-anchor=\"start\" dy=\"0em\">7</text>\n<text x=\"0\" y=\"428\" font-size=\"10\" text-anchor=\"start\" dy=\"0em\">8</text>\n<text x=\"0\" y=\"478\" font-size=\"10\" text-anchor=\"start\" dy=\"0em\">9</text>\n<text x=\"0\" y=\"528\" font-size=\"10\" text-anchor=\"start\" dy=\"0em\">10</text>\n<text x=\"0\" y=\"578\" font-size=\"10\" text-anchor=\"start\" dy=\"0em\">11</text>\n</svg>",
      "text/plain": [
       "<drawSvg.drawing.Drawing at 0x7fdf483b3fd0>"
      ]
     },
     "execution_count": 22,
     "metadata": {},
     "output_type": "execute_result"
    }
   ],
   "source": [
    "cnot = pcvl.Circuit(12, name=\"Ralph CNOT\")\n",
    "cnot.add((0, 1), pcvl.BS.H(pcvl.BS.r_to_theta(1/3), phi_tl = -np.pi/2, phi_bl = np.pi, phi_tr = np.pi / 2))\n",
    "cnot.add((3, 4), pcvl.BS.H())\n",
    "cnot.add((2, 3), pcvl.BS.H(pcvl.BS.r_to_theta(1/3), phi_tl = -np.pi/2, phi_bl = np.pi, phi_tr = np.pi / 2))\n",
    "cnot.add((4, 5), pcvl.BS.H(pcvl.BS.r_to_theta(1/3)))\n",
    "cnot.add((3, 4), pcvl.BS.H())\n",
    "cnot.add((6, 7), pcvl.BS.H(pcvl.BS.r_to_theta(1/3), phi_tl = -np.pi/2, phi_bl = np.pi, phi_tr = np.pi / 2))\n",
    "cnot.add((9, 10), pcvl.BS.H())\n",
    "cnot.add((8, 9), pcvl.BS.H(pcvl.BS.r_to_theta(1/3), phi_tl = -np.pi/2, phi_bl = np.pi, phi_tr = np.pi / 2))\n",
    "cnot.add((10, 11), pcvl.BS.H(pcvl.BS.r_to_theta(1/3)))\n",
    "cnot.add((9, 10), pcvl.BS.H())\n",
    "pcvl.pdisplay(cnot)"
   ]
  },
  {
   "cell_type": "code",
   "execution_count": 25,
   "metadata": {},
   "outputs": [
    {
     "data": {
      "image/svg+xml": "<?xml version=\"1.0\" encoding=\"UTF-8\"?>\n<svg xmlns=\"http://www.w3.org/2000/svg\" xmlns:xlink=\"http://www.w3.org/1999/xlink\"\n     width=\"562.5\" height=\"812.5\" viewBox=\"-39.0 0 450 650\">\n<defs>\n</defs>\n<path d=\"M10,75 L25,75\" stroke-width=\"3\" stroke=\"darkred\" stroke-linejoin=\"miter\" fill=\"none\" />\n<path d=\"M10,125 L25,125\" stroke-width=\"3\" stroke=\"darkred\" stroke-linejoin=\"miter\" fill=\"none\" />\n<path d=\"M10,175 L25,175\" stroke-width=\"3\" stroke=\"darkred\" stroke-linejoin=\"miter\" fill=\"none\" />\n<path d=\"M10,225 L25,225\" stroke-width=\"3\" stroke=\"darkred\" stroke-linejoin=\"miter\" fill=\"none\" />\n<path d=\"M10,375 L25,375\" stroke-width=\"3\" stroke=\"darkred\" stroke-linejoin=\"miter\" fill=\"none\" />\n<path d=\"M10,425 L25,425\" stroke-width=\"3\" stroke=\"darkred\" stroke-linejoin=\"miter\" fill=\"none\" />\n<path d=\"M10,475 L25,475\" stroke-width=\"3\" stroke=\"darkred\" stroke-linejoin=\"miter\" fill=\"none\" />\n<path d=\"M10,525 L25,525\" stroke-width=\"3\" stroke=\"darkred\" stroke-linejoin=\"miter\" fill=\"none\" />\n<path d=\"M27,2 L323,2 L323,598 L27,598 Z\" stroke=\"black\" fill=\"lightblue\" stroke-dasharray=\"1,2\" stroke-linejoin=\"miter\" />\n<text x=\"29\" y=\"605\" font-size=\"8\" text-anchor=\"start\" dy=\"0em\">RALPH CNOT</text>\n<path d=\"M25,25 L53,25 L72,44\" stroke=\"darkred\" stroke-width=\"3\" fill=\"none\" />\n<path d=\"M78,44 L97,25 L125,25\" stroke=\"darkred\" stroke-width=\"3\" fill=\"none\" />\n<path d=\"M25,75 L53,75 L72,56\" stroke=\"darkred\" stroke-width=\"3\" fill=\"none\" />\n<path d=\"M78,56 L97,75 L125,75\" stroke=\"darkred\" stroke-width=\"3\" fill=\"none\" />\n<path d=\"M50,43 L100,43 L100,57 L50,57 Z\" stroke=\"black\" fill=\"black\" stroke-linejoin=\"miter\" />\n<text x=\"75\" y=\"95\" font-size=\"6\" text-anchor=\"middle\"><tspan x=\"75\" dy=\"0em\">Φ_tl=3*pi/2</tspan><tspan x=\"75\" dy=\"1em\">Φ_bl=pi</tspan><tspan x=\"75\" dy=\"1em\">Φ_tr=pi/2</tspan></text>\n<text x=\"75\" y=\"26\" font-size=\"7\" text-anchor=\"middle\" dy=\"0em\">Θ=1.910633</text>\n<path d=\"M50,43 L100,43 L100,47 L50,47 Z\" stroke=\"black\" fill=\"lightgray\" stroke-linejoin=\"miter\" />\n<path d=\"M93,50 L103,50 L103,60 L93,60 Z\" stroke=\"black\" fill=\"aquamarine\" stroke-linejoin=\"miter\" />\n<text x=\"98\" y=\"57\" font-size=\"6\" text-anchor=\"middle\" dy=\"0em\">H</text>\n<path d=\"M25,175 L53,175 L72,194\" stroke=\"darkred\" stroke-width=\"3\" fill=\"none\" />\n<path d=\"M78,194 L97,175 L125,175\" stroke=\"darkred\" stroke-width=\"3\" fill=\"none\" />\n<path d=\"M25,225 L53,225 L72,206\" stroke=\"darkred\" stroke-width=\"3\" fill=\"none\" />\n<path d=\"M78,206 L97,225 L125,225\" stroke=\"darkred\" stroke-width=\"3\" fill=\"none\" />\n<path d=\"M50,193 L100,193 L100,207 L50,207 Z\" stroke=\"black\" fill=\"black\" stroke-linejoin=\"miter\" />\n<text x=\"75\" y=\"235\" font-size=\"7\" text-anchor=\"middle\" dy=\"0em\"></text>\n<text x=\"75\" y=\"176\" font-size=\"7\" text-anchor=\"middle\" dy=\"0em\"></text>\n<path d=\"M50,193 L100,193 L100,197 L50,197 Z\" stroke=\"black\" fill=\"lightgray\" stroke-linejoin=\"miter\" />\n<path d=\"M93,200 L103,200 L103,210 L93,210 Z\" stroke=\"black\" fill=\"aquamarine\" stroke-linejoin=\"miter\" />\n<text x=\"98\" y=\"207\" font-size=\"6\" text-anchor=\"middle\" dy=\"0em\">H</text>\n<path d=\"M25,125 L125,125\" stroke=\"darkred\" stroke-width=\"3\" fill=\"none\" />\n<path d=\"M125,125 L153,125 L172,144\" stroke=\"darkred\" stroke-width=\"3\" fill=\"none\" />\n<path d=\"M178,144 L197,125 L225,125\" stroke=\"darkred\" stroke-width=\"3\" fill=\"none\" />\n<path d=\"M125,175 L153,175 L172,156\" stroke=\"darkred\" stroke-width=\"3\" fill=\"none\" />\n<path d=\"M178,156 L197,175 L225,175\" stroke=\"darkred\" stroke-width=\"3\" fill=\"none\" />\n<path d=\"M150,143 L200,143 L200,157 L150,157 Z\" stroke=\"black\" fill=\"black\" stroke-linejoin=\"miter\" />\n<text x=\"175\" y=\"195\" font-size=\"6\" text-anchor=\"middle\"><tspan x=\"175\" dy=\"0em\">Φ_tl=3*pi/2</tspan><tspan x=\"175\" dy=\"1em\">Φ_bl=pi</tspan><tspan x=\"175\" dy=\"1em\">Φ_tr=pi/2</tspan></text>\n<text x=\"175\" y=\"126\" font-size=\"7\" text-anchor=\"middle\" dy=\"0em\">Θ=1.910633</text>\n<path d=\"M150,143 L200,143 L200,147 L150,147 Z\" stroke=\"black\" fill=\"lightgray\" stroke-linejoin=\"miter\" />\n<path d=\"M193,150 L203,150 L203,160 L193,160 Z\" stroke=\"black\" fill=\"aquamarine\" stroke-linejoin=\"miter\" />\n<text x=\"198\" y=\"157\" font-size=\"6\" text-anchor=\"middle\" dy=\"0em\">H</text>\n<path d=\"M125,225 L153,225 L172,244\" stroke=\"darkred\" stroke-width=\"3\" fill=\"none\" />\n<path d=\"M178,244 L197,225 L225,225\" stroke=\"darkred\" stroke-width=\"3\" fill=\"none\" />\n<path d=\"M125,275 L153,275 L172,256\" stroke=\"darkred\" stroke-width=\"3\" fill=\"none\" />\n<path d=\"M178,256 L197,275 L225,275\" stroke=\"darkred\" stroke-width=\"3\" fill=\"none\" />\n<path d=\"M150,243 L200,243 L200,257 L150,257 Z\" stroke=\"black\" fill=\"black\" stroke-linejoin=\"miter\" />\n<text x=\"175\" y=\"280\" font-size=\"7\" text-anchor=\"middle\" dy=\"0em\"></text>\n<text x=\"175\" y=\"226\" font-size=\"7\" text-anchor=\"middle\" dy=\"0em\">Θ=1.910633</text>\n<path d=\"M150,243 L200,243 L200,247 L150,247 Z\" stroke=\"black\" fill=\"lightgray\" stroke-linejoin=\"miter\" />\n<path d=\"M193,250 L203,250 L203,260 L193,260 Z\" stroke=\"black\" fill=\"aquamarine\" stroke-linejoin=\"miter\" />\n<text x=\"198\" y=\"257\" font-size=\"6\" text-anchor=\"middle\" dy=\"0em\">H</text>\n<path d=\"M225,175 L253,175 L272,194\" stroke=\"darkred\" stroke-width=\"3\" fill=\"none\" />\n<path d=\"M278,194 L297,175 L325,175\" stroke=\"darkred\" stroke-width=\"3\" fill=\"none\" />\n<path d=\"M225,225 L253,225 L272,206\" stroke=\"darkred\" stroke-width=\"3\" fill=\"none\" />\n<path d=\"M278,206 L297,225 L325,225\" stroke=\"darkred\" stroke-width=\"3\" fill=\"none\" />\n<path d=\"M250,193 L300,193 L300,207 L250,207 Z\" stroke=\"black\" fill=\"black\" stroke-linejoin=\"miter\" />\n<text x=\"275\" y=\"235\" font-size=\"7\" text-anchor=\"middle\" dy=\"0em\"></text>\n<text x=\"275\" y=\"176\" font-size=\"7\" text-anchor=\"middle\" dy=\"0em\"></text>\n<path d=\"M250,193 L300,193 L300,197 L250,197 Z\" stroke=\"black\" fill=\"lightgray\" stroke-linejoin=\"miter\" />\n<path d=\"M293,200 L303,200 L303,210 L293,210 Z\" stroke=\"black\" fill=\"aquamarine\" stroke-linejoin=\"miter\" />\n<text x=\"298\" y=\"207\" font-size=\"6\" text-anchor=\"middle\" dy=\"0em\">H</text>\n<path d=\"M25,325 L53,325 L72,344\" stroke=\"darkred\" stroke-width=\"3\" fill=\"none\" />\n<path d=\"M78,344 L97,325 L125,325\" stroke=\"darkred\" stroke-width=\"3\" fill=\"none\" />\n<path d=\"M25,375 L53,375 L72,356\" stroke=\"darkred\" stroke-width=\"3\" fill=\"none\" />\n<path d=\"M78,356 L97,375 L125,375\" stroke=\"darkred\" stroke-width=\"3\" fill=\"none\" />\n<path d=\"M50,343 L100,343 L100,357 L50,357 Z\" stroke=\"black\" fill=\"black\" stroke-linejoin=\"miter\" />\n<text x=\"75\" y=\"395\" font-size=\"6\" text-anchor=\"middle\"><tspan x=\"75\" dy=\"0em\">Φ_tl=3*pi/2</tspan><tspan x=\"75\" dy=\"1em\">Φ_bl=pi</tspan><tspan x=\"75\" dy=\"1em\">Φ_tr=pi/2</tspan></text>\n<text x=\"75\" y=\"326\" font-size=\"7\" text-anchor=\"middle\" dy=\"0em\">Θ=1.910633</text>\n<path d=\"M50,343 L100,343 L100,347 L50,347 Z\" stroke=\"black\" fill=\"lightgray\" stroke-linejoin=\"miter\" />\n<path d=\"M93,350 L103,350 L103,360 L93,360 Z\" stroke=\"black\" fill=\"aquamarine\" stroke-linejoin=\"miter\" />\n<text x=\"98\" y=\"357\" font-size=\"6\" text-anchor=\"middle\" dy=\"0em\">H</text>\n<path d=\"M25,475 L53,475 L72,494\" stroke=\"darkred\" stroke-width=\"3\" fill=\"none\" />\n<path d=\"M78,494 L97,475 L125,475\" stroke=\"darkred\" stroke-width=\"3\" fill=\"none\" />\n<path d=\"M25,525 L53,525 L72,506\" stroke=\"darkred\" stroke-width=\"3\" fill=\"none\" />\n<path d=\"M78,506 L97,525 L125,525\" stroke=\"darkred\" stroke-width=\"3\" fill=\"none\" />\n<path d=\"M50,493 L100,493 L100,507 L50,507 Z\" stroke=\"black\" fill=\"black\" stroke-linejoin=\"miter\" />\n<text x=\"75\" y=\"535\" font-size=\"7\" text-anchor=\"middle\" dy=\"0em\"></text>\n<text x=\"75\" y=\"476\" font-size=\"7\" text-anchor=\"middle\" dy=\"0em\"></text>\n<path d=\"M50,493 L100,493 L100,497 L50,497 Z\" stroke=\"black\" fill=\"lightgray\" stroke-linejoin=\"miter\" />\n<path d=\"M93,500 L103,500 L103,510 L93,510 Z\" stroke=\"black\" fill=\"aquamarine\" stroke-linejoin=\"miter\" />\n<text x=\"98\" y=\"507\" font-size=\"6\" text-anchor=\"middle\" dy=\"0em\">H</text>\n<path d=\"M25,425 L125,425\" stroke=\"darkred\" stroke-width=\"3\" fill=\"none\" />\n<path d=\"M125,425 L153,425 L172,444\" stroke=\"darkred\" stroke-width=\"3\" fill=\"none\" />\n<path d=\"M178,444 L197,425 L225,425\" stroke=\"darkred\" stroke-width=\"3\" fill=\"none\" />\n<path d=\"M125,475 L153,475 L172,456\" stroke=\"darkred\" stroke-width=\"3\" fill=\"none\" />\n<path d=\"M178,456 L197,475 L225,475\" stroke=\"darkred\" stroke-width=\"3\" fill=\"none\" />\n<path d=\"M150,443 L200,443 L200,457 L150,457 Z\" stroke=\"black\" fill=\"black\" stroke-linejoin=\"miter\" />\n<text x=\"175\" y=\"495\" font-size=\"6\" text-anchor=\"middle\"><tspan x=\"175\" dy=\"0em\">Φ_tl=3*pi/2</tspan><tspan x=\"175\" dy=\"1em\">Φ_bl=pi</tspan><tspan x=\"175\" dy=\"1em\">Φ_tr=pi/2</tspan></text>\n<text x=\"175\" y=\"426\" font-size=\"7\" text-anchor=\"middle\" dy=\"0em\">Θ=1.910633</text>\n<path d=\"M150,443 L200,443 L200,447 L150,447 Z\" stroke=\"black\" fill=\"lightgray\" stroke-linejoin=\"miter\" />\n<path d=\"M193,450 L203,450 L203,460 L193,460 Z\" stroke=\"black\" fill=\"aquamarine\" stroke-linejoin=\"miter\" />\n<text x=\"198\" y=\"457\" font-size=\"6\" text-anchor=\"middle\" dy=\"0em\">H</text>\n<path d=\"M125,525 L153,525 L172,544\" stroke=\"darkred\" stroke-width=\"3\" fill=\"none\" />\n<path d=\"M178,544 L197,525 L225,525\" stroke=\"darkred\" stroke-width=\"3\" fill=\"none\" />\n<path d=\"M125,575 L153,575 L172,556\" stroke=\"darkred\" stroke-width=\"3\" fill=\"none\" />\n<path d=\"M178,556 L197,575 L225,575\" stroke=\"darkred\" stroke-width=\"3\" fill=\"none\" />\n<path d=\"M150,543 L200,543 L200,557 L150,557 Z\" stroke=\"black\" fill=\"black\" stroke-linejoin=\"miter\" />\n<text x=\"175\" y=\"580\" font-size=\"7\" text-anchor=\"middle\" dy=\"0em\"></text>\n<text x=\"175\" y=\"526\" font-size=\"7\" text-anchor=\"middle\" dy=\"0em\">Θ=1.910633</text>\n<path d=\"M150,543 L200,543 L200,547 L150,547 Z\" stroke=\"black\" fill=\"lightgray\" stroke-linejoin=\"miter\" />\n<path d=\"M193,550 L203,550 L203,560 L193,560 Z\" stroke=\"black\" fill=\"aquamarine\" stroke-linejoin=\"miter\" />\n<text x=\"198\" y=\"557\" font-size=\"6\" text-anchor=\"middle\" dy=\"0em\">H</text>\n<path d=\"M225,475 L253,475 L272,494\" stroke=\"darkred\" stroke-width=\"3\" fill=\"none\" />\n<path d=\"M278,494 L297,475 L325,475\" stroke=\"darkred\" stroke-width=\"3\" fill=\"none\" />\n<path d=\"M225,525 L253,525 L272,506\" stroke=\"darkred\" stroke-width=\"3\" fill=\"none\" />\n<path d=\"M278,506 L297,525 L325,525\" stroke=\"darkred\" stroke-width=\"3\" fill=\"none\" />\n<path d=\"M250,493 L300,493 L300,507 L250,507 Z\" stroke=\"black\" fill=\"black\" stroke-linejoin=\"miter\" />\n<text x=\"275\" y=\"535\" font-size=\"7\" text-anchor=\"middle\" dy=\"0em\"></text>\n<text x=\"275\" y=\"476\" font-size=\"7\" text-anchor=\"middle\" dy=\"0em\"></text>\n<path d=\"M250,493 L300,493 L300,497 L250,497 Z\" stroke=\"black\" fill=\"lightgray\" stroke-linejoin=\"miter\" />\n<path d=\"M293,500 L303,500 L303,510 L293,510 Z\" stroke=\"black\" fill=\"aquamarine\" stroke-linejoin=\"miter\" />\n<text x=\"298\" y=\"507\" font-size=\"6\" text-anchor=\"middle\" dy=\"0em\">H</text>\n<path d=\"M125,75 L325,75\" stroke=\"darkred\" stroke-width=\"3\" fill=\"none\" />\n<path d=\"M225,125 L325,125\" stroke=\"darkred\" stroke-width=\"3\" fill=\"none\" />\n<path d=\"M125,375 L325,375\" stroke=\"darkred\" stroke-width=\"3\" fill=\"none\" />\n<path d=\"M225,425 L325,425\" stroke=\"darkred\" stroke-width=\"3\" fill=\"none\" />\n<path d=\"M325,75 L340,75\" stroke-width=\"3\" stroke=\"darkred\" stroke-linejoin=\"miter\" fill=\"none\" />\n<path d=\"M325,125 L340,125\" stroke-width=\"3\" stroke=\"darkred\" stroke-linejoin=\"miter\" fill=\"none\" />\n<path d=\"M325,175 L340,175\" stroke-width=\"3\" stroke=\"darkred\" stroke-linejoin=\"miter\" fill=\"none\" />\n<path d=\"M325,225 L340,225\" stroke-width=\"3\" stroke=\"darkred\" stroke-linejoin=\"miter\" fill=\"none\" />\n<path d=\"M325,375 L340,375\" stroke-width=\"3\" stroke=\"darkred\" stroke-linejoin=\"miter\" fill=\"none\" />\n<path d=\"M325,425 L340,425\" stroke-width=\"3\" stroke=\"darkred\" stroke-linejoin=\"miter\" fill=\"none\" />\n<path d=\"M325,475 L340,475\" stroke-width=\"3\" stroke=\"darkred\" stroke-linejoin=\"miter\" fill=\"none\" />\n<path d=\"M325,525 L340,525\" stroke-width=\"3\" stroke=\"darkred\" stroke-linejoin=\"miter\" fill=\"none\" />\n<path d=\"M7,25 C7,25,7,15,17,15 L25,15 L25,35 L17,35 C7,35,7,25,7,25 L7,25\" stroke-width=\"1\" stroke=\"black\" stroke-linejoin=\"miter\" fill=\"white\" />\n<text x=\"13\" y=\"41\" font-size=\"6\" text-anchor=\"middle\" font-style=\"italic\" dy=\"0em\">[herald0]</text>\n<text x=\"17\" y=\"28\" font-size=\"7\" text-anchor=\"middle\" dy=\"0em\">0</text>\n<path d=\"M107,275 C107,275,107,265,117,265 L125,265 L125,285 L117,285 C107,285,107,275,107,275 L107,275\" stroke-width=\"1\" stroke=\"black\" stroke-linejoin=\"miter\" fill=\"white\" />\n<text x=\"113\" y=\"291\" font-size=\"6\" text-anchor=\"middle\" font-style=\"italic\" dy=\"0em\">[herald1]</text>\n<text x=\"117\" y=\"278\" font-size=\"7\" text-anchor=\"middle\" dy=\"0em\">0</text>\n<path d=\"M7,325 C7,325,7,315,17,315 L25,315 L25,335 L17,335 C7,335,7,325,7,325 L7,325\" stroke-width=\"1\" stroke=\"black\" stroke-linejoin=\"miter\" fill=\"white\" />\n<text x=\"13\" y=\"341\" font-size=\"6\" text-anchor=\"middle\" font-style=\"italic\" dy=\"0em\">[herald2]</text>\n<text x=\"17\" y=\"328\" font-size=\"7\" text-anchor=\"middle\" dy=\"0em\">0</text>\n<path d=\"M107,575 C107,575,107,565,117,565 L125,565 L125,585 L117,585 C107,585,107,575,107,575 L107,575\" stroke-width=\"1\" stroke=\"black\" stroke-linejoin=\"miter\" fill=\"white\" />\n<text x=\"113\" y=\"591\" font-size=\"6\" text-anchor=\"middle\" font-style=\"italic\" dy=\"0em\">[herald3]</text>\n<text x=\"117\" y=\"578\" font-size=\"7\" text-anchor=\"middle\" dy=\"0em\">0</text>\n<path d=\"M133,35 L125,35 L125,15 L133,15 C133,15,143,15,143,25 C143,35,133,35,133,35 L133,35\" stroke-width=\"1\" stroke=\"black\" stroke-linejoin=\"miter\" fill=\"white\" />\n<text x=\"138\" y=\"41\" font-size=\"6\" text-anchor=\"middle\" font-style=\"italic\" dy=\"0em\">[herald0]</text>\n<text x=\"133\" y=\"28\" font-size=\"7\" text-anchor=\"middle\" dy=\"0em\">0</text>\n<path d=\"M233,285 L225,285 L225,265 L233,265 C233,265,243,265,243,275 C243,285,233,285,233,285 L233,285\" stroke-width=\"1\" stroke=\"black\" stroke-linejoin=\"miter\" fill=\"white\" />\n<text x=\"238\" y=\"291\" font-size=\"6\" text-anchor=\"middle\" font-style=\"italic\" dy=\"0em\">[herald1]</text>\n<text x=\"233\" y=\"278\" font-size=\"7\" text-anchor=\"middle\" dy=\"0em\">0</text>\n<path d=\"M133,335 L125,335 L125,315 L133,315 C133,315,143,315,143,325 C143,335,133,335,133,335 L133,335\" stroke-width=\"1\" stroke=\"black\" stroke-linejoin=\"miter\" fill=\"white\" />\n<text x=\"138\" y=\"341\" font-size=\"6\" text-anchor=\"middle\" font-style=\"italic\" dy=\"0em\">[herald2]</text>\n<text x=\"133\" y=\"328\" font-size=\"7\" text-anchor=\"middle\" dy=\"0em\">0</text>\n<path d=\"M233,585 L225,585 L225,565 L233,565 C233,565,243,565,243,575 C243,585,233,585,233,585 L233,585\" stroke-width=\"1\" stroke=\"black\" stroke-linejoin=\"miter\" fill=\"white\" />\n<text x=\"238\" y=\"591\" font-size=\"6\" text-anchor=\"middle\" font-style=\"italic\" dy=\"0em\">[herald3]</text>\n<text x=\"233\" y=\"578\" font-size=\"7\" text-anchor=\"middle\" dy=\"0em\">0</text>\n</svg>",
      "text/plain": [
       "<drawSvg.drawing.Drawing at 0x7fdf4889dfa0>"
      ]
     },
     "execution_count": 25,
     "metadata": {},
     "output_type": "execute_result"
    }
   ],
   "source": [
    "\n",
    "p = pcvl.Processor(\"Naive\", cnot)\n",
    "p.set_postprocess(lambda s: (s[1] or s[2] or s[7] or s[8]) and (s[3] or s[4] or s[9] or s[10]))\n",
    "p.add_herald(0, 0)\n",
    "p.add_herald(5, 0)\n",
    "p.add_herald(6, 0)\n",
    "p.add_herald(11, 0)\n",
    "\n",
    "pcvl.pdisplay(p, recursive = True)"
   ]
  },
  {
   "cell_type": "code",
   "execution_count": 28,
   "metadata": {},
   "outputs": [],
   "source": [
    "Entre = pcvl.BasicState([0,1,0,0,0,0,0,1])\n",
    "p.with_input(Entre)\n",
    "Out = p.probs()['results']"
   ]
  },
  {
   "cell_type": "code",
   "execution_count": 29,
   "metadata": {},
   "outputs": [
    {
     "name": "stdout",
     "output_type": "stream",
     "text": [
      "{\n",
      "  |0,1,0,0,0,0,0,1>: 1/3\n",
      "  |0,0,1,0,0,1,0,0>: 1/3\n",
      "  |0,0,0,1,0,1,0,0>: 1/3\n",
      "}\n"
     ]
    }
   ],
   "source": [
    "print(Out)"
   ]
  },
  {
   "cell_type": "code",
   "execution_count": 15,
   "metadata": {},
   "outputs": [
    {
     "data": {
      "image/svg+xml": "<?xml version=\"1.0\" encoding=\"UTF-8\"?>\n<svg xmlns=\"http://www.w3.org/2000/svg\" xmlns:xlink=\"http://www.w3.org/1999/xlink\"\n     width=\"312.5\" height=\"187.5\" viewBox=\"-28.0 0 250 150\">\n<defs>\n</defs>\n<path d=\"M10,25 L25,25\" stroke-width=\"3\" stroke=\"darkred\" stroke-linejoin=\"miter\" fill=\"none\" />\n<path d=\"M10,75 L25,75\" stroke-width=\"3\" stroke=\"darkred\" stroke-linejoin=\"miter\" fill=\"none\" />\n<path d=\"M25,25 L53,25 L72,44\" stroke=\"darkred\" stroke-width=\"3\" fill=\"none\" />\n<path d=\"M78,44 L97,25 L125,25\" stroke=\"darkred\" stroke-width=\"3\" fill=\"none\" />\n<path d=\"M25,75 L53,75 L72,56\" stroke=\"darkred\" stroke-width=\"3\" fill=\"none\" />\n<path d=\"M78,56 L97,75 L125,75\" stroke=\"darkred\" stroke-width=\"3\" fill=\"none\" />\n<path d=\"M50,43 L100,43 L100,57 L50,57 Z\" stroke=\"black\" fill=\"black\" stroke-linejoin=\"miter\" />\n<text x=\"75\" y=\"85\" font-size=\"7\" text-anchor=\"middle\" dy=\"0em\"></text>\n<text x=\"75\" y=\"26\" font-size=\"7\" text-anchor=\"middle\" dy=\"0em\"></text>\n<path d=\"M50,43 L100,43 L100,47 L50,47 Z\" stroke=\"black\" fill=\"lightgray\" stroke-linejoin=\"miter\" />\n<path d=\"M93,50 L103,50 L103,60 L93,60 Z\" stroke=\"black\" fill=\"aquamarine\" stroke-linejoin=\"miter\" />\n<text x=\"98\" y=\"57\" font-size=\"6\" text-anchor=\"middle\" dy=\"0em\">H</text>\n<path d=\"M125,25 L140,25\" stroke-width=\"3\" stroke=\"darkred\" stroke-linejoin=\"miter\" fill=\"none\" />\n<path d=\"M125,75 L140,75\" stroke-width=\"3\" stroke=\"darkred\" stroke-linejoin=\"miter\" fill=\"none\" />\n<text x=\"150\" y=\"28\" font-size=\"6\" text-anchor=\"end\" dy=\"0em\">0</text>\n<text x=\"150\" y=\"78\" font-size=\"6\" text-anchor=\"end\" dy=\"0em\">1</text>\n<text x=\"0\" y=\"28\" font-size=\"6\" text-anchor=\"start\" dy=\"0em\">0</text>\n<text x=\"0\" y=\"78\" font-size=\"6\" text-anchor=\"start\" dy=\"0em\">1</text>\n</svg>",
      "text/plain": [
       "<drawSvg.drawing.Drawing at 0x7fdf4834b640>"
      ]
     },
     "execution_count": 15,
     "metadata": {},
     "output_type": "execute_result"
    }
   ],
   "source": [
    "test = pcvl.Circuit(2)\n",
    "#test.add((0, 1), pcvl.BS.H(pcvl.BS.r_to_theta(1/3), phi_tl = -np.pi/2, phi_bl = np.pi, phi_tr = np.pi / 2))\n",
    "test.add((0, 1), pcvl.BS.H())\n",
    "pcvl.pdisplay(test)"
   ]
  },
  {
   "cell_type": "code",
   "execution_count": 16,
   "metadata": {},
   "outputs": [
    {
     "name": "stdout",
     "output_type": "stream",
     "text": [
      "{\n",
      "  |0,0>: 1\n",
      "}\n"
     ]
    }
   ],
   "source": [
    "testinput = pcvl.BasicState([0,0])\n",
    "testprocess = pcvl.Processor('Naive',test)\n",
    "testprocess.with_input(testinput)\n",
    "out = testprocess.probs()['results']\n",
    "print(out)"
   ]
  },
  {
   "cell_type": "code",
   "execution_count": null,
   "metadata": {},
   "outputs": [],
   "source": []
  },
  {
   "cell_type": "code",
   "execution_count": null,
   "metadata": {},
   "outputs": [],
   "source": []
  }
 ],
 "metadata": {
  "kernelspec": {
   "display_name": "py39",
   "language": "python",
   "name": "python3"
  },
  "language_info": {
   "codemirror_mode": {
    "name": "ipython",
    "version": 3
   },
   "file_extension": ".py",
   "mimetype": "text/x-python",
   "name": "python",
   "nbconvert_exporter": "python",
   "pygments_lexer": "ipython3",
   "version": "3.9.13"
  },
  "orig_nbformat": 4,
  "vscode": {
   "interpreter": {
    "hash": "898f94b21feb777183c15fbce248ca55001b8c93961fcc05da4697c2e2f314d7"
   }
  }
 },
 "nbformat": 4,
 "nbformat_minor": 2
}
