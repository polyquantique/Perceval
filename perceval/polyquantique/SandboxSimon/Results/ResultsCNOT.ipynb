{
 "cells": [
  {
   "cell_type": "code",
   "execution_count": 1,
   "metadata": {},
   "outputs": [],
   "source": [
    "import perceval as pcvl\n",
    "import numpy as np\n",
    "import matplotlib.pyplot as plt\n",
    "import itertools\n",
    "from Functions import Gaussian, Schmidt, Exponential, Lowdin, Lrz, Overlap, modified_Schmidt\n",
    "import matplotlib.pyplot as plt\n",
    "import scipy as sc\n",
    "from tabulate import tabulate"
   ]
  },
  {
   "cell_type": "code",
   "execution_count": 2,
   "metadata": {},
   "outputs": [],
   "source": [
    "# Calculate the probability of an outcome for detector\n",
    "def calculate_proba(n,m,measure,allstateprobs_iterator):\n",
    "    r\"\"\"\n",
    "    gives the probability of an output measurement\n",
    "    :param n: number of spatial states\n",
    "    :param m: number of internal states\n",
    "    :param measure: array of how much photon we expect for each captor (array 1,n)\n",
    "    :param allstateprobs_iterator: An iterator containing states and probabilities of the simulation\n",
    "    :return: float probability\n",
    "    \"\"\"\n",
    "    Proba = 0\n",
    "    k = 0\n",
    "    theta = np.pi/4\n",
    "    c = [np.cos(theta),np.sin(theta)]\n",
    "    for state, probabilitie in allstateprobs_iterator:\n",
    "        ls = list(state)\n",
    "        #print(state,probabilitie)\n",
    "        capt = []\n",
    "        for i in range(n):\n",
    "            capt.append(np.sum(ls[i::n]))\n",
    "        #print(capt)\n",
    "        if np.all(capt==measure):\n",
    "            #print(state)\n",
    "            #print(probabilitie)\n",
    "            Proba += probabilitie\n",
    "        k+=1\n",
    "    return Proba\n",
    "\n",
    "def create_inputs(enterFunc,Coefs,Dictionnary = None): \n",
    "    #enterFunc is the distribution in space of the entry in the system ex: [1,1]\n",
    "    if any(np.array(enterFunc)>1):\n",
    "        raise Exception('Cannot be more than 1 photon per spatial mode')\n",
    "        \n",
    "    internMode = np.sum(enterFunc)\n",
    "    spatialMode = len(enterFunc)\n",
    "    nbPhoton = np.sum(enterFunc)\n",
    "    L = spatialMode*internMode \n",
    "\n",
    "    Inputs = []\n",
    "    for x in itertools.combinations(range(L), nbPhoton) :\n",
    "        inputsTemps = [1 if i in x else 0 for i in range(L)]\n",
    "        Inputs.append(np.array(inputsTemps))\n",
    "    \n",
    "    realInputs = []\n",
    "\n",
    "    for i in range(len(Inputs)):\n",
    "        compare = np.zeros(spatialMode)\n",
    "        for ii in range(0,L,spatialMode):\n",
    "            compare += Inputs[i][ii:ii+spatialMode]\n",
    "\n",
    "        if np.all(compare == enterFunc):\n",
    "            realInputs.append(Inputs[i])\n",
    "    #print(realInputs)\n",
    "    c = []\n",
    "    Arr = np.squeeze(Coefs)\n",
    "    \n",
    "    for i in range(len(realInputs)):\n",
    "        ArrCond = np.array(realInputs[i]).reshape(internMode,spatialMode).T\n",
    "        y = np.ma.masked_array(Arr, abs(ArrCond-1))\n",
    "        c.append(np.prod(y))\n",
    "\n",
    "    k = 0\n",
    "\n",
    "    if isinstance(Dictionnary,dict) and len(Dictionnary)!=0:\n",
    "        testdict = {}\n",
    "\n",
    "        iterkeys = itertools.permutations(Dictionnary.keys(),2)\n",
    "        iterval = itertools.permutations(Dictionnary.values(),2)\n",
    "        for i,j in zip(iterkeys,iterval) :\n",
    "            dictkey = '|' + i[0] + ',' + i[1] + '>'\n",
    "            dictval = j[0] + j[1]\n",
    "            testdict[dictkey] = pcvl.BasicState(dictval)\n",
    "        for i in realInputs:\n",
    "            nameOfState = str(pcvl.BasicState(i))\n",
    "            if k == 0:\n",
    "                InputsBS = testdict[nameOfState]\n",
    "                \n",
    "            else:\n",
    "                InputsBS = InputsBS + testdict[nameOfState]\n",
    "\n",
    "            k += 1\n",
    "        #Add the coefficient in the state vector\n",
    "        k = 0\n",
    "        for state,amplitude in InputsBS.items():\n",
    "\n",
    "            InputsBS[state] = amplitude*c[k]\n",
    "            k+=1\n",
    "        \n",
    "        return InputsBS,testdict\n",
    "    else:     \n",
    "        for i in realInputs:\n",
    "            if k == 0 :\n",
    "                InputsBS = pcvl.BasicState(i)\n",
    "            else :\n",
    "                InputsBS = InputsBS + pcvl.BasicState(i)\n",
    "            k += 1\n",
    "        #Add the coefficient in the state vector\n",
    "        k = 0\n",
    "        for state,amplitude in InputsBS.items():\n",
    "\n",
    "            InputsBS[state] = amplitude*c[k]\n",
    "            k+=1\n",
    "        \n",
    "        return InputsBS"
   ]
  },
  {
   "attachments": {},
   "cell_type": "markdown",
   "metadata": {},
   "source": [
    "Test CNOT"
   ]
  },
  {
   "cell_type": "code",
   "execution_count": 4,
   "metadata": {},
   "outputs": [
    {
     "data": {
      "image/svg+xml": [
       "<?xml version=\"1.0\" encoding=\"UTF-8\"?>\n",
       "<svg xmlns=\"http://www.w3.org/2000/svg\" xmlns:xlink=\"http://www.w3.org/1999/xlink\"\n",
       "     width=\"562.5\" height=\"812.5\" viewBox=\"-39.0 0 450 650\">\n",
       "<defs>\n",
       "</defs>\n",
       "<path d=\"M10,75 L25,75\" stroke-width=\"3\" stroke=\"darkred\" stroke-linejoin=\"miter\" fill=\"none\" />\n",
       "<path d=\"M10,125 L25,125\" stroke-width=\"3\" stroke=\"darkred\" stroke-linejoin=\"miter\" fill=\"none\" />\n",
       "<path d=\"M10,175 L25,175\" stroke-width=\"3\" stroke=\"darkred\" stroke-linejoin=\"miter\" fill=\"none\" />\n",
       "<path d=\"M10,225 L25,225\" stroke-width=\"3\" stroke=\"darkred\" stroke-linejoin=\"miter\" fill=\"none\" />\n",
       "<path d=\"M10,375 L25,375\" stroke-width=\"3\" stroke=\"darkred\" stroke-linejoin=\"miter\" fill=\"none\" />\n",
       "<path d=\"M10,425 L25,425\" stroke-width=\"3\" stroke=\"darkred\" stroke-linejoin=\"miter\" fill=\"none\" />\n",
       "<path d=\"M10,475 L25,475\" stroke-width=\"3\" stroke=\"darkred\" stroke-linejoin=\"miter\" fill=\"none\" />\n",
       "<path d=\"M10,525 L25,525\" stroke-width=\"3\" stroke=\"darkred\" stroke-linejoin=\"miter\" fill=\"none\" />\n",
       "<path d=\"M27,2 L323,2 L323,598 L27,598 Z\" stroke=\"black\" fill=\"lightblue\" stroke-dasharray=\"1,2\" stroke-linejoin=\"miter\" />\n",
       "<text x=\"29\" y=\"605\" font-size=\"8\" text-anchor=\"start\" dy=\"0em\">RALPH CNOT</text>\n",
       "<path d=\"M25,25 L53,25 L72,44\" stroke=\"darkred\" stroke-width=\"3\" fill=\"none\" />\n",
       "<path d=\"M78,44 L97,25 L125,25\" stroke=\"darkred\" stroke-width=\"3\" fill=\"none\" />\n",
       "<path d=\"M25,75 L53,75 L72,56\" stroke=\"darkred\" stroke-width=\"3\" fill=\"none\" />\n",
       "<path d=\"M78,56 L97,75 L125,75\" stroke=\"darkred\" stroke-width=\"3\" fill=\"none\" />\n",
       "<path d=\"M50,43 L100,43 L100,57 L50,57 Z\" stroke=\"black\" fill=\"black\" stroke-linejoin=\"miter\" />\n",
       "<text x=\"75\" y=\"95\" font-size=\"6\" text-anchor=\"middle\"><tspan x=\"75\" dy=\"0em\">Φ_tl=3*pi/2</tspan><tspan x=\"75\" dy=\"1em\">Φ_bl=pi</tspan><tspan x=\"75\" dy=\"1em\">Φ_tr=pi/2</tspan></text>\n",
       "<text x=\"75\" y=\"26\" font-size=\"7\" text-anchor=\"middle\" dy=\"0em\">Θ=1.910633</text>\n",
       "<path d=\"M50,43 L100,43 L100,47 L50,47 Z\" stroke=\"black\" fill=\"lightgray\" stroke-linejoin=\"miter\" />\n",
       "<path d=\"M93,50 L103,50 L103,60 L93,60 Z\" stroke=\"black\" fill=\"aquamarine\" stroke-linejoin=\"miter\" />\n",
       "<text x=\"98\" y=\"57\" font-size=\"6\" text-anchor=\"middle\" dy=\"0em\">H</text>\n",
       "<path d=\"M25,175 L53,175 L72,194\" stroke=\"darkred\" stroke-width=\"3\" fill=\"none\" />\n",
       "<path d=\"M78,194 L97,175 L125,175\" stroke=\"darkred\" stroke-width=\"3\" fill=\"none\" />\n",
       "<path d=\"M25,225 L53,225 L72,206\" stroke=\"darkred\" stroke-width=\"3\" fill=\"none\" />\n",
       "<path d=\"M78,206 L97,225 L125,225\" stroke=\"darkred\" stroke-width=\"3\" fill=\"none\" />\n",
       "<path d=\"M50,193 L100,193 L100,207 L50,207 Z\" stroke=\"black\" fill=\"black\" stroke-linejoin=\"miter\" />\n",
       "<text x=\"75\" y=\"235\" font-size=\"7\" text-anchor=\"middle\" dy=\"0em\"></text>\n",
       "<text x=\"75\" y=\"176\" font-size=\"7\" text-anchor=\"middle\" dy=\"0em\"></text>\n",
       "<path d=\"M50,193 L100,193 L100,197 L50,197 Z\" stroke=\"black\" fill=\"lightgray\" stroke-linejoin=\"miter\" />\n",
       "<path d=\"M93,200 L103,200 L103,210 L93,210 Z\" stroke=\"black\" fill=\"aquamarine\" stroke-linejoin=\"miter\" />\n",
       "<text x=\"98\" y=\"207\" font-size=\"6\" text-anchor=\"middle\" dy=\"0em\">H</text>\n",
       "<path d=\"M25,125 L125,125\" stroke=\"darkred\" stroke-width=\"3\" fill=\"none\" />\n",
       "<path d=\"M125,125 L153,125 L172,144\" stroke=\"darkred\" stroke-width=\"3\" fill=\"none\" />\n",
       "<path d=\"M178,144 L197,125 L225,125\" stroke=\"darkred\" stroke-width=\"3\" fill=\"none\" />\n",
       "<path d=\"M125,175 L153,175 L172,156\" stroke=\"darkred\" stroke-width=\"3\" fill=\"none\" />\n",
       "<path d=\"M178,156 L197,175 L225,175\" stroke=\"darkred\" stroke-width=\"3\" fill=\"none\" />\n",
       "<path d=\"M150,143 L200,143 L200,157 L150,157 Z\" stroke=\"black\" fill=\"black\" stroke-linejoin=\"miter\" />\n",
       "<text x=\"175\" y=\"195\" font-size=\"6\" text-anchor=\"middle\"><tspan x=\"175\" dy=\"0em\">Φ_tl=3*pi/2</tspan><tspan x=\"175\" dy=\"1em\">Φ_bl=pi</tspan><tspan x=\"175\" dy=\"1em\">Φ_tr=pi/2</tspan></text>\n",
       "<text x=\"175\" y=\"126\" font-size=\"7\" text-anchor=\"middle\" dy=\"0em\">Θ=1.910633</text>\n",
       "<path d=\"M150,143 L200,143 L200,147 L150,147 Z\" stroke=\"black\" fill=\"lightgray\" stroke-linejoin=\"miter\" />\n",
       "<path d=\"M193,150 L203,150 L203,160 L193,160 Z\" stroke=\"black\" fill=\"aquamarine\" stroke-linejoin=\"miter\" />\n",
       "<text x=\"198\" y=\"157\" font-size=\"6\" text-anchor=\"middle\" dy=\"0em\">H</text>\n",
       "<path d=\"M125,225 L153,225 L172,244\" stroke=\"darkred\" stroke-width=\"3\" fill=\"none\" />\n",
       "<path d=\"M178,244 L197,225 L225,225\" stroke=\"darkred\" stroke-width=\"3\" fill=\"none\" />\n",
       "<path d=\"M125,275 L153,275 L172,256\" stroke=\"darkred\" stroke-width=\"3\" fill=\"none\" />\n",
       "<path d=\"M178,256 L197,275 L225,275\" stroke=\"darkred\" stroke-width=\"3\" fill=\"none\" />\n",
       "<path d=\"M150,243 L200,243 L200,257 L150,257 Z\" stroke=\"black\" fill=\"black\" stroke-linejoin=\"miter\" />\n",
       "<text x=\"175\" y=\"280\" font-size=\"7\" text-anchor=\"middle\" dy=\"0em\"></text>\n",
       "<text x=\"175\" y=\"226\" font-size=\"7\" text-anchor=\"middle\" dy=\"0em\">Θ=1.910633</text>\n",
       "<path d=\"M150,243 L200,243 L200,247 L150,247 Z\" stroke=\"black\" fill=\"lightgray\" stroke-linejoin=\"miter\" />\n",
       "<path d=\"M193,250 L203,250 L203,260 L193,260 Z\" stroke=\"black\" fill=\"aquamarine\" stroke-linejoin=\"miter\" />\n",
       "<text x=\"198\" y=\"257\" font-size=\"6\" text-anchor=\"middle\" dy=\"0em\">H</text>\n",
       "<path d=\"M225,175 L253,175 L272,194\" stroke=\"darkred\" stroke-width=\"3\" fill=\"none\" />\n",
       "<path d=\"M278,194 L297,175 L325,175\" stroke=\"darkred\" stroke-width=\"3\" fill=\"none\" />\n",
       "<path d=\"M225,225 L253,225 L272,206\" stroke=\"darkred\" stroke-width=\"3\" fill=\"none\" />\n",
       "<path d=\"M278,206 L297,225 L325,225\" stroke=\"darkred\" stroke-width=\"3\" fill=\"none\" />\n",
       "<path d=\"M250,193 L300,193 L300,207 L250,207 Z\" stroke=\"black\" fill=\"black\" stroke-linejoin=\"miter\" />\n",
       "<text x=\"275\" y=\"235\" font-size=\"7\" text-anchor=\"middle\" dy=\"0em\"></text>\n",
       "<text x=\"275\" y=\"176\" font-size=\"7\" text-anchor=\"middle\" dy=\"0em\"></text>\n",
       "<path d=\"M250,193 L300,193 L300,197 L250,197 Z\" stroke=\"black\" fill=\"lightgray\" stroke-linejoin=\"miter\" />\n",
       "<path d=\"M293,200 L303,200 L303,210 L293,210 Z\" stroke=\"black\" fill=\"aquamarine\" stroke-linejoin=\"miter\" />\n",
       "<text x=\"298\" y=\"207\" font-size=\"6\" text-anchor=\"middle\" dy=\"0em\">H</text>\n",
       "<path d=\"M25,325 L53,325 L72,344\" stroke=\"darkred\" stroke-width=\"3\" fill=\"none\" />\n",
       "<path d=\"M78,344 L97,325 L125,325\" stroke=\"darkred\" stroke-width=\"3\" fill=\"none\" />\n",
       "<path d=\"M25,375 L53,375 L72,356\" stroke=\"darkred\" stroke-width=\"3\" fill=\"none\" />\n",
       "<path d=\"M78,356 L97,375 L125,375\" stroke=\"darkred\" stroke-width=\"3\" fill=\"none\" />\n",
       "<path d=\"M50,343 L100,343 L100,357 L50,357 Z\" stroke=\"black\" fill=\"black\" stroke-linejoin=\"miter\" />\n",
       "<text x=\"75\" y=\"395\" font-size=\"6\" text-anchor=\"middle\"><tspan x=\"75\" dy=\"0em\">Φ_tl=3*pi/2</tspan><tspan x=\"75\" dy=\"1em\">Φ_bl=pi</tspan><tspan x=\"75\" dy=\"1em\">Φ_tr=pi/2</tspan></text>\n",
       "<text x=\"75\" y=\"326\" font-size=\"7\" text-anchor=\"middle\" dy=\"0em\">Θ=1.910633</text>\n",
       "<path d=\"M50,343 L100,343 L100,347 L50,347 Z\" stroke=\"black\" fill=\"lightgray\" stroke-linejoin=\"miter\" />\n",
       "<path d=\"M93,350 L103,350 L103,360 L93,360 Z\" stroke=\"black\" fill=\"aquamarine\" stroke-linejoin=\"miter\" />\n",
       "<text x=\"98\" y=\"357\" font-size=\"6\" text-anchor=\"middle\" dy=\"0em\">H</text>\n",
       "<path d=\"M25,475 L53,475 L72,494\" stroke=\"darkred\" stroke-width=\"3\" fill=\"none\" />\n",
       "<path d=\"M78,494 L97,475 L125,475\" stroke=\"darkred\" stroke-width=\"3\" fill=\"none\" />\n",
       "<path d=\"M25,525 L53,525 L72,506\" stroke=\"darkred\" stroke-width=\"3\" fill=\"none\" />\n",
       "<path d=\"M78,506 L97,525 L125,525\" stroke=\"darkred\" stroke-width=\"3\" fill=\"none\" />\n",
       "<path d=\"M50,493 L100,493 L100,507 L50,507 Z\" stroke=\"black\" fill=\"black\" stroke-linejoin=\"miter\" />\n",
       "<text x=\"75\" y=\"535\" font-size=\"7\" text-anchor=\"middle\" dy=\"0em\"></text>\n",
       "<text x=\"75\" y=\"476\" font-size=\"7\" text-anchor=\"middle\" dy=\"0em\"></text>\n",
       "<path d=\"M50,493 L100,493 L100,497 L50,497 Z\" stroke=\"black\" fill=\"lightgray\" stroke-linejoin=\"miter\" />\n",
       "<path d=\"M93,500 L103,500 L103,510 L93,510 Z\" stroke=\"black\" fill=\"aquamarine\" stroke-linejoin=\"miter\" />\n",
       "<text x=\"98\" y=\"507\" font-size=\"6\" text-anchor=\"middle\" dy=\"0em\">H</text>\n",
       "<path d=\"M25,425 L125,425\" stroke=\"darkred\" stroke-width=\"3\" fill=\"none\" />\n",
       "<path d=\"M125,425 L153,425 L172,444\" stroke=\"darkred\" stroke-width=\"3\" fill=\"none\" />\n",
       "<path d=\"M178,444 L197,425 L225,425\" stroke=\"darkred\" stroke-width=\"3\" fill=\"none\" />\n",
       "<path d=\"M125,475 L153,475 L172,456\" stroke=\"darkred\" stroke-width=\"3\" fill=\"none\" />\n",
       "<path d=\"M178,456 L197,475 L225,475\" stroke=\"darkred\" stroke-width=\"3\" fill=\"none\" />\n",
       "<path d=\"M150,443 L200,443 L200,457 L150,457 Z\" stroke=\"black\" fill=\"black\" stroke-linejoin=\"miter\" />\n",
       "<text x=\"175\" y=\"495\" font-size=\"6\" text-anchor=\"middle\"><tspan x=\"175\" dy=\"0em\">Φ_tl=3*pi/2</tspan><tspan x=\"175\" dy=\"1em\">Φ_bl=pi</tspan><tspan x=\"175\" dy=\"1em\">Φ_tr=pi/2</tspan></text>\n",
       "<text x=\"175\" y=\"426\" font-size=\"7\" text-anchor=\"middle\" dy=\"0em\">Θ=1.910633</text>\n",
       "<path d=\"M150,443 L200,443 L200,447 L150,447 Z\" stroke=\"black\" fill=\"lightgray\" stroke-linejoin=\"miter\" />\n",
       "<path d=\"M193,450 L203,450 L203,460 L193,460 Z\" stroke=\"black\" fill=\"aquamarine\" stroke-linejoin=\"miter\" />\n",
       "<text x=\"198\" y=\"457\" font-size=\"6\" text-anchor=\"middle\" dy=\"0em\">H</text>\n",
       "<path d=\"M125,525 L153,525 L172,544\" stroke=\"darkred\" stroke-width=\"3\" fill=\"none\" />\n",
       "<path d=\"M178,544 L197,525 L225,525\" stroke=\"darkred\" stroke-width=\"3\" fill=\"none\" />\n",
       "<path d=\"M125,575 L153,575 L172,556\" stroke=\"darkred\" stroke-width=\"3\" fill=\"none\" />\n",
       "<path d=\"M178,556 L197,575 L225,575\" stroke=\"darkred\" stroke-width=\"3\" fill=\"none\" />\n",
       "<path d=\"M150,543 L200,543 L200,557 L150,557 Z\" stroke=\"black\" fill=\"black\" stroke-linejoin=\"miter\" />\n",
       "<text x=\"175\" y=\"580\" font-size=\"7\" text-anchor=\"middle\" dy=\"0em\"></text>\n",
       "<text x=\"175\" y=\"526\" font-size=\"7\" text-anchor=\"middle\" dy=\"0em\">Θ=1.910633</text>\n",
       "<path d=\"M150,543 L200,543 L200,547 L150,547 Z\" stroke=\"black\" fill=\"lightgray\" stroke-linejoin=\"miter\" />\n",
       "<path d=\"M193,550 L203,550 L203,560 L193,560 Z\" stroke=\"black\" fill=\"aquamarine\" stroke-linejoin=\"miter\" />\n",
       "<text x=\"198\" y=\"557\" font-size=\"6\" text-anchor=\"middle\" dy=\"0em\">H</text>\n",
       "<path d=\"M225,475 L253,475 L272,494\" stroke=\"darkred\" stroke-width=\"3\" fill=\"none\" />\n",
       "<path d=\"M278,494 L297,475 L325,475\" stroke=\"darkred\" stroke-width=\"3\" fill=\"none\" />\n",
       "<path d=\"M225,525 L253,525 L272,506\" stroke=\"darkred\" stroke-width=\"3\" fill=\"none\" />\n",
       "<path d=\"M278,506 L297,525 L325,525\" stroke=\"darkred\" stroke-width=\"3\" fill=\"none\" />\n",
       "<path d=\"M250,493 L300,493 L300,507 L250,507 Z\" stroke=\"black\" fill=\"black\" stroke-linejoin=\"miter\" />\n",
       "<text x=\"275\" y=\"535\" font-size=\"7\" text-anchor=\"middle\" dy=\"0em\"></text>\n",
       "<text x=\"275\" y=\"476\" font-size=\"7\" text-anchor=\"middle\" dy=\"0em\"></text>\n",
       "<path d=\"M250,493 L300,493 L300,497 L250,497 Z\" stroke=\"black\" fill=\"lightgray\" stroke-linejoin=\"miter\" />\n",
       "<path d=\"M293,500 L303,500 L303,510 L293,510 Z\" stroke=\"black\" fill=\"aquamarine\" stroke-linejoin=\"miter\" />\n",
       "<text x=\"298\" y=\"507\" font-size=\"6\" text-anchor=\"middle\" dy=\"0em\">H</text>\n",
       "<path d=\"M125,75 L325,75\" stroke=\"darkred\" stroke-width=\"3\" fill=\"none\" />\n",
       "<path d=\"M225,125 L325,125\" stroke=\"darkred\" stroke-width=\"3\" fill=\"none\" />\n",
       "<path d=\"M125,375 L325,375\" stroke=\"darkred\" stroke-width=\"3\" fill=\"none\" />\n",
       "<path d=\"M225,425 L325,425\" stroke=\"darkred\" stroke-width=\"3\" fill=\"none\" />\n",
       "<path d=\"M325,75 L340,75\" stroke-width=\"3\" stroke=\"darkred\" stroke-linejoin=\"miter\" fill=\"none\" />\n",
       "<path d=\"M325,125 L340,125\" stroke-width=\"3\" stroke=\"darkred\" stroke-linejoin=\"miter\" fill=\"none\" />\n",
       "<path d=\"M325,175 L340,175\" stroke-width=\"3\" stroke=\"darkred\" stroke-linejoin=\"miter\" fill=\"none\" />\n",
       "<path d=\"M325,225 L340,225\" stroke-width=\"3\" stroke=\"darkred\" stroke-linejoin=\"miter\" fill=\"none\" />\n",
       "<path d=\"M325,375 L340,375\" stroke-width=\"3\" stroke=\"darkred\" stroke-linejoin=\"miter\" fill=\"none\" />\n",
       "<path d=\"M325,425 L340,425\" stroke-width=\"3\" stroke=\"darkred\" stroke-linejoin=\"miter\" fill=\"none\" />\n",
       "<path d=\"M325,475 L340,475\" stroke-width=\"3\" stroke=\"darkred\" stroke-linejoin=\"miter\" fill=\"none\" />\n",
       "<path d=\"M325,525 L340,525\" stroke-width=\"3\" stroke=\"darkred\" stroke-linejoin=\"miter\" fill=\"none\" />\n",
       "<path d=\"M7,25 C7,25,7,15,17,15 L25,15 L25,35 L17,35 C7,35,7,25,7,25 L7,25\" stroke-width=\"1\" stroke=\"black\" stroke-linejoin=\"miter\" fill=\"white\" />\n",
       "<text x=\"13\" y=\"41\" font-size=\"6\" text-anchor=\"middle\" font-style=\"italic\" dy=\"0em\">[herald0]</text>\n",
       "<text x=\"17\" y=\"28\" font-size=\"7\" text-anchor=\"middle\" dy=\"0em\">0</text>\n",
       "<path d=\"M107,275 C107,275,107,265,117,265 L125,265 L125,285 L117,285 C107,285,107,275,107,275 L107,275\" stroke-width=\"1\" stroke=\"black\" stroke-linejoin=\"miter\" fill=\"white\" />\n",
       "<text x=\"113\" y=\"291\" font-size=\"6\" text-anchor=\"middle\" font-style=\"italic\" dy=\"0em\">[herald1]</text>\n",
       "<text x=\"117\" y=\"278\" font-size=\"7\" text-anchor=\"middle\" dy=\"0em\">0</text>\n",
       "<path d=\"M7,325 C7,325,7,315,17,315 L25,315 L25,335 L17,335 C7,335,7,325,7,325 L7,325\" stroke-width=\"1\" stroke=\"black\" stroke-linejoin=\"miter\" fill=\"white\" />\n",
       "<text x=\"13\" y=\"341\" font-size=\"6\" text-anchor=\"middle\" font-style=\"italic\" dy=\"0em\">[herald2]</text>\n",
       "<text x=\"17\" y=\"328\" font-size=\"7\" text-anchor=\"middle\" dy=\"0em\">0</text>\n",
       "<path d=\"M107,575 C107,575,107,565,117,565 L125,565 L125,585 L117,585 C107,585,107,575,107,575 L107,575\" stroke-width=\"1\" stroke=\"black\" stroke-linejoin=\"miter\" fill=\"white\" />\n",
       "<text x=\"113\" y=\"591\" font-size=\"6\" text-anchor=\"middle\" font-style=\"italic\" dy=\"0em\">[herald3]</text>\n",
       "<text x=\"117\" y=\"578\" font-size=\"7\" text-anchor=\"middle\" dy=\"0em\">0</text>\n",
       "<path d=\"M133,35 L125,35 L125,15 L133,15 C133,15,143,15,143,25 C143,35,133,35,133,35 L133,35\" stroke-width=\"1\" stroke=\"black\" stroke-linejoin=\"miter\" fill=\"white\" />\n",
       "<text x=\"138\" y=\"41\" font-size=\"6\" text-anchor=\"middle\" font-style=\"italic\" dy=\"0em\">[herald0]</text>\n",
       "<text x=\"133\" y=\"28\" font-size=\"7\" text-anchor=\"middle\" dy=\"0em\">0</text>\n",
       "<path d=\"M233,285 L225,285 L225,265 L233,265 C233,265,243,265,243,275 C243,285,233,285,233,285 L233,285\" stroke-width=\"1\" stroke=\"black\" stroke-linejoin=\"miter\" fill=\"white\" />\n",
       "<text x=\"238\" y=\"291\" font-size=\"6\" text-anchor=\"middle\" font-style=\"italic\" dy=\"0em\">[herald1]</text>\n",
       "<text x=\"233\" y=\"278\" font-size=\"7\" text-anchor=\"middle\" dy=\"0em\">0</text>\n",
       "<path d=\"M133,335 L125,335 L125,315 L133,315 C133,315,143,315,143,325 C143,335,133,335,133,335 L133,335\" stroke-width=\"1\" stroke=\"black\" stroke-linejoin=\"miter\" fill=\"white\" />\n",
       "<text x=\"138\" y=\"341\" font-size=\"6\" text-anchor=\"middle\" font-style=\"italic\" dy=\"0em\">[herald2]</text>\n",
       "<text x=\"133\" y=\"328\" font-size=\"7\" text-anchor=\"middle\" dy=\"0em\">0</text>\n",
       "<path d=\"M233,585 L225,585 L225,565 L233,565 C233,565,243,565,243,575 C243,585,233,585,233,585 L233,585\" stroke-width=\"1\" stroke=\"black\" stroke-linejoin=\"miter\" fill=\"white\" />\n",
       "<text x=\"238\" y=\"591\" font-size=\"6\" text-anchor=\"middle\" font-style=\"italic\" dy=\"0em\">[herald3]</text>\n",
       "<text x=\"233\" y=\"578\" font-size=\"7\" text-anchor=\"middle\" dy=\"0em\">0</text>\n",
       "</svg>"
      ],
      "text/plain": [
       "<drawSvg.drawing.Drawing at 0x7fdac4d2f160>"
      ]
     },
     "execution_count": 4,
     "metadata": {},
     "output_type": "execute_result"
    }
   ],
   "source": [
    "n = 3 #Nombre de modes spatiaux\n",
    "m = 3 #Nombre de modes internes\n",
    "k = 3 #Nombre de photon\n",
    "cnot = pcvl.Circuit(12, name=\"Ralph CNOT\")\n",
    "cnot.add((0, 1), pcvl.BS.H(pcvl.BS.r_to_theta(1/3), phi_tl = -np.pi/2, phi_bl = np.pi, phi_tr = np.pi / 2))\n",
    "cnot.add((3, 4), pcvl.BS.H())\n",
    "cnot.add((2, 3), pcvl.BS.H(pcvl.BS.r_to_theta(1/3), phi_tl = -np.pi/2, phi_bl = np.pi, phi_tr = np.pi / 2))\n",
    "cnot.add((4, 5), pcvl.BS.H(pcvl.BS.r_to_theta(1/3)))\n",
    "cnot.add((3, 4), pcvl.BS.H())\n",
    "#first copy\n",
    "cnot.add((6, 7), pcvl.BS.H(pcvl.BS.r_to_theta(1/3), phi_tl = -np.pi/2, phi_bl = np.pi, phi_tr = np.pi / 2))\n",
    "cnot.add((9, 10), pcvl.BS.H())\n",
    "cnot.add((8, 9), pcvl.BS.H(pcvl.BS.r_to_theta(1/3), phi_tl = -np.pi/2, phi_bl = np.pi, phi_tr = np.pi / 2))\n",
    "cnot.add((10, 11), pcvl.BS.H(pcvl.BS.r_to_theta(1/3)))\n",
    "cnot.add((9, 10), pcvl.BS.H())\n",
    "\n",
    "p = pcvl.Processor(\"Naive\", cnot)\n",
    "p.set_postprocess(lambda s: (s[1] or s[2] or s[7] or s[8]) and (s[3] or s[4] or s[9] or s[10]))\n",
    "p.add_herald(0, 0)\n",
    "p.add_herald(5, 0)\n",
    "p.add_herald(6, 0)\n",
    "p.add_herald(11, 0)\n",
    "\n",
    "pcvl.pdisplay(p, recursive = True)\n",
    "\n",
    "\n"
   ]
  },
  {
   "cell_type": "code",
   "execution_count": 5,
   "metadata": {},
   "outputs": [],
   "source": [
    "statesdict = {\n",
    "    \"0,0\": [1, 0, 1, 0],\n",
    "    \"0,1\": [1, 0, 0, 1],\n",
    "    \"1,0\": [0, 1, 1, 0],\n",
    "    \"1,1\": [0, 1, 0, 1]\n",
    "}\n",
    "\n"
   ]
  },
  {
   "cell_type": "code",
   "execution_count": 6,
   "metadata": {},
   "outputs": [],
   "source": [
    "## Getting the c vector \n",
    "env_type = 1  # 1=Gaussian, 2=exponential\n",
    "N = 100  # number of x points to plot the wave functions\n",
    "N_shift = 2  # total number of shifted wave functions\n",
    "waves = np.zeros((N_shift, N))  # values for each wave function\n",
    "\n",
    "sigma_wave = 0.5  # standard deviation of wave function\n",
    "x = np.linspace(-16 * sigma_wave, 16 * sigma_wave, N)  # position values\n",
    "\n",
    "shift_list=np.linspace(-8*sigma_wave,8*sigma_wave,100)\n",
    "C2S=np.zeros(len(shift_list))\n",
    "\n",
    "for k in range(len(shift_list)):\n",
    "    shift=shift_list[k]\n",
    "    x_shift=np.array([0,shift])\n",
    "    for i in range(N_shift):\n",
    "        waves[i] = Gaussian(x-x_shift[i], sigma_wave)\n",
    "\n",
    "    new_base,coeffsS=Schmidt(waves,x)\n",
    "    new_base,coeffsL = Lowdin(waves,x)\n",
    "    C2S[k]=coeffsS[1,1]"
   ]
  },
  {
   "cell_type": "code",
   "execution_count": 7,
   "metadata": {},
   "outputs": [],
   "source": [
    "## Getting the c vector \n",
    "env_type = 1  # 1=Gaussian, 2=exponential\n",
    "N = 100  # number of x points to plot the wave functions\n",
    "N_shift = 2  # total number of shifted wave functions\n",
    "waves = np.zeros((N_shift, N))  # values for each wave function\n",
    "\n",
    "sigma_wave = 0.5  # standard deviation of wave function\n",
    "x = np.linspace(-32 * sigma_wave, 32 * sigma_wave, N)  # position values\n",
    "\n",
    "shift_list=np.linspace(-16*sigma_wave,16*sigma_wave,100)\n",
    "C2MGS=np.zeros(len(shift_list))\n",
    "\n",
    "\n",
    "for k in range(len(shift_list)):\n",
    "    shift=shift_list[k]\n",
    "    x_shift=np.array([0,shift])\n",
    "    for i in range(N_shift):\n",
    "        waves[i] = Exponential(x-x_shift[i], sigma_wave)\n",
    "\n",
    "\n",
    "    new_base,coeffsMGS = modified_Schmidt(waves,x)\n",
    "    C2MGS[k] = coeffsMGS[1,1]"
   ]
  },
  {
   "cell_type": "code",
   "execution_count": 8,
   "metadata": {},
   "outputs": [
    {
     "name": "stderr",
     "output_type": "stream",
     "text": [
      "/var/folders/p8/vpf48gmj0r176vk8xpbpy47w0000gn/T/ipykernel_2868/1538191092.py:3: RuntimeWarning: invalid value encountered in sqrt\n",
      "  C = np.array([[0,0],[1,0],[0,0],[np.sqrt(1-coef ** 2),coef]])\n"
     ]
    },
    {
     "ename": "KeyboardInterrupt",
     "evalue": "",
     "output_type": "error",
     "traceback": [
      "\u001b[0;31m---------------------------------------------------------------------------\u001b[0m",
      "\u001b[0;31mKeyboardInterrupt\u001b[0m                         Traceback (most recent call last)",
      "\u001b[1;32m/Users/simsim/Documents/HIVER2023/Perceval/perceval/polyquantique/SandboxSimon/Results/ResultsCNOT.ipynb Cell 8\u001b[0m in \u001b[0;36m<cell line: 2>\u001b[0;34m()\u001b[0m\n\u001b[1;32m      <a href='vscode-notebook-cell:/Users/simsim/Documents/HIVER2023/Perceval/perceval/polyquantique/SandboxSimon/Results/ResultsCNOT.ipynb#X10sZmlsZQ%3D%3D?line=3'>4</a>\u001b[0m InputsBS \u001b[39m=\u001b[39m create_inputs([\u001b[39m0\u001b[39m,\u001b[39m1\u001b[39m,\u001b[39m0\u001b[39m,\u001b[39m1\u001b[39m],C)\n\u001b[1;32m      <a href='vscode-notebook-cell:/Users/simsim/Documents/HIVER2023/Perceval/perceval/polyquantique/SandboxSimon/Results/ResultsCNOT.ipynb#X10sZmlsZQ%3D%3D?line=5'>6</a>\u001b[0m \u001b[39m#print(InputsBS)\u001b[39;00m\n\u001b[0;32m----> <a href='vscode-notebook-cell:/Users/simsim/Documents/HIVER2023/Perceval/perceval/polyquantique/SandboxSimon/Results/ResultsCNOT.ipynb#X10sZmlsZQ%3D%3D?line=8'>9</a>\u001b[0m pcvl\u001b[39m.\u001b[39;49mpdisplay(p, recursive \u001b[39m=\u001b[39;49m \u001b[39mTrue\u001b[39;49;00m)\n\u001b[1;32m     <a href='vscode-notebook-cell:/Users/simsim/Documents/HIVER2023/Perceval/perceval/polyquantique/SandboxSimon/Results/ResultsCNOT.ipynb#X10sZmlsZQ%3D%3D?line=9'>10</a>\u001b[0m realOutput \u001b[39m=\u001b[39m {}\n\u001b[1;32m     <a href='vscode-notebook-cell:/Users/simsim/Documents/HIVER2023/Perceval/perceval/polyquantique/SandboxSimon/Results/ResultsCNOT.ipynb#X10sZmlsZQ%3D%3D?line=10'>11</a>\u001b[0m \u001b[39mfor\u001b[39;00m i \u001b[39min\u001b[39;00m \u001b[39mrange\u001b[39m(\u001b[39mlen\u001b[39m(InputsBS)):\n",
      "File \u001b[0;32m~/Documents/HIVER2023/Perceval/perceval/rendering/pdisplay.py:271\u001b[0m, in \u001b[0;36mpdisplay\u001b[0;34m(o, output_format, **opts)\u001b[0m\n\u001b[1;32m    269\u001b[0m \u001b[39mif\u001b[39;00m output_format \u001b[39mis\u001b[39;00m \u001b[39mNone\u001b[39;00m:\n\u001b[1;32m    270\u001b[0m     output_format \u001b[39m=\u001b[39m _default_output_format(o)\n\u001b[0;32m--> 271\u001b[0m res \u001b[39m=\u001b[39m _pdisplay(o, output_format\u001b[39m=\u001b[39;49moutput_format, \u001b[39m*\u001b[39;49m\u001b[39m*\u001b[39;49mopts)\n\u001b[1;32m    272\u001b[0m \u001b[39mif\u001b[39;00m res \u001b[39mis\u001b[39;00m \u001b[39mNone\u001b[39;00m:\n\u001b[1;32m    273\u001b[0m     opts_simple \u001b[39m=\u001b[39m {}\n",
      "File \u001b[0;32m~/opt/anaconda3/envs/py39/lib/python3.9/site-packages/multipledispatch/dispatcher.py:278\u001b[0m, in \u001b[0;36mDispatcher.__call__\u001b[0;34m(self, *args, **kwargs)\u001b[0m\n\u001b[1;32m    276\u001b[0m     \u001b[39mself\u001b[39m\u001b[39m.\u001b[39m_cache[types] \u001b[39m=\u001b[39m func\n\u001b[1;32m    277\u001b[0m \u001b[39mtry\u001b[39;00m:\n\u001b[0;32m--> 278\u001b[0m     \u001b[39mreturn\u001b[39;00m func(\u001b[39m*\u001b[39;49margs, \u001b[39m*\u001b[39;49m\u001b[39m*\u001b[39;49mkwargs)\n\u001b[1;32m    280\u001b[0m \u001b[39mexcept\u001b[39;00m MDNotImplementedError:\n\u001b[1;32m    281\u001b[0m     funcs \u001b[39m=\u001b[39m \u001b[39mself\u001b[39m\u001b[39m.\u001b[39mdispatch_iter(\u001b[39m*\u001b[39mtypes)\n",
      "File \u001b[0;32m~/Documents/HIVER2023/Perceval/perceval/rendering/pdisplay.py:228\u001b[0m, in \u001b[0;36m_pdisplay\u001b[0;34m(processor, **kwargs)\u001b[0m\n\u001b[1;32m    226\u001b[0m \u001b[39m@dispatch\u001b[39m(AProcessor)\n\u001b[1;32m    227\u001b[0m \u001b[39mdef\u001b[39;00m \u001b[39m_pdisplay\u001b[39m(processor, \u001b[39m*\u001b[39m\u001b[39m*\u001b[39mkwargs):\n\u001b[0;32m--> 228\u001b[0m     \u001b[39mreturn\u001b[39;00m pdisplay_processor(processor, \u001b[39m*\u001b[39;49m\u001b[39m*\u001b[39;49mkwargs)\n",
      "File \u001b[0;32m~/Documents/HIVER2023/Perceval/perceval/rendering/pdisplay.py:107\u001b[0m, in \u001b[0;36mpdisplay_processor\u001b[0;34m(processor, output_format, recursive, compact, precision, nsimplify, skin, **opts)\u001b[0m\n\u001b[1;32m    105\u001b[0m     \u001b[39mif\u001b[39;00m \u001b[39misinstance\u001b[39m(c, Circuit):\n\u001b[1;32m    106\u001b[0m         c \u001b[39m=\u001b[39m Circuit(c\u001b[39m.\u001b[39mm)\u001b[39m.\u001b[39madd(\u001b[39m0\u001b[39m, c)\n\u001b[0;32m--> 107\u001b[0m     renderer\u001b[39m.\u001b[39;49mrender_circuit(c,\n\u001b[1;32m    108\u001b[0m                             recursive\u001b[39m=\u001b[39;49mrecursive,\n\u001b[1;32m    109\u001b[0m                             precision\u001b[39m=\u001b[39;49mprecision,\n\u001b[1;32m    110\u001b[0m                             nsimplify\u001b[39m=\u001b[39;49mnsimplify,\n\u001b[1;32m    111\u001b[0m                             shift\u001b[39m=\u001b[39;49mshift)\n\u001b[1;32m    112\u001b[0m renderer\u001b[39m.\u001b[39mclose()\n\u001b[1;32m    114\u001b[0m \u001b[39mfor\u001b[39;00m port, port_range \u001b[39min\u001b[39;00m processor\u001b[39m.\u001b[39m_in_ports\u001b[39m.\u001b[39mitems():\n",
      "File \u001b[0;32m~/Documents/HIVER2023/Perceval/perceval/rendering/circuit/renderer.py:91\u001b[0m, in \u001b[0;36mICircuitRenderer.render_circuit\u001b[0;34m(self, circuit, map_param_kid, shift, recursive, precision, nsimplify)\u001b[0m\n\u001b[1;32m     89\u001b[0m \u001b[39mif\u001b[39;00m recursive:\n\u001b[1;32m     90\u001b[0m     \u001b[39mself\u001b[39m\u001b[39m.\u001b[39mopen_subblock(shiftr, c\u001b[39m.\u001b[39mname, \u001b[39mself\u001b[39m\u001b[39m.\u001b[39mget_circuit_size(c, recursive\u001b[39m=\u001b[39m\u001b[39mTrue\u001b[39;00m), c\u001b[39m.\u001b[39m_color)\n\u001b[0;32m---> 91\u001b[0m     \u001b[39mself\u001b[39;49m\u001b[39m.\u001b[39;49mrender_circuit(c, shift\u001b[39m=\u001b[39;49mshiftr[\u001b[39m0\u001b[39;49m], map_param_kid\u001b[39m=\u001b[39;49mmap_param_kid,\n\u001b[1;32m     92\u001b[0m                         precision\u001b[39m=\u001b[39;49mprecision, nsimplify\u001b[39m=\u001b[39;49mnsimplify)\n\u001b[1;32m     93\u001b[0m     \u001b[39mself\u001b[39m\u001b[39m.\u001b[39mclose_subblock(shiftr)\n\u001b[1;32m     94\u001b[0m \u001b[39melse\u001b[39;00m:\n",
      "File \u001b[0;32m~/Documents/HIVER2023/Perceval/perceval/rendering/circuit/renderer.py:100\u001b[0m, in \u001b[0;36mICircuitRenderer.render_circuit\u001b[0;34m(self, circuit, map_param_kid, shift, recursive, precision, nsimplify)\u001b[0m\n\u001b[1;32m     98\u001b[0m         \u001b[39melse\u001b[39;00m:\n\u001b[1;32m     99\u001b[0m             component_vars \u001b[39m=\u001b[39m c\u001b[39m.\u001b[39mget_variables(map_param_kid)\n\u001b[0;32m--> 100\u001b[0m             description \u001b[39m=\u001b[39m format_parameters(component_vars, precision, nsimplify)\n\u001b[1;32m    101\u001b[0m             \u001b[39mself\u001b[39m\u001b[39m.\u001b[39mappend_circuit(shiftr, c, description)\n\u001b[1;32m    103\u001b[0m \u001b[39mself\u001b[39m\u001b[39m.\u001b[39mextend_pos(\u001b[39m0\u001b[39m, circuit\u001b[39m.\u001b[39mm \u001b[39m-\u001b[39m \u001b[39m1\u001b[39m)\n",
      "File \u001b[0;32m~/Documents/HIVER2023/Perceval/perceval/utils/format.py:128\u001b[0m, in \u001b[0;36mformat_parameters\u001b[0;34m(params, precision, nsimplify, separator)\u001b[0m\n\u001b[1;32m    125\u001b[0m         \u001b[39mcontinue\u001b[39;00m\n\u001b[1;32m    127\u001b[0m     \u001b[39mif\u001b[39;00m \u001b[39mnot\u001b[39;00m \u001b[39misinstance\u001b[39m(value, \u001b[39mstr\u001b[39m):\n\u001b[0;32m--> 128\u001b[0m         _, value \u001b[39m=\u001b[39m simple_float(value, precision, nsimplify)\n\u001b[1;32m    129\u001b[0m     output\u001b[39m.\u001b[39mappend(\u001b[39mf\u001b[39m\u001b[39m'\u001b[39m\u001b[39m{\u001b[39;00mkey\u001b[39m}\u001b[39;00m\u001b[39m=\u001b[39m\u001b[39m{\u001b[39;00mvalue\u001b[39m}\u001b[39;00m\u001b[39m'\u001b[39m)\n\u001b[1;32m    130\u001b[0m \u001b[39mreturn\u001b[39;00m separator\u001b[39m.\u001b[39mjoin(output)\n",
      "File \u001b[0;32m~/Documents/HIVER2023/Perceval/perceval/utils/format.py:42\u001b[0m, in \u001b[0;36msimple_float\u001b[0;34m(alpha, precision, nsimplify, fracmax, multiplier, mult10)\u001b[0m\n\u001b[1;32m     40\u001b[0m \u001b[39mfor\u001b[39;00m multiplier2 \u001b[39min\u001b[39;00m [sp\u001b[39m.\u001b[39mS(\u001b[39m1\u001b[39m), sp\u001b[39m.\u001b[39mpi, sp\u001b[39m.\u001b[39msqrt(\u001b[39m2\u001b[39m), sp\u001b[39m.\u001b[39msqrt(\u001b[39m3\u001b[39m), sp\u001b[39m.\u001b[39msqrt(\u001b[39m5\u001b[39m), sp\u001b[39m.\u001b[39msqrt(\u001b[39m6\u001b[39m)]:\n\u001b[1;32m     41\u001b[0m     v \u001b[39m=\u001b[39m alpha\u001b[39m/\u001b[39mmultiplier2\u001b[39m*\u001b[39mr\n\u001b[0;32m---> 42\u001b[0m     \u001b[39mif\u001b[39;00m \u001b[39mabs\u001b[39m(\u001b[39mfloat\u001b[39m(v)\u001b[39m-\u001b[39m\u001b[39mround\u001b[39m(\u001b[39mfloat\u001b[39;49m(v))) \u001b[39m<\u001b[39m precision:\n\u001b[1;32m     43\u001b[0m         simple \u001b[39m=\u001b[39m sign\u001b[39m*\u001b[39msp\u001b[39m.\u001b[39mRational(\u001b[39mround\u001b[39m(v), r)\u001b[39m*\u001b[39mmultiplier\u001b[39m*\u001b[39mmultiplier2\n\u001b[1;32m     44\u001b[0m         \u001b[39mreturn\u001b[39;00m simple, \u001b[39mstr\u001b[39m(simple)\n",
      "\u001b[0;31mKeyboardInterrupt\u001b[0m: "
     ]
    }
   ],
   "source": [
    "Probs = []\n",
    "for coef in C2MGS:\n",
    "    C = np.array([[0,0],[1,0],[0,0],[np.sqrt(1-coef ** 2),coef]])\n",
    "    InputsBS = create_inputs([0,1,0,1],C)\n",
    "\n",
    "    #print(InputsBS)\n",
    "\n",
    "\n",
    "    pcvl.pdisplay(p, recursive = True)\n",
    "    realOutput = {}\n",
    "    for i in range(len(InputsBS)):\n",
    "        miniState = InputsBS[i]\n",
    "        #print(miniState,':',InputsBS[miniState])\n",
    "        p.with_input(miniState)\n",
    "        output = p.probs()['results']\n",
    "        for ii in output.keys():\n",
    "            if ii in realOutput.keys():\n",
    "                realOutput[ii] = realOutput[ii] + output[ii] * abs(InputsBS[InputsBS[i]]) ** 2\n",
    "            else:\n",
    "                realOutput[ii] = output[ii] * abs(InputsBS[InputsBS[i]]) ** 2\n",
    "    K = 0\n",
    "\n",
    "    for i,j in zip(realOutput.keys(),realOutput.values()):\n",
    "        #print(i,j)\n",
    "        K += j\n",
    "\n",
    "    #print(K)\n",
    "    realOutputLs = list(realOutput.values())\n",
    "    Probs.append(realOutputLs[0])\n",
    "\n"
   ]
  },
  {
   "cell_type": "code",
   "execution_count": null,
   "metadata": {},
   "outputs": [
    {
     "data": {
      "image/png": "[encoded data removed]",
      "text/plain": [
       "<Figure size 640x480 with 1 Axes>"
      ]
     },
     "metadata": {},
     "output_type": "display_data"
    }
   ],
   "source": [
    "plt.figure()\n",
    "plt.plot(shift_list/1e9,Probs)\n",
    "plt.xlabel(r'$\\Delta z$')\n",
    "plt.ylabel(r'$P(11 \\rightarrow 10)$')\n",
    "\n",
    "plt.show()"
   ]
  },
  {
   "attachments": {},
   "cell_type": "markdown",
   "metadata": {},
   "source": [
    "Create Random Values"
   ]
  },
  {
   "cell_type": "code",
   "execution_count": 17,
   "metadata": {},
   "outputs": [],
   "source": [
    "## Getting the c vector \n",
    "env_type = 1  # 1=Gaussian, 2=exponential\n",
    "N = 10000  # number of x points to plot the wave functions\n",
    "N_shift = 2  # total number of shifted wave functions\n",
    "waves = np.zeros((N_shift, N))  # values for each wave function\n",
    "\n",
    "sigma_wave = 1/55e-12  # standard deviation of wave function\n",
    "x = np.linspace(-32 / sigma_wave, 64 /sigma_wave, N)  # position values\n",
    "\n",
    "#shift_list=np.random.standard_cauchy(10)*sigma_wave/10\n",
    "shift_list = np.array([100e-12])\n",
    "\n",
    "C2MGS=np.zeros(len(shift_list))\n",
    "C2S = np.zeros_like(C2MGS)\n",
    "\n",
    "for k in range(len(shift_list)):\n",
    "    shift=shift_list[k]\n",
    "    x_shift=np.array([0,shift])\n",
    "    for i in range(N_shift):\n",
    "        waves[i] = Exponential(x-x_shift[i], sigma_wave)\n",
    "\n",
    "\n",
    "    new_base,coeffsMGS = modified_Schmidt(waves,x)\n",
    "    new_base,coeffsS=Schmidt(waves,x)\n",
    "    new_base,coeffsL = Lowdin(waves,x)\n",
    "    C2S[k]=coeffsS[1,1]\n",
    "    C2MGS[k] = coeffsMGS[1,1]"
   ]
  },
  {
   "cell_type": "code",
   "execution_count": 18,
   "metadata": {},
   "outputs": [
    {
     "data": {
      "text/plain": [
       "[<matplotlib.lines.Line2D at 0x7fdac5e4f6d0>,\n",
       " <matplotlib.lines.Line2D at 0x7fdac5e4f730>]"
      ]
     },
     "execution_count": 18,
     "metadata": {},
     "output_type": "execute_result"
    },
    {
     "data": {
      "image/png": "[encoded data removed]",
      "text/plain": [
       "<Figure size 640x480 with 1 Axes>"
      ]
     },
     "metadata": {},
     "output_type": "display_data"
    }
   ],
   "source": [
    "plt.plot(x,waves.T)"
   ]
  },
  {
   "cell_type": "code",
   "execution_count": 19,
   "metadata": {},
   "outputs": [],
   "source": [
    "def create_CRand(i,coef):\n",
    "    CRand = []\n",
    "    RawInputs = []\n",
    "    Expected = []\n",
    "    if i==0:\n",
    "        CRand.append(np.array([[1,0],[0,0],[np.sqrt(1-coef ** 2),coef],[0,0]])) #Input = [1,0,1,0] = 0,0 exp = 0,0\n",
    "        RawInputs.append([1,0,1,0])\n",
    "        Expected = [1,0,1,0]\n",
    "    elif i==1:\n",
    "        CRand.append(np.array([[1,0],[0,0],[0,0],[np.sqrt(1-coef ** 2),coef]])) #Input = [1,0,0,1] = 0,1 exp = 0,1\n",
    "        RawInputs.append([1,0,0,1])\n",
    "        Expected = [1,0,0,1]\n",
    "    elif i==2:\n",
    "        CRand.append(np.array([[0,0],[1,0],[np.sqrt(1-coef ** 2),coef],[0,0]])) #Input = [0,1,1,0] = 1,0 exp = 1,1\n",
    "        RawInputs.append([0,1,1,0])\n",
    "        Expected = [0,1,0,1]\n",
    "    elif i==3:\n",
    "        CRand.append(np.array([[0,0],[1,0],[0,0],[np.sqrt(1-coef ** 2),coef]])) #Input = [0,1,0,1] = 1,1 exp = 1,0\n",
    "        RawInputs.append([0,1,0,1])\n",
    "        Expected = [0,1,1,0]\n",
    "    else :\n",
    "        print('Epic Fail')\n",
    "        return\n",
    "    return CRand, np.squeeze(RawInputs), Expected"
   ]
  },
  {
   "cell_type": "code",
   "execution_count": 20,
   "metadata": {},
   "outputs": [
    {
     "name": "stdout",
     "output_type": "stream",
     "text": [
      "[0.91437777]\n"
     ]
    }
   ],
   "source": [
    "print(C2S)"
   ]
  },
  {
   "cell_type": "code",
   "execution_count": 21,
   "metadata": {},
   "outputs": [],
   "source": [
    "# Create the C manually because it is not yet implemented\n",
    "statesdict = {\n",
    "    pcvl.BasicState([1,0,1,0]) : \"00\",\n",
    "    pcvl.BasicState([1,0,0,1]) : \"01\",\n",
    "    pcvl.BasicState([0,1,1,0]) : \"10\",\n",
    "    pcvl.BasicState([0,1,0,1]) : \"11\"\n",
    "}\n"
   ]
  },
  {
   "cell_type": "code",
   "execution_count": 22,
   "metadata": {},
   "outputs": [],
   "source": [
    "TableValue = []\n",
    "\n",
    "for vars in range(4):\n",
    "\n",
    "    statesProb = dict.fromkeys(statesdict.keys(),0)\n",
    "\n",
    "    for coef in C2MGS:\n",
    "        \n",
    "        [C,Inputs,Expected] = create_CRand(vars,coef)\n",
    "        InputsBS = create_inputs(Inputs,C)\n",
    "        C = np.array(C)\n",
    "        #C = (C+0.007)/(1-0.007)\n",
    "        #print(InputsBS)\n",
    "\n",
    "\n",
    "        pcvl.pdisplay(p, recursive = True)\n",
    "        realOutput = {}\n",
    "        for i in range(len(InputsBS)):\n",
    "            miniState = InputsBS[i]\n",
    "            #print(miniState,':',InputsBS[miniState])\n",
    "            p.with_input(miniState)\n",
    "            output = p.probs()['results']\n",
    "            for ii in output.keys():\n",
    "                if ii in realOutput.keys():\n",
    "                    realOutput[ii] = realOutput[ii] + output[ii] * abs(InputsBS[InputsBS[i]]) ** 2\n",
    "                else:\n",
    "                    realOutput[ii] = output[ii] * abs(InputsBS[InputsBS[i]]) ** 2\n",
    "\n",
    "        \n",
    "        Prob = 0\n",
    "        \n",
    "        for states,val in zip(realOutput.keys(),realOutput.values()):\n",
    "            ls = np.array(states)\n",
    "            Cond = ls[0:4] + ls[4:]\n",
    "            tempState = pcvl.BasicState(Cond)\n",
    "            #print(tempState,val)\n",
    "            if tempState in statesProb.keys():\n",
    "                statesProb[tempState] += val\n",
    "\n",
    "    results = {key: value / len(C2MGS) for key, value in statesProb.items()}\n",
    "    TableValue.append(results)"
   ]
  },
  {
   "cell_type": "code",
   "execution_count": 23,
   "metadata": {},
   "outputs": [],
   "source": [
    "table = [[] for i in range(len(statesdict.keys())+1)]\n",
    "table[0] = list(statesdict.values())\n",
    "k = 1\n",
    "for i in statesdict.keys():\n",
    "    l = 0\n",
    "    for j in statesdict.keys():\n",
    "        if l==0:\n",
    "            table[k].append(statesdict[i])\n",
    "\n",
    "        table[k].append(TableValue[k-1][j])\n",
    "        \n",
    "        l += 1\n",
    "    k += 1"
   ]
  },
  {
   "cell_type": "code",
   "execution_count": 24,
   "metadata": {},
   "outputs": [
    {
     "name": "stdout",
     "output_type": "stream",
     "text": [
      "['11', 0.0, 0.0, 0.44260886595702903, 0.5573911340429709]\n",
      "╒════╤══════╤══════╤══════════╤══════════╕\n",
      "│    │   00 │   01 │       10 │       11 │\n",
      "╞════╪══════╪══════╪══════════╪══════════╡\n",
      "│ 00 │    1 │    0 │ 0        │ 0        │\n",
      "├────┼──────┼──────┼──────────┼──────────┤\n",
      "│ 01 │    0 │    1 │ 0        │ 0        │\n",
      "├────┼──────┼──────┼──────────┼──────────┤\n",
      "│ 10 │    0 │    0 │ 0.557391 │ 0.442609 │\n",
      "├────┼──────┼──────┼──────────┼──────────┤\n",
      "│ 11 │    0 │    0 │ 0.442609 │ 0.557391 │\n",
      "╘════╧══════╧══════╧══════════╧══════════╛\n"
     ]
    }
   ],
   "source": [
    "from tabulate import tabulate\n",
    "print(table[4])\n",
    "print(tabulate(table,headers='firstrow',tablefmt=\"fancy_grid\"))"
   ]
  },
  {
   "cell_type": "code",
   "execution_count": 30,
   "metadata": {},
   "outputs": [],
   "source": [
    "with open('shiftlist.txt','w+') as f:\n",
    "    f.writelines(str(x_shift))\n",
    "    f.writelines('\\n')\n",
    "    f.writelines(str(table))\n"
   ]
  },
  {
   "cell_type": "code",
   "execution_count": 31,
   "metadata": {},
   "outputs": [
    {
     "name": "stdout",
     "output_type": "stream",
     "text": [
      "1.5528021197278667\n"
     ]
    },
    {
     "data": {
      "text/plain": [
       "1.0767526234577516"
      ]
     },
     "execution_count": 31,
     "metadata": {},
     "output_type": "execute_result"
    },
    {
     "data": {
      "image/png": "[encoded data removed]",
      "text/plain": [
       "<Figure size 640x480 with 1 Axes>"
      ]
     },
     "metadata": {},
     "output_type": "display_data"
    }
   ],
   "source": [
    "plt.plot(waves.T)\n",
    "Ms = (Overlap(waves[0],waves[1],x))**2\n",
    "print(2*(1-Ms))\n",
    "0.518479/0.481521"
   ]
  },
  {
   "cell_type": "code",
   "execution_count": null,
   "metadata": {},
   "outputs": [],
   "source": []
  }
 ],
 "metadata": {
  "kernelspec": {
   "display_name": "Python 3.9.13 ('py39')",
   "language": "python",
   "name": "python3"
  },
  "language_info": {
   "codemirror_mode": {
    "name": "ipython",
    "version": 3
   },
   "file_extension": ".py",
   "mimetype": "text/x-python",
   "name": "python",
   "nbconvert_exporter": "python",
   "pygments_lexer": "ipython3",
   "version": "3.9.13"
  },
  "orig_nbformat": 4,
  "vscode": {
   "interpreter": {
    "hash": "898f94b21feb777183c15fbce248ca55001b8c93961fcc05da4697c2e2f314d7"
   }
  }
 },
 "nbformat": 4,
 "nbformat_minor": 2
}
