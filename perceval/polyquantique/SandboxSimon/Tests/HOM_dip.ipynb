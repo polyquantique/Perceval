{
 "cells": [
  {
   "cell_type": "code",
   "execution_count": 17,
   "metadata": {},
   "outputs": [],
   "source": [
    "import numpy as np\n",
    "import scipy as sc\n",
    "import matplotlib.pyplot as plt\n",
    "import ipywidgets as wg"
   ]
  },
  {
   "cell_type": "markdown",
   "metadata": {},
   "source": [
    "## Initializing Enveloppe functions.\n",
    "\n",
    "We study the case where the probability amplitudes of the photons are either shaped as a Gaussian or an exponential distribution as follows :\n",
    "\n",
    "$$\\alpha(z) = \\frac{1}{\\sqrt{\\Delta z\\sqrt{2\\pi}}}\\exp{\\left(-\\frac{z^2}{4\\Delta z^2}\\right)}e^{-ik_0z} \\hspace{12pt} \\textrm{or} \\hspace{12pt} \\alpha(z) = \\sqrt{\\gamma}\\exp{\\left(-\\frac{\\gamma}{2}z\\right)}u(z)e^{-ik_0z}$$\n",
    "\n",
    "$$\\textrm{where} \\hspace{12pt} \\int_{-\\infty}^{-\\infty}|\\alpha(z)|^2dz=\\int_{-\\infty}^{-\\infty}|\\tilde{\\alpha}(k)|^2dk=1$$\n",
    "\n",
    "One single photon represents a superposition of all the the possible k-modes, which means :\n",
    "\n",
    "$$|\\psi_1\\rangle=\\int\\tilde{\\alpha}(k)a^{\\dag}(k)|\\text{vac}\\rangle dk$$\n",
    "\n",
    "in the case of 2 spacial modes our input state is the following :\n",
    "\n",
    "$$\\mathrm{|\\psi_{in}\\rangle=\\int\\tilde{\\alpha}_1(k)\\tilde{\\alpha}_2(k')a_{1}^{\\dag}(k)a_{2}^{\\dag}(k')|vac\\rangle dk}$$\n",
    "\n",
    "Generally speaking $\\alpha_1(z)$ and $\\alpha_2(z)$ can be any shape, in this simulation they will have the same shape with an added shift in space of value $z_0$. This adds a phase difference to the fourrier transforms, which means :\n",
    "$$\\mathrm{\\alpha_2(z)=\\alpha_1(z-z_0) \\hspace{12pt} and \\hspace{12pt} \\tilde{\\alpha}_2(k)=\\tilde{\\alpha}_1(k)e^{iz_0k}}$$"
   ]
  },
  {
   "cell_type": "code",
   "execution_count": 19,
   "metadata": {},
   "outputs": [],
   "source": [
    "#Gaussian amplitude function (not exactly gaussian : |Gauss|^2 is gaussian)\n",
    "def Gauss(m,sigma,x):\n",
    "    G = (1/((sigma*(2*np.pi)**(1/2)))**(1/2))*np.exp(-((x-m)**2)/(4*sigma**2))\n",
    "    return G\n",
    "\n",
    "#Exponential amplitude function :\n",
    "def Exp(gamma,m,x):\n",
    "    E = np.sqrt(gamma)*np.exp(-gamma/2*(x-m))\n",
    "    for i in range(len(x)):\n",
    "        if x[i]<m :\n",
    "            E[i]=0\n",
    "    E = E/max(E)*np.sqrt(gamma)\n",
    "    return E\n",
    "\n",
    "#Lorentzian amplitude function :\n",
    "def Lrz(gamma,m,x):\n",
    "    L = np.sqrt(2*gamma/np.pi)/(gamma-2*1j*(x-m))\n",
    "    return L"
   ]
  },
  {
   "cell_type": "markdown",
   "metadata": {},
   "source": [
    "## HOM Dip Calculations\n",
    "We assume an arbitrary unitary transformation in 2-mode space :\n",
    "$$T=\\begin{bmatrix} \n",
    "\tA & B \\\\\n",
    "\tC & D \n",
    "\t\\end{bmatrix}$$\n",
    "\n",
    "We are interested in calculating the probability of observing a single photon in each output mode :\n",
    "\n",
    "$$\\mathcal{P(|11\\rangle)}=\\langle11|\\psi_{out}\\rangle=\\langle11|\\mathcal{U}|\\psi_{in}\\rangle$$\n",
    "\n",
    "After a series of calculations, we obtain the following result :\n",
    "\n",
    "$$\\mathcal{P(|11\\rangle)}=|A|^2|D|^2 + |B|^2|C|^2 + 2\\textrm{Re}(A^*D^*BC)\\left|\\int e^{-iz_0k}\\left|\\tilde{\\alpha}_1(k)\\right|^2dk\\right|^2$$\n",
    "\n",
    "We then plot this probability in function of the shift $z_0$.\n",
    "\n"
   ]
  },
  {
   "cell_type": "code",
   "execution_count": 24,
   "metadata": {},
   "outputs": [
    {
     "data": {
      "text/plain": [
       "Text(0.5, 1.0, 'HOM dip')"
      ]
     },
     "execution_count": 24,
     "metadata": {},
     "output_type": "execute_result"
    },
    {
     "data": {
      "image/png": "[encoded data removed]",
      "text/plain": [
       "<Figure size 640x480 with 1 Axes>"
      ]
     },
     "metadata": {},
     "output_type": "display_data"
    }
   ],
   "source": [
    "N=101\n",
    "env_type = 2 # 1 = Gaussian, 2 = exponential (envelope in space)\n",
    "\n",
    "\n",
    "if env_type == 1 :\n",
    "    #Gaussian Parameters\n",
    "    dz = 1e-8 #standard deviation in z\n",
    "    lam = 500*1e-9 #wave length\n",
    "    k0 = 2*np.pi/lam #mean k vector\n",
    "    dk=1/(2*dz) #standard deviation in k \n",
    "    z = np.linspace(-13*dz, 13*dz,N)\n",
    "    k = np.linspace(k0-13*dk, k0+13*dk, N)\n",
    "    z0 = np.linspace(-8*dz, 8*dz, 201) # z0 : length of shift between photons\n",
    "if env_type == 2 :\n",
    "    #Lorentizian Parameters\n",
    "    gamma = 1e8 #decaying factor in z\n",
    "    lam = 500*1e-9 #wave length\n",
    "    k0 = 2*np.pi/lam #mean k vector\n",
    "    z = np.linspace(-13/gamma,13/gamma, N)\n",
    "    k = np.linspace(k0-8*gamma,k0+8*gamma,N)\n",
    "    z0 = np.linspace(-8/gamma, 8/gamma, 201) # z0 : length of shift between photons\n",
    "\n",
    "\n",
    "# Beam splitter transfer matrix\n",
    "BS=1/np.sqrt(2) * np.array([[1,-1],[1,1]])\n",
    "A = BS[0,0]; B = BS[0,1]; C = BS[1,0]; D = BS[1,1]\n",
    "\n",
    "\n",
    "\n",
    "dip = np.zeros(len(z0))\n",
    "for i in range(len(z0)):\n",
    "    if env_type == 1 :\n",
    "        env1 = Gauss(0,dz,z)\n",
    "        env2 = Gauss(z0[i],dz,z)\n",
    "        env1_k = Gauss(k0,dk,k)\n",
    "        env2_k = np.exp(1j*k*z0[i])*env1_k\n",
    "    if env_type == 2 :\n",
    "        env1 = Exp(gamma,0,z)\n",
    "        env2 = Exp(gamma,z0[i],z)\n",
    "        env1_k = Lrz(gamma,k0,k)\n",
    "        env2_k = np.exp(1j*k*z0[i])*env1_k\n",
    "        \n",
    "    overlap = abs(sc.integrate.simps(env1_k*np.conj(env2_k),k))**2\n",
    "    Pr11 = abs(A)**2*abs(D)**2 + abs(B)**2*abs(C)**2 + 2*np.real(np.conj(A)*np.conj(D)*B*C)*overlap \n",
    "    dip[i] = Pr11\n",
    "    \n",
    "plt.figure()\n",
    "plt.plot(z0,dip)\n",
    "plt.xlabel(r\"$z_0$\")\n",
    "plt.ylabel(r\"$P(|11\\rangle)$\")\n",
    "plt.title(\"HOM dip\")\n"
   ]
  },
  {
   "cell_type": "markdown",
   "metadata": {},
   "source": [
    "Interactive display"
   ]
  },
  {
   "cell_type": "code",
   "execution_count": 25,
   "metadata": {},
   "outputs": [
    {
     "data": {
      "application/vnd.jupyter.widget-view+json": {
       "model_id": "4ad054628a814aef8a91125be81775fb",
       "version_major": 2,
       "version_minor": 0
      },
      "text/plain": [
       "interactive(children=(FloatSlider(value=0.0, description='Z0', max=8.0, min=-8.0, step=0.08), Output()), _dom_…"
      ]
     },
     "metadata": {},
     "output_type": "display_data"
    },
    {
     "data": {
      "text/plain": [
       "<function __main__.SHOW(Z0)>"
      ]
     },
     "execution_count": 25,
     "metadata": {},
     "output_type": "execute_result"
    }
   ],
   "source": [
    "def SHOW(Z0) :\n",
    "    if env_type == 1 :\n",
    "        i0=int(np.floor(((Z0+8)/16)*200)) #index of current point\n",
    "        #Gaussian Parameters\n",
    "        dz = 1e-8 #standard deviation in z\n",
    "        Z0=Z0*dz # multiplied by dz because slider doesn't accept small values (slider goes from -8 to 8)\n",
    "        lam = 500*1e-9 #wave length\n",
    "        k0 = 2*np.pi/lam #mean k vector\n",
    "        dk=1/(2*dz) #standard deviation in k \n",
    "        N=101\n",
    "        z = np.linspace(-13*dz, 13*dz,N)\n",
    "        k = np.linspace(-13*dk, 13*dk, N)\n",
    "        z0 = np.linspace(-8*dz, 8*dz, 201) # z0 : length of shift between photons\n",
    "        env1 = Gauss(0,dz,z)\n",
    "        env2 = Gauss(Z0,dz,z)\n",
    "        env1_k = Gauss(k0,dk,k)\n",
    "        env2_k = np.exp(1j*k*Z0)*env1_k\n",
    "    if env_type == 2 :\n",
    "        i0=int(np.floor(((Z0+8)/16)*200)) #index of current point\n",
    "        #Lorentizian Parameters\n",
    "        N=101\n",
    "        gamma = 1e8 #decaying factor in z\n",
    "        Z0=Z0/gamma\n",
    "        lam = 500*1e-9 #wave length\n",
    "        k0 = 2*np.pi/lam #mean k vector\n",
    "        z = np.linspace(-13/gamma,13/gamma, N)\n",
    "        k = np.linspace(k0-8*gamma,k0+8*gamma,N)\n",
    "        z0 = np.linspace(-8/gamma, 8/gamma, 201) # z0 : length of shift between photons\n",
    "\n",
    "        env1 = Exp(gamma,0,z)\n",
    "        env2 = Exp(gamma,Z0,z)\n",
    "        env1_k = Lrz(gamma,k0,k)\n",
    "        env2_k = np.exp(1j*k*Z0)*env1_k\n",
    "\n",
    "    #plot photon probability amplitudes\n",
    "    plt.figure(figsize=(10, 5))\n",
    "    plt.subplot(1,2,1)\n",
    "    plt.plot(z,abs(env1)**2)\n",
    "    plt.plot(z,abs(env2)**2)\n",
    "    plt.fill_between(z, abs(env2)**2, color='cyan',alpha=0.2)\n",
    "    plt.fill_between(z, abs(env2)**2, abs(env1)**2, color='white')\n",
    "    if env_type==1:\n",
    "        plt.xlim(-8*dz,8*dz)\n",
    "    if env_type==2:\n",
    "        plt.xlim(-8/gamma,8/gamma)\n",
    "    plt.xlabel(\"z\")\n",
    "    plt.ylabel(r\"$|\\alpha(z)|^2$\")\n",
    "    plt.title(\"Probability distributions for each photon in space\")\n",
    "    #plot HOM dip\n",
    "    plt.subplot(1,2,2)\n",
    "    plt.plot(z0,dip)\n",
    "    plt.xlabel(r\"$z_0$\")\n",
    "    plt.ylabel(r\"$P(|11\\rangle)$\")\n",
    "    plt.title(\"HOM dip\")\n",
    "    \n",
    "    plt.plot(Z0,dip[i0],marker='o',markersize=6)\n",
    "Z0=0\n",
    "Z0_slide = wg.FloatSlider(value=Z0,min=-8,max=8,step=16/200)\n",
    "wg.interact(SHOW, Z0=Z0_slide)\n"
   ]
  }
 ],
 "metadata": {
  "kernelspec": {
   "display_name": "Python 3.9.13 ('py39')",
   "language": "python",
   "name": "python3"
  },
  "language_info": {
   "codemirror_mode": {
    "name": "ipython",
    "version": 3
   },
   "file_extension": ".py",
   "mimetype": "text/x-python",
   "name": "python",
   "nbconvert_exporter": "python",
   "pygments_lexer": "ipython3",
   "version": "3.9.13 (main, Aug 25 2022, 18:29:29) \n[Clang 12.0.0 ]"
  },
  "orig_nbformat": 4,
  "vscode": {
   "interpreter": {
    "hash": "898f94b21feb777183c15fbce248ca55001b8c93961fcc05da4697c2e2f314d7"
   }
  }
 },
 "nbformat": 4,
 "nbformat_minor": 2
}
